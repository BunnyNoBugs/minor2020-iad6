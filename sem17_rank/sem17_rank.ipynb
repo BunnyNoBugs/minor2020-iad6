{
 "cells": [
  {
   "cell_type": "markdown",
   "metadata": {
    "colab_type": "text",
    "id": "oNqRKj5c4AXO"
   },
   "source": [
    "## Рекомендательные системы"
   ]
  },
  {
   "cell_type": "code",
   "execution_count": 3,
   "metadata": {},
   "outputs": [],
   "source": [
    "\"\"\"\n",
    "полезные ссылки:\n",
    "    \n",
    "https://www.kaggle.com/kanncaa1/recommendation-systems-tutorial\n",
    "https://blog.cambridgespark.com/tutorial-practical-introduction-to-recommender-systems-dbe22848392b\n",
    "https://datasciencebeginners.com/2018/10/31/ultimate-guide-on-how-to-build-recommender-systems-with-case-study/\n",
    "https://habr.com/ru/company/yandex/blog/241455/\n",
    "https://habr.com/ru/company/yandex/blog/441586/\n",
    "\"\"\";"
   ]
  },
  {
   "cell_type": "markdown",
   "metadata": {
    "colab_type": "text",
    "id": "ychQcodwwgfp"
   },
   "source": [
    "В этом ноутбуке мы применим алгоритм коллаборативной фильтрации на item-base подходе. Работать мы будем с датасетом MovieLens, который содержит в себе информацию об оценках фильмов пользователями одноименного сайта."
   ]
  },
  {
   "cell_type": "markdown",
   "metadata": {
    "colab_type": "text",
    "id": "KGJjO0IwxAfE"
   },
   "source": [
    "Давайте загрузим необходимые библиотеки."
   ]
  },
  {
   "cell_type": "code",
   "execution_count": 78,
   "metadata": {
    "colab": {},
    "colab_type": "code",
    "id": "HLW7bd6zw9zr"
   },
   "outputs": [],
   "source": [
    "import zipfile\n",
    "from collections import defaultdict, Counter\n",
    "import datetime\n",
    "import pandas as pd\n",
    "\n",
    "from scipy import linalg\n",
    "import scipy.sparse as sps\n",
    "import numpy as np\n",
    "import matplotlib.pyplot as plt"
   ]
  },
  {
   "cell_type": "markdown",
   "metadata": {
    "colab_type": "text",
    "id": "EPk20xPhxJt1"
   },
   "source": [
    "Скачаем данные"
   ]
  },
  {
   "cell_type": "code",
   "execution_count": 2,
   "metadata": {
    "colab": {
     "base_uri": "https://localhost:8080/",
     "height": 204
    },
    "colab_type": "code",
    "id": "zEjB8eDVxLHT",
    "outputId": "1a96bc9a-774e-4836-e7ad-589ca37f6855"
   },
   "outputs": [
    {
     "name": "stdout",
     "output_type": "stream",
     "text": [
      "--2020-06-02 23:53:59--  http://files.grouplens.org/datasets/movielens/ml-1m.zip\n",
      "Resolving files.grouplens.org (files.grouplens.org)... 128.101.65.152\n",
      "Connecting to files.grouplens.org (files.grouplens.org)|128.101.65.152|:80... connected.\n",
      "HTTP request sent, awaiting response... 200 OK\n",
      "Length: 5917549 (5.6M) [application/zip]\n",
      "Saving to: <<ml-1m.zip.2>>\n",
      "\n",
      "ml-1m.zip.2         100%[===================>]   5.64M  2.47MB/s    in 2.3s    \n",
      "\n",
      "2020-06-02 23:54:01 (2.47 MB/s) - <<ml-1m.zip.2>> saved [5917549/5917549]\n",
      "\n"
     ]
    }
   ],
   "source": [
    "!wget http://files.grouplens.org/datasets/movielens/ml-1m.zip"
   ]
  },
  {
   "cell_type": "markdown",
   "metadata": {
    "colab_type": "text",
    "id": "yWUPKaVkxSm4"
   },
   "source": [
    "Распакуем данные и посмотрим, как они устроены."
   ]
  },
  {
   "cell_type": "code",
   "execution_count": 2,
   "metadata": {
    "colab": {
     "base_uri": "https://localhost:8080/",
     "height": 153
    },
    "colab_type": "code",
    "id": "r_c6cxrl0x5_",
    "outputId": "8d680a1e-65a5-4a07-83a3-ee4b36372b1f"
   },
   "outputs": [
    {
     "name": "stdout",
     "output_type": "stream",
     "text": [
      "files in archive\n",
      "['ml-1m/', 'ml-1m/movies.dat', 'ml-1m/ratings.dat', 'ml-1m/README', 'ml-1m/users.dat']\n",
      "movies\n",
      "['b\"1', 'Toy Story (1995)', 'Animation|Children\\'s|Comedy\\\\n\"']\n",
      "users\n",
      "[\"b'1\", 'F', '1', '10', \"48067\\\\n'\"]\n",
      "ratings\n",
      "[\"b'1\", '1193', '5', \"978300760\\\\n'\"]\n"
     ]
    }
   ],
   "source": [
    "with zipfile.ZipFile(\"ml-1m.zip\", \"r\") as z:\n",
    "    print(\"files in archive\")\n",
    "    print(z.namelist())\n",
    "    print(\"movies\")\n",
    "    with z.open(\"ml-1m/movies.dat\") as m:\n",
    "        print(str(m.readline()).split(\"::\"))\n",
    "    print(\"users\")\n",
    "    with z.open(\"ml-1m/users.dat\") as m:\n",
    "        print(str(m.readline()).split(\"::\"))\n",
    "    print(\"ratings\")\n",
    "    with z.open(\"ml-1m/ratings.dat\") as m:\n",
    "        print(str(m.readline()).split(\"::\"))"
   ]
  },
  {
   "cell_type": "markdown",
   "metadata": {
    "colab_type": "text",
    "id": "aTVoUAir02Cb"
   },
   "source": [
    "Мы видим, что в архиве лежит информация о фильмах. Это movieId фильма, название и жанр. О пользователях нам известен userId, пол (F, M), возраст, закодированная информация о трудоуствройстве и zip-code. И информация о рейтинге: userId, movieId, оценка и момент времени, когда оценка была сделана. Давайте прочитаем данные."
   ]
  },
  {
   "cell_type": "code",
   "execution_count": 3,
   "metadata": {
    "colab": {},
    "colab_type": "code",
    "id": "CtB8oYg7qBzn"
   },
   "outputs": [],
   "source": [
    "# read data\n",
    "movies = {} # id\n",
    "users = {} # id\n",
    "ratings = defaultdict(list) # user-id\n",
    "\n",
    "with zipfile.ZipFile(\"ml-1m.zip\", \"r\") as z:\n",
    "    # parse movies\n",
    "    with z.open(\"ml-1m/movies.dat\") as m:\n",
    "        for line in m:\n",
    "            MovieID, Title, Genres = line.decode('iso-8859-1').strip().split(\"::\")\n",
    "            MovieID = int(MovieID)\n",
    "            Genres = Genres.split(\"|\")\n",
    "            movies[MovieID] = {\"Title\": Title, \"Genres\": Genres}\n",
    "    \n",
    "    # parse users\n",
    "    with z.open(\"ml-1m/users.dat\") as m:\n",
    "        fields = [\"UserID\", \"Gender\", \"Age\", \"Occupation\", \"Zip-code\"]\n",
    "        for line in m:\n",
    "            row = list(zip(fields, line.decode('iso-8859-1').strip().split(\"::\")))\n",
    "            data = dict(row[1:])\n",
    "            data[\"Occupation\"] = int(data[\"Occupation\"])\n",
    "            users[int(row[0][1])] = data\n",
    "    \n",
    "    # parse ratings\n",
    "    with z.open(\"ml-1m/ratings.dat\") as m:\n",
    "        for line in m:\n",
    "            UserID, MovieID, Rating, Timestamp = line.decode('iso-8859-1').strip().split(\"::\")\n",
    "            UserID = int(UserID)\n",
    "            MovieID = int(MovieID)\n",
    "            Rating = int(Rating)\n",
    "            Timestamp = int(Timestamp)\n",
    "            ratings[UserID].append((MovieID, Rating, datetime.datetime.fromtimestamp(Timestamp)))"
   ]
  },
  {
   "cell_type": "markdown",
   "metadata": {
    "colab_type": "text",
    "id": "zb4bgay23z5f"
   },
   "source": [
    "Посмотрим на данные"
   ]
  },
  {
   "cell_type": "code",
   "execution_count": 5,
   "metadata": {
    "colab": {
     "base_uri": "https://localhost:8080/",
     "height": 71
    },
    "colab_type": "code",
    "id": "CuTfmpcI3Oal",
    "outputId": "a75f1e05-b1fe-4317-a30a-603d3c0d00d6"
   },
   "outputs": [
    {
     "name": "stdout",
     "output_type": "stream",
     "text": [
      "{'Gender': 'M', 'Age': '25', 'Occupation': 15, 'Zip-code': '55117'}\n"
     ]
    }
   ],
   "source": [
    "print(users[3])"
   ]
  },
  {
   "cell_type": "code",
   "execution_count": 6,
   "metadata": {},
   "outputs": [
    {
     "name": "stdout",
     "output_type": "stream",
     "text": [
      "(2951, 4, datetime.datetime(2000, 12, 31, 23, 24, 42))\n"
     ]
    }
   ],
   "source": [
    "print(ratings[4][2])"
   ]
  },
  {
   "cell_type": "code",
   "execution_count": 7,
   "metadata": {},
   "outputs": [
    {
     "data": {
      "text/plain": [
       "6040"
      ]
     },
     "execution_count": 7,
     "metadata": {},
     "output_type": "execute_result"
    }
   ],
   "source": [
    "len(ratings)"
   ]
  },
  {
   "cell_type": "code",
   "execution_count": 9,
   "metadata": {},
   "outputs": [],
   "source": [
    "a = ratings.values()"
   ]
  },
  {
   "cell_type": "code",
   "execution_count": 10,
   "metadata": {},
   "outputs": [],
   "source": [
    "a = list(a)"
   ]
  },
  {
   "cell_type": "code",
   "execution_count": 12,
   "metadata": {},
   "outputs": [
    {
     "data": {
      "text/plain": [
       "[(1193, 5, datetime.datetime(2001, 1, 1, 1, 12, 40)),\n",
       " (661, 3, datetime.datetime(2001, 1, 1, 1, 35, 9)),\n",
       " (914, 3, datetime.datetime(2001, 1, 1, 1, 32, 48)),\n",
       " (3408, 4, datetime.datetime(2001, 1, 1, 1, 4, 35)),\n",
       " (2355, 5, datetime.datetime(2001, 1, 7, 2, 38, 11)),\n",
       " (1197, 3, datetime.datetime(2001, 1, 1, 1, 37, 48)),\n",
       " (1287, 5, datetime.datetime(2001, 1, 1, 1, 33, 59)),\n",
       " (2804, 5, datetime.datetime(2001, 1, 1, 1, 11, 59)),\n",
       " (594, 4, datetime.datetime(2001, 1, 1, 1, 37, 48)),\n",
       " (919, 4, datetime.datetime(2001, 1, 1, 1, 22, 48)),\n",
       " (595, 5, datetime.datetime(2001, 1, 7, 2, 37, 48)),\n",
       " (938, 4, datetime.datetime(2001, 1, 1, 1, 29, 12)),\n",
       " (2398, 4, datetime.datetime(2001, 1, 1, 1, 38, 1)),\n",
       " (2918, 4, datetime.datetime(2001, 1, 1, 1, 35, 24)),\n",
       " (1035, 5, datetime.datetime(2001, 1, 1, 1, 29, 13)),\n",
       " (2791, 4, datetime.datetime(2001, 1, 1, 1, 36, 28)),\n",
       " (2687, 3, datetime.datetime(2001, 1, 7, 2, 37, 48)),\n",
       " (2018, 4, datetime.datetime(2001, 1, 1, 1, 29, 37)),\n",
       " (3105, 5, datetime.datetime(2001, 1, 1, 1, 28, 33)),\n",
       " (2797, 4, datetime.datetime(2001, 1, 1, 1, 33, 59))]"
      ]
     },
     "execution_count": 12,
     "metadata": {},
     "output_type": "execute_result"
    }
   ],
   "source": [
    "a[0][:20]"
   ]
  },
  {
   "cell_type": "markdown",
   "metadata": {
    "colab_type": "text",
    "id": "HiIzOAdn4hdU"
   },
   "source": [
    "Теперь разобьем данные на тренировочную и тестовую выборку. Разбивать будем рейтинги по времени. Для начала найдем дату на которую было выставленно 80% рейтингов в датасете. И все рейтинги, что были до, попадут в train, а остальные в test."
   ]
  },
  {
   "cell_type": "code",
   "execution_count": 13,
   "metadata": {
    "colab": {},
    "colab_type": "code",
    "id": "a-raaLKQ5NcU"
   },
   "outputs": [],
   "source": [
    "times = []\n",
    "for user_ratings in ratings.values():\n",
    "    times.extend([x[2] for x in user_ratings])"
   ]
  },
  {
   "cell_type": "code",
   "execution_count": 14,
   "metadata": {
    "colab": {},
    "colab_type": "code",
    "id": "wgkiECze5ZI_"
   },
   "outputs": [],
   "source": [
    "times = sorted(times)"
   ]
  },
  {
   "cell_type": "code",
   "execution_count": 15,
   "metadata": {
    "colab": {},
    "colab_type": "code",
    "id": "bxt0kai75iYf"
   },
   "outputs": [],
   "source": [
    "threshold_time = times[int(0.8 * len(times))]"
   ]
  },
  {
   "cell_type": "code",
   "execution_count": 16,
   "metadata": {
    "colab": {
     "base_uri": "https://localhost:8080/",
     "height": 51
    },
    "colab_type": "code",
    "id": "x-JKj56U3myp",
    "outputId": "94fe9c5e-d4af-4bbf-acea-6e25e8606ae1",
    "scrolled": true
   },
   "outputs": [
    {
     "name": "stdout",
     "output_type": "stream",
     "text": [
      "ratings in train: 800168\n",
      "ratings in test: 200041\n"
     ]
    }
   ],
   "source": [
    "train = []\n",
    "test = []\n",
    "for user_id, user_ratings in ratings.items():\n",
    "    train.extend((user_id, rating[0], rating[1] / 5.0) for rating in user_ratings if rating[2] <= threshold_time)\n",
    "    test.extend((user_id, rating[0], rating[1] / 5.0) for rating in user_ratings if rating[2] > threshold_time)\n",
    "print(\"ratings in train:\", len(train))\n",
    "print(\"ratings in test:\", len(test))"
   ]
  },
  {
   "cell_type": "code",
   "execution_count": 79,
   "metadata": {},
   "outputs": [],
   "source": [
    "train_df = pd.DataFrame(train, columns=['uid', 'iid', 'rating'])"
   ]
  },
  {
   "cell_type": "code",
   "execution_count": 86,
   "metadata": {},
   "outputs": [
    {
     "data": {
      "text/html": [
       "<div>\n",
       "<style scoped>\n",
       "    .dataframe tbody tr th:only-of-type {\n",
       "        vertical-align: middle;\n",
       "    }\n",
       "\n",
       "    .dataframe tbody tr th {\n",
       "        vertical-align: top;\n",
       "    }\n",
       "\n",
       "    .dataframe thead th {\n",
       "        text-align: right;\n",
       "    }\n",
       "</style>\n",
       "<table border=\"1\" class=\"dataframe\">\n",
       "  <thead>\n",
       "    <tr style=\"text-align: right;\">\n",
       "      <th>iid</th>\n",
       "      <th>1</th>\n",
       "      <th>2</th>\n",
       "      <th>3</th>\n",
       "      <th>4</th>\n",
       "      <th>5</th>\n",
       "      <th>6</th>\n",
       "      <th>7</th>\n",
       "      <th>8</th>\n",
       "      <th>9</th>\n",
       "      <th>10</th>\n",
       "      <th>...</th>\n",
       "      <th>3943</th>\n",
       "      <th>3944</th>\n",
       "      <th>3945</th>\n",
       "      <th>3946</th>\n",
       "      <th>3947</th>\n",
       "      <th>3948</th>\n",
       "      <th>3949</th>\n",
       "      <th>3950</th>\n",
       "      <th>3951</th>\n",
       "      <th>3952</th>\n",
       "    </tr>\n",
       "    <tr>\n",
       "      <th>uid</th>\n",
       "      <th></th>\n",
       "      <th></th>\n",
       "      <th></th>\n",
       "      <th></th>\n",
       "      <th></th>\n",
       "      <th></th>\n",
       "      <th></th>\n",
       "      <th></th>\n",
       "      <th></th>\n",
       "      <th></th>\n",
       "      <th></th>\n",
       "      <th></th>\n",
       "      <th></th>\n",
       "      <th></th>\n",
       "      <th></th>\n",
       "      <th></th>\n",
       "      <th></th>\n",
       "      <th></th>\n",
       "      <th></th>\n",
       "      <th></th>\n",
       "      <th></th>\n",
       "    </tr>\n",
       "  </thead>\n",
       "  <tbody>\n",
       "    <tr>\n",
       "      <td>635</td>\n",
       "      <td>NaN</td>\n",
       "      <td>NaN</td>\n",
       "      <td>NaN</td>\n",
       "      <td>NaN</td>\n",
       "      <td>NaN</td>\n",
       "      <td>NaN</td>\n",
       "      <td>NaN</td>\n",
       "      <td>NaN</td>\n",
       "      <td>NaN</td>\n",
       "      <td>NaN</td>\n",
       "      <td>...</td>\n",
       "      <td>NaN</td>\n",
       "      <td>NaN</td>\n",
       "      <td>NaN</td>\n",
       "      <td>NaN</td>\n",
       "      <td>NaN</td>\n",
       "      <td>0.8</td>\n",
       "      <td>NaN</td>\n",
       "      <td>NaN</td>\n",
       "      <td>NaN</td>\n",
       "      <td>NaN</td>\n",
       "    </tr>\n",
       "    <tr>\n",
       "      <td>636</td>\n",
       "      <td>NaN</td>\n",
       "      <td>NaN</td>\n",
       "      <td>NaN</td>\n",
       "      <td>NaN</td>\n",
       "      <td>NaN</td>\n",
       "      <td>NaN</td>\n",
       "      <td>NaN</td>\n",
       "      <td>NaN</td>\n",
       "      <td>NaN</td>\n",
       "      <td>NaN</td>\n",
       "      <td>...</td>\n",
       "      <td>NaN</td>\n",
       "      <td>NaN</td>\n",
       "      <td>NaN</td>\n",
       "      <td>NaN</td>\n",
       "      <td>NaN</td>\n",
       "      <td>NaN</td>\n",
       "      <td>NaN</td>\n",
       "      <td>NaN</td>\n",
       "      <td>NaN</td>\n",
       "      <td>NaN</td>\n",
       "    </tr>\n",
       "    <tr>\n",
       "      <td>637</td>\n",
       "      <td>1.0</td>\n",
       "      <td>NaN</td>\n",
       "      <td>NaN</td>\n",
       "      <td>NaN</td>\n",
       "      <td>NaN</td>\n",
       "      <td>NaN</td>\n",
       "      <td>NaN</td>\n",
       "      <td>NaN</td>\n",
       "      <td>NaN</td>\n",
       "      <td>NaN</td>\n",
       "      <td>...</td>\n",
       "      <td>NaN</td>\n",
       "      <td>NaN</td>\n",
       "      <td>NaN</td>\n",
       "      <td>NaN</td>\n",
       "      <td>NaN</td>\n",
       "      <td>NaN</td>\n",
       "      <td>NaN</td>\n",
       "      <td>NaN</td>\n",
       "      <td>NaN</td>\n",
       "      <td>NaN</td>\n",
       "    </tr>\n",
       "    <tr>\n",
       "      <td>638</td>\n",
       "      <td>NaN</td>\n",
       "      <td>NaN</td>\n",
       "      <td>NaN</td>\n",
       "      <td>NaN</td>\n",
       "      <td>NaN</td>\n",
       "      <td>NaN</td>\n",
       "      <td>NaN</td>\n",
       "      <td>NaN</td>\n",
       "      <td>NaN</td>\n",
       "      <td>NaN</td>\n",
       "      <td>...</td>\n",
       "      <td>NaN</td>\n",
       "      <td>NaN</td>\n",
       "      <td>NaN</td>\n",
       "      <td>NaN</td>\n",
       "      <td>NaN</td>\n",
       "      <td>NaN</td>\n",
       "      <td>NaN</td>\n",
       "      <td>NaN</td>\n",
       "      <td>NaN</td>\n",
       "      <td>NaN</td>\n",
       "    </tr>\n",
       "    <tr>\n",
       "      <td>639</td>\n",
       "      <td>NaN</td>\n",
       "      <td>NaN</td>\n",
       "      <td>NaN</td>\n",
       "      <td>NaN</td>\n",
       "      <td>NaN</td>\n",
       "      <td>NaN</td>\n",
       "      <td>NaN</td>\n",
       "      <td>NaN</td>\n",
       "      <td>NaN</td>\n",
       "      <td>NaN</td>\n",
       "      <td>...</td>\n",
       "      <td>NaN</td>\n",
       "      <td>NaN</td>\n",
       "      <td>NaN</td>\n",
       "      <td>NaN</td>\n",
       "      <td>NaN</td>\n",
       "      <td>NaN</td>\n",
       "      <td>NaN</td>\n",
       "      <td>NaN</td>\n",
       "      <td>NaN</td>\n",
       "      <td>NaN</td>\n",
       "    </tr>\n",
       "    <tr>\n",
       "      <td>640</td>\n",
       "      <td>NaN</td>\n",
       "      <td>NaN</td>\n",
       "      <td>NaN</td>\n",
       "      <td>NaN</td>\n",
       "      <td>NaN</td>\n",
       "      <td>0.8</td>\n",
       "      <td>NaN</td>\n",
       "      <td>NaN</td>\n",
       "      <td>NaN</td>\n",
       "      <td>NaN</td>\n",
       "      <td>...</td>\n",
       "      <td>NaN</td>\n",
       "      <td>NaN</td>\n",
       "      <td>NaN</td>\n",
       "      <td>NaN</td>\n",
       "      <td>NaN</td>\n",
       "      <td>NaN</td>\n",
       "      <td>NaN</td>\n",
       "      <td>NaN</td>\n",
       "      <td>NaN</td>\n",
       "      <td>NaN</td>\n",
       "    </tr>\n",
       "    <tr>\n",
       "      <td>641</td>\n",
       "      <td>NaN</td>\n",
       "      <td>0.8</td>\n",
       "      <td>NaN</td>\n",
       "      <td>NaN</td>\n",
       "      <td>NaN</td>\n",
       "      <td>NaN</td>\n",
       "      <td>NaN</td>\n",
       "      <td>NaN</td>\n",
       "      <td>NaN</td>\n",
       "      <td>NaN</td>\n",
       "      <td>...</td>\n",
       "      <td>NaN</td>\n",
       "      <td>NaN</td>\n",
       "      <td>NaN</td>\n",
       "      <td>NaN</td>\n",
       "      <td>NaN</td>\n",
       "      <td>NaN</td>\n",
       "      <td>NaN</td>\n",
       "      <td>NaN</td>\n",
       "      <td>NaN</td>\n",
       "      <td>NaN</td>\n",
       "    </tr>\n",
       "    <tr>\n",
       "      <td>642</td>\n",
       "      <td>NaN</td>\n",
       "      <td>NaN</td>\n",
       "      <td>NaN</td>\n",
       "      <td>NaN</td>\n",
       "      <td>NaN</td>\n",
       "      <td>NaN</td>\n",
       "      <td>NaN</td>\n",
       "      <td>NaN</td>\n",
       "      <td>NaN</td>\n",
       "      <td>NaN</td>\n",
       "      <td>...</td>\n",
       "      <td>NaN</td>\n",
       "      <td>NaN</td>\n",
       "      <td>NaN</td>\n",
       "      <td>NaN</td>\n",
       "      <td>NaN</td>\n",
       "      <td>NaN</td>\n",
       "      <td>NaN</td>\n",
       "      <td>NaN</td>\n",
       "      <td>NaN</td>\n",
       "      <td>NaN</td>\n",
       "    </tr>\n",
       "    <tr>\n",
       "      <td>643</td>\n",
       "      <td>NaN</td>\n",
       "      <td>NaN</td>\n",
       "      <td>NaN</td>\n",
       "      <td>NaN</td>\n",
       "      <td>NaN</td>\n",
       "      <td>NaN</td>\n",
       "      <td>NaN</td>\n",
       "      <td>NaN</td>\n",
       "      <td>NaN</td>\n",
       "      <td>NaN</td>\n",
       "      <td>...</td>\n",
       "      <td>NaN</td>\n",
       "      <td>NaN</td>\n",
       "      <td>NaN</td>\n",
       "      <td>NaN</td>\n",
       "      <td>NaN</td>\n",
       "      <td>NaN</td>\n",
       "      <td>NaN</td>\n",
       "      <td>NaN</td>\n",
       "      <td>NaN</td>\n",
       "      <td>NaN</td>\n",
       "    </tr>\n",
       "    <tr>\n",
       "      <td>644</td>\n",
       "      <td>NaN</td>\n",
       "      <td>NaN</td>\n",
       "      <td>NaN</td>\n",
       "      <td>NaN</td>\n",
       "      <td>NaN</td>\n",
       "      <td>NaN</td>\n",
       "      <td>NaN</td>\n",
       "      <td>NaN</td>\n",
       "      <td>NaN</td>\n",
       "      <td>NaN</td>\n",
       "      <td>...</td>\n",
       "      <td>NaN</td>\n",
       "      <td>NaN</td>\n",
       "      <td>NaN</td>\n",
       "      <td>NaN</td>\n",
       "      <td>NaN</td>\n",
       "      <td>0.8</td>\n",
       "      <td>NaN</td>\n",
       "      <td>NaN</td>\n",
       "      <td>NaN</td>\n",
       "      <td>NaN</td>\n",
       "    </tr>\n",
       "  </tbody>\n",
       "</table>\n",
       "<p>10 rows × 3662 columns</p>\n",
       "</div>"
      ],
      "text/plain": [
       "iid  1     2     3     4     5     6     7     8     9     10    ...  3943  \\\n",
       "uid                                                              ...         \n",
       "635   NaN   NaN   NaN   NaN   NaN   NaN   NaN   NaN   NaN   NaN  ...   NaN   \n",
       "636   NaN   NaN   NaN   NaN   NaN   NaN   NaN   NaN   NaN   NaN  ...   NaN   \n",
       "637   1.0   NaN   NaN   NaN   NaN   NaN   NaN   NaN   NaN   NaN  ...   NaN   \n",
       "638   NaN   NaN   NaN   NaN   NaN   NaN   NaN   NaN   NaN   NaN  ...   NaN   \n",
       "639   NaN   NaN   NaN   NaN   NaN   NaN   NaN   NaN   NaN   NaN  ...   NaN   \n",
       "640   NaN   NaN   NaN   NaN   NaN   0.8   NaN   NaN   NaN   NaN  ...   NaN   \n",
       "641   NaN   0.8   NaN   NaN   NaN   NaN   NaN   NaN   NaN   NaN  ...   NaN   \n",
       "642   NaN   NaN   NaN   NaN   NaN   NaN   NaN   NaN   NaN   NaN  ...   NaN   \n",
       "643   NaN   NaN   NaN   NaN   NaN   NaN   NaN   NaN   NaN   NaN  ...   NaN   \n",
       "644   NaN   NaN   NaN   NaN   NaN   NaN   NaN   NaN   NaN   NaN  ...   NaN   \n",
       "\n",
       "iid  3944  3945  3946  3947  3948  3949  3950  3951  3952  \n",
       "uid                                                        \n",
       "635   NaN   NaN   NaN   NaN   0.8   NaN   NaN   NaN   NaN  \n",
       "636   NaN   NaN   NaN   NaN   NaN   NaN   NaN   NaN   NaN  \n",
       "637   NaN   NaN   NaN   NaN   NaN   NaN   NaN   NaN   NaN  \n",
       "638   NaN   NaN   NaN   NaN   NaN   NaN   NaN   NaN   NaN  \n",
       "639   NaN   NaN   NaN   NaN   NaN   NaN   NaN   NaN   NaN  \n",
       "640   NaN   NaN   NaN   NaN   NaN   NaN   NaN   NaN   NaN  \n",
       "641   NaN   NaN   NaN   NaN   NaN   NaN   NaN   NaN   NaN  \n",
       "642   NaN   NaN   NaN   NaN   NaN   NaN   NaN   NaN   NaN  \n",
       "643   NaN   NaN   NaN   NaN   NaN   NaN   NaN   NaN   NaN  \n",
       "644   NaN   NaN   NaN   NaN   0.8   NaN   NaN   NaN   NaN  \n",
       "\n",
       "[10 rows x 3662 columns]"
      ]
     },
     "execution_count": 86,
     "metadata": {},
     "output_type": "execute_result"
    }
   ],
   "source": [
    "pivot_table = train_df.pivot_table(index = [\"uid\"],columns = [\"iid\"],values = \"rating\")\n",
    "pivot_table.head(10)"
   ]
  },
  {
   "cell_type": "code",
   "execution_count": 87,
   "metadata": {},
   "outputs": [
    {
     "data": {
      "text/plain": [
       "(5400, 3662)"
      ]
     },
     "execution_count": 87,
     "metadata": {},
     "output_type": "execute_result"
    }
   ],
   "source": [
    "pivot_table.shape"
   ]
  },
  {
   "cell_type": "code",
   "execution_count": 111,
   "metadata": {},
   "outputs": [
    {
     "data": {
      "text/plain": [
       "iid\n",
       "1421    1.000000\n",
       "148     1.000000\n",
       "2342    1.000000\n",
       "3855    1.000000\n",
       "1657    1.000000\n",
       "          ...   \n",
       "3913    0.866025\n",
       "3570    0.866025\n",
       "626     0.859338\n",
       "846     0.849536\n",
       "2131    0.845906\n",
       "Length: 100, dtype: float64"
      ]
     },
     "execution_count": 111,
     "metadata": {},
     "output_type": "execute_result"
    }
   ],
   "source": [
    "movie_watched = pivot_table[2]\n",
    "similarity_with_other_movies = pivot_table.corrwith(movie_watched)\n",
    "similarity_with_other_movies = similarity_with_other_movies.sort_values(ascending=False)\n",
    "similarity_with_other_movies.head(100)"
   ]
  },
  {
   "cell_type": "code",
   "execution_count": 136,
   "metadata": {},
   "outputs": [
    {
     "data": {
      "text/plain": [
       "uid\n",
       "3264    1.000000\n",
       "4421    1.000000\n",
       "4151    1.000000\n",
       "874     1.000000\n",
       "651     1.000000\n",
       "          ...   \n",
       "2640    0.807692\n",
       "3124    0.805659\n",
       "1956    0.804783\n",
       "1371    0.804030\n",
       "1907    0.802955\n",
       "Length: 100, dtype: float64"
      ]
     },
     "execution_count": 136,
     "metadata": {},
     "output_type": "execute_result"
    }
   ],
   "source": [
    "user_id = pivot_table.loc[651]\n",
    "similarity_with_other_users = pivot_table.corrwith(user_id, axis=1)\n",
    "similarity_with_other_users = similarity_with_other_users.sort_values(ascending=False)\n",
    "similarity_with_other_users.head(100)"
   ]
  },
  {
   "cell_type": "code",
   "execution_count": 127,
   "metadata": {},
   "outputs": [],
   "source": [
    "def get_user_sim(uid_1, uid_2):\n",
    "    user_id = pivot_table.loc[uid_1]\n",
    "    similarity_with_other_users = pivot_table.corrwith(user_id, axis=1)\n",
    "    similarity_with_other_users = similarity_with_other_users.sort_values(ascending=False)\n",
    "    corr = similarity_with_other_users[uid_2]\n",
    "    if np.isnan(corr):\n",
    "        return 0\n",
    "    else:\n",
    "        return corr"
   ]
  },
  {
   "cell_type": "code",
   "execution_count": 138,
   "metadata": {},
   "outputs": [
    {
     "data": {
      "text/plain": [
       "0.8029550685469663"
      ]
     },
     "execution_count": 138,
     "metadata": {},
     "output_type": "execute_result"
    }
   ],
   "source": [
    "get_user_sim(651, 1907)"
   ]
  },
  {
   "cell_type": "code",
   "execution_count": 169,
   "metadata": {},
   "outputs": [],
   "source": [
    "def get_rat(uid, iid):\n",
    "    u_mean = pivot_table.loc[uid].mean()\n",
    "    user_id = pivot_table.loc[uid]\n",
    "    similarity_with_other_users = pivot_table.corrwith(user_id, axis=1)\n",
    "    add = (((pivot_table[iid] - pivot_table.mean(axis=1)) * \n",
    "            similarity_with_other_users).sum() / similarity_with_other_users.sum())\n",
    "    return u_mean + add "
   ]
  },
  {
   "cell_type": "code",
   "execution_count": 174,
   "metadata": {},
   "outputs": [
    {
     "data": {
      "text/plain": [
       "0.7416224362684901"
      ]
     },
     "execution_count": 174,
     "metadata": {},
     "output_type": "execute_result"
    }
   ],
   "source": [
    "get_rat(639, 7)"
   ]
  },
  {
   "cell_type": "code",
   "execution_count": 177,
   "metadata": {},
   "outputs": [
    {
     "data": {
      "text/plain": [
       "[(2051, 0.6),\n",
       " (1250, 0.6),\n",
       " (3793, 0.8),\n",
       " (2991, 0.8),\n",
       " (2054, 0.8),\n",
       " (2055, 0.8),\n",
       " (1253, 0.8),\n",
       " (2993, 0.6),\n",
       " (2056, 0.8),\n",
       " (2057, 0.6)]"
      ]
     },
     "execution_count": 177,
     "metadata": {},
     "output_type": "execute_result"
    }
   ],
   "source": [
    "test_rats = test_by_user[639][:10]\n",
    "test_rats"
   ]
  },
  {
   "cell_type": "code",
   "execution_count": 180,
   "metadata": {},
   "outputs": [],
   "source": [
    "pred_rats = [get_rat(639, i[0]) for i in test_rats]"
   ]
  },
  {
   "cell_type": "code",
   "execution_count": 181,
   "metadata": {},
   "outputs": [
    {
     "data": {
      "text/plain": [
       "[0.733831464383334,\n",
       " 0.7597760358147008,\n",
       " 0.7514682720382363,\n",
       " 0.7365093043923043,\n",
       " 0.7182065391333685,\n",
       " 0.7379815462849528,\n",
       " 0.7442018565564176,\n",
       " 0.7379248436332352,\n",
       " 0.7394989714491438,\n",
       " 0.7395262101939952]"
      ]
     },
     "execution_count": 181,
     "metadata": {},
     "output_type": "execute_result"
    }
   ],
   "source": [
    "pred_rats"
   ]
  },
  {
   "cell_type": "markdown",
   "metadata": {
    "colab_type": "text",
    "id": "l6wwTNbPc_E7"
   },
   "source": [
    "## ALS факторизация"
   ]
  },
  {
   "cell_type": "markdown",
   "metadata": {
    "colab_type": "text",
    "id": "mkkl3NYzqRiv"
   },
   "source": [
    "В этом подходе оценка $r_{ui}$ пользователя $u$, поставленная фильму $i$, ищется как скалярное произведение векторов $p_u$ и $q_i$ в некотором пространстве $\\mathbb{R}^K$ латентных признаков:\n",
    "\n",
    "$$\n",
    "\t\\hat{r}_{ui} = p_u^T q_i \n",
    "$$\n",
    "\n",
    "\n",
    "Иными словами, модель находит пространство признаков, в котором мы описываем и фильмы и пользователей и в котором рейтинг является мерой близости между фильмами и пользователями.\n",
    "\t\n",
    "Для настройки модели будем минимизировать следующую ошибку:\n",
    "\t$$\n",
    "\t\\sum_{(u, i, r_{ui})} (r_{ui} - p_u^T q_i)^2 + \\lambda_{p} p_u^T p_u + \\lambda_{q} q_i^T q_i,\n",
    "\t$$\n",
    "\tгде суммирование ведется по всем тройкам $(u, i, r_{ui})$ выборки, слагаемые с $\\lambda_{p}$ и $\\lambda_{q}$ добавлены для регуляризации.\n"
   ]
  },
  {
   "cell_type": "code",
   "execution_count": 61,
   "metadata": {
    "colab": {},
    "colab_type": "code",
    "id": "ByMsZhx8dDNw"
   },
   "outputs": [],
   "source": [
    "LATENT_SIZE = 10\n",
    "\n",
    "# регуляризаторы\n",
    "lambda_p = 0.2\n",
    "lambda_q = 0.001"
   ]
  },
  {
   "cell_type": "markdown",
   "metadata": {
    "colab_type": "text",
    "id": "ZSzzU66Ndoj4"
   },
   "source": [
    "\n",
    "\n",
    "Рассмотрим работу алгоритма ALS, продолжая работать с данными Movielens.\n",
    "\n",
    "Посчитаем количество пользователей и фильмов"
   ]
  },
  {
   "cell_type": "code",
   "execution_count": 62,
   "metadata": {
    "colab": {},
    "colab_type": "code",
    "id": "n4-Q9Mmxeuor"
   },
   "outputs": [],
   "source": [
    "n_users = max([e[0] for e in train]) + 1\n",
    "n_items = max([e[1] for e in train]) + 1"
   ]
  },
  {
   "cell_type": "markdown",
   "metadata": {
    "colab_type": "text",
    "id": "wHMGiQrRmG82"
   },
   "source": [
    "Инициализируем латентные представления для пользователей"
   ]
  },
  {
   "cell_type": "code",
   "execution_count": 63,
   "metadata": {
    "colab": {},
    "colab_type": "code",
    "id": "ackKyutcenze"
   },
   "outputs": [],
   "source": [
    "p = 0.1 * np.random.random((n_users, LATENT_SIZE))\n",
    "q = 0.1 * np.random.random((n_items, LATENT_SIZE))"
   ]
  },
  {
   "cell_type": "markdown",
   "metadata": {
    "colab_type": "text",
    "id": "IQfdyhVXoLTV"
   },
   "source": [
    "Составим словарь взаимодействий по фильму"
   ]
  },
  {
   "cell_type": "code",
   "execution_count": 64,
   "metadata": {
    "colab": {},
    "colab_type": "code",
    "id": "0Edxk5UHelem"
   },
   "outputs": [],
   "source": [
    "train_by_item = defaultdict(list)\n",
    "for u, i, r in train:\n",
    "    train_by_item[i].append((u, r))"
   ]
  },
  {
   "cell_type": "markdown",
   "metadata": {
    "colab_type": "text",
    "id": "4vupJZ-ypSXk"
   },
   "source": [
    "Теперь составим матрицу $P$ из векторов $p_u$ и матрицу $Q$ из векторов $q_i$. Матрицей $Q[u] \\in \\mathbb{R}^{n_u \\times K}$ будем обозначать подматрицу матрицы $Q$ только для товаров, оцененных пользователем $u$, где $n_u$ - количество оценок пользователя $u$.\n",
    "\t\n",
    "Шаг перенастройки $p_u$ при фиксированной матрице $Q$ сводится к настройке ridge-регрессии и выглядит так:\n",
    "\t$$\n",
    "\tA_u = Q[u]^T Q[u] \\\\\n",
    "\td_u = Q[u]^T r_u \\\\\n",
    "\tp_u = (\\lambda_p n_u I + A_u)^{-1} d_u\n",
    "\t$$"
   ]
  },
  {
   "cell_type": "code",
   "execution_count": 65,
   "metadata": {
    "colab": {},
    "colab_type": "code",
    "id": "sTcvR2P4kfSo"
   },
   "outputs": [],
   "source": [
    "def compute_p(p, q, train_by_user):\n",
    "    for u, rated in train_by_user.items():\n",
    "        rated_items = [i for i, _ in rated]\n",
    "        rated_scores = np.array([r for _, r in rated])\n",
    "        Q = q[rated_items, :]\n",
    "        A = (Q.T).dot(Q)\n",
    "        d = (Q.T).dot(rated_scores)\n",
    "        p[u, :] = np.linalg.solve(lambda_p * len(rated_items) * np.eye(LATENT_SIZE) + A, d)\n",
    "    return p\n",
    "\n",
    "p = compute_p(p, q, train_by_user)"
   ]
  },
  {
   "cell_type": "code",
   "execution_count": 66,
   "metadata": {
    "colab": {
     "base_uri": "https://localhost:8080/",
     "height": 34
    },
    "colab_type": "code",
    "id": "fyW1NAMmEMFk",
    "outputId": "6a60e3d3-a2d1-47f2-91d5-0e9af24b56ad"
   },
   "outputs": [
    {
     "data": {
      "text/plain": [
       "(6041, 10)"
      ]
     },
     "execution_count": 66,
     "metadata": {},
     "output_type": "execute_result"
    }
   ],
   "source": [
    "p.shape"
   ]
  },
  {
   "cell_type": "markdown",
   "metadata": {
    "colab_type": "text",
    "id": "UjcNJKpypiP0"
   },
   "source": [
    "\n",
    "Формулы для обновления $q_i$ при фиксированной матрице $P$ выглядят аналогично, реализация будет выглядеть следующим образом:\n"
   ]
  },
  {
   "cell_type": "code",
   "execution_count": 67,
   "metadata": {
    "colab": {},
    "colab_type": "code",
    "id": "cerCwd7Qkfa6"
   },
   "outputs": [],
   "source": [
    "def compute_q(p, q, train_by_item):\n",
    "    for i, rated in train_by_item.items():\n",
    "        rated_users = [j for j, _ in rated]\n",
    "        rated_scores = np.array([s for _, s in rated])\n",
    "        P = p[rated_users, :]\n",
    "        A = (P.T).dot(P)\n",
    "        d = (P.T).dot(rated_scores)\n",
    "        q[i, :] = np.linalg.solve(lambda_q * len(rated_users) * np.eye(LATENT_SIZE) + A, d)\n",
    "    return q\n",
    "\n",
    "q = compute_q(p, q, train_by_item)"
   ]
  },
  {
   "cell_type": "code",
   "execution_count": 68,
   "metadata": {
    "colab": {
     "base_uri": "https://localhost:8080/",
     "height": 34
    },
    "colab_type": "code",
    "id": "goCvziL7FWE1",
    "outputId": "4fbd0d19-1401-4370-9eb1-526b0473e383"
   },
   "outputs": [
    {
     "data": {
      "text/plain": [
       "(3953, 10)"
      ]
     },
     "execution_count": 68,
     "metadata": {},
     "output_type": "execute_result"
    }
   ],
   "source": [
    "q.shape"
   ]
  },
  {
   "cell_type": "markdown",
   "metadata": {
    "colab_type": "text",
    "id": "Vi7bqYQvreKv"
   },
   "source": [
    "Теперь мы можем сделать предсказание всей матрицы оценок"
   ]
  },
  {
   "cell_type": "code",
   "execution_count": 69,
   "metadata": {
    "colab": {},
    "colab_type": "code",
    "id": "-O_pNNCyr7sH"
   },
   "outputs": [],
   "source": [
    "predictions = p.dot(q.T)"
   ]
  },
  {
   "cell_type": "markdown",
   "metadata": {
    "colab_type": "text",
    "id": "h0ie6BIer_24"
   },
   "source": [
    "Качество работы модели будем определять по среднеквадратичной ошибке между рейтингом и предсказанием"
   ]
  },
  {
   "cell_type": "code",
   "execution_count": 70,
   "metadata": {
    "colab": {},
    "colab_type": "code",
    "id": "-ubv98fksJZF"
   },
   "outputs": [],
   "source": [
    "def train_error(predictions):\n",
    "    return np.mean([(predictions[u, i] - r) ** 2 for u, i, r in train])\n",
    "\n",
    "def test_error(predictions):\n",
    "    return np.mean([(predictions[u, i] - r) ** 2 for u, i, r in test])"
   ]
  },
  {
   "cell_type": "markdown",
   "metadata": {
    "colab_type": "text",
    "id": "AvhpwcJSspbP"
   },
   "source": [
    "Теперь полностью реализуем метод: в ALS проводятся $N$ итераций, в рамках каждой сначала оптимизируется $p$ при фиксированном $q$, затем $q$ при фиксированном $p$."
   ]
  },
  {
   "cell_type": "code",
   "execution_count": 71,
   "metadata": {
    "colab": {
     "base_uri": "https://localhost:8080/",
     "height": 391
    },
    "colab_type": "code",
    "id": "uUOWdv1nraZ0",
    "outputId": "d2bb874e-f919-4aa2-f18c-b6ecfaa69228"
   },
   "outputs": [
    {
     "name": "stdout",
     "output_type": "stream",
     "text": [
      "0 0.030251476868687323 0.14941125813178488\n",
      "1 0.026844134262376335 0.14170226656558305\n",
      "2 0.025675405357217174 0.135024831103676\n",
      "3 0.025225989788600606 0.1290203135558301\n",
      "4 0.02500526806547699 0.12364174601310443\n",
      "5 0.024866665397898717 0.11881926374585368\n",
      "6 0.02476756458057769 0.11449019490396228\n",
      "7 0.02469447512070576 0.11059383423802333\n",
      "8 0.024641363006368013 0.10707722458686651\n",
      "9 0.02460345135248366 0.10389590514076302\n",
      "10 0.024576633832460882 0.10101261333825387\n",
      "11 0.024557742960241134 0.0983957134820434\n",
      "12 0.024544508609784795 0.0960177922394579\n",
      "13 0.02453534084169045 0.09385465032313375\n",
      "14 0.024529139344836366 0.09188486804780116\n",
      "15 0.0245251301286065 0.09008961431031255\n",
      "16 0.0245227526679149 0.08845229265497416\n",
      "17 0.024521592709060343 0.0869581087544063\n",
      "18 0.024521338298668094 0.08559376535113966\n",
      "19 0.024521752865116455 0.0843472764342248\n",
      "CPU times: user 55.4 s, sys: 1.91 s, total: 57.3 s\n",
      "Wall time: 34.8 s\n"
     ]
    }
   ],
   "source": [
    "%%time\n",
    "N_ITER = 20\n",
    "for iter in range(N_ITER):\n",
    "    p = compute_p(p, q, train_by_user)\n",
    "    q = compute_q(p, q, train_by_item)\n",
    "\n",
    "    predictions = p.dot(q.T)\n",
    "    \n",
    "    print(iter, train_error(predictions), test_error(predictions))"
   ]
  },
  {
   "cell_type": "code",
   "execution_count": 72,
   "metadata": {},
   "outputs": [
    {
     "data": {
      "text/plain": [
       "((6041, 10), (3953, 10))"
      ]
     },
     "execution_count": 72,
     "metadata": {},
     "output_type": "execute_result"
    }
   ],
   "source": [
    "p.shape, q.shape"
   ]
  },
  {
   "cell_type": "code",
   "execution_count": null,
   "metadata": {},
   "outputs": [],
   "source": []
  },
  {
   "cell_type": "code",
   "execution_count": null,
   "metadata": {},
   "outputs": [],
   "source": []
  },
  {
   "cell_type": "code",
   "execution_count": null,
   "metadata": {},
   "outputs": [],
   "source": []
  }
 ],
 "metadata": {
  "colab": {
   "collapsed_sections": [],
   "machine_shape": "hm",
   "name": "Screencast_Recsys.ipynb",
   "provenance": []
  },
  "kernelspec": {
   "display_name": "Python 3",
   "language": "python",
   "name": "python3"
  },
  "language_info": {
   "codemirror_mode": {
    "name": "ipython",
    "version": 3
   },
   "file_extension": ".py",
   "mimetype": "text/x-python",
   "name": "python",
   "nbconvert_exporter": "python",
   "pygments_lexer": "ipython3",
   "version": "3.7.4"
  }
 },
 "nbformat": 4,
 "nbformat_minor": 1
}
