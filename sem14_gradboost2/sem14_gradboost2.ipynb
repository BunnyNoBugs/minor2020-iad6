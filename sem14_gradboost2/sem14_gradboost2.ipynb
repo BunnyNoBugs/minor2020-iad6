{
 "cells": [
  {
   "cell_type": "markdown",
   "metadata": {
    "collapsed": true
   },
   "source": [
    "## Современные библиотеки градиентного бустинга\n",
    "\n",
    "Ранее мы использовали наивную версию градиентного бустинга из scikit-learn, [придуманную](https://projecteuclid.org/download/pdf_1/euclid.aos/1013203451) в 1999 году Фридманом. С тех пор было предложено много реализаций, которые оказываются лучше на практике. На сегодняшний день популярны три библиотеки, реализующие градиентный бустинг:\n",
    "* XGBoost. После выхода быстро набрала популярность и оставалась стандартом до конца 2016 года. Об особенностях данной библиотеки рассказывалось на лекции.\n",
    "* LightGBM. Отличительной чертой является быстрота построения композиции. Например, используется следующий трюк для ускорения обучения: при построении вершины дерева вместо перебора по всем значениям признака производится перебор значений гистограммы этого признака. Таким образом, вместо $O(\\ell)$ требуется $O$(#bins). Кроме того, в отличие от других библиотек, которые строят дерево по уровням, LightGBM использует стратегию best-first, т.е. на каждом шаге строит вершину, дающую наибольшее уменьшение функционала. Таким образом каждое дерево является цепочкой с прикрепленными листьями, поэтому ограничение на num_leaves получается более осмысленным.\n",
    "* CatBoost. Библиотека от компании Яндекс. Позволяет автоматически обрабатывать категориальные признаки. Кроме того, алгоритм является менее чувствительным к выбору конкретных гиперпараметров. За счёт этого уменьшается время, которое тратит человек на подбор оптимальных гиперпараметров."
   ]
  },
  {
   "cell_type": "markdown",
   "metadata": {},
   "source": [
    "### Основные параметры\n",
    "\n",
    "(lightgbm/catboost)\n",
    "\n",
    "* objective – функционал, на который будет настраиваться композиция\n",
    "* eta / learning_rate – темп (скорость) обучения\n",
    "* num_iterations / n_estimators  – число итераций бустинга\n",
    "\n",
    "#### Параметры, отвечающие за сложность деревьев\n",
    "* max_depth – максимальная глубина \n",
    "* max_leaves / num_leaves – максимальное число вершин в дереве\n",
    "* gamma / min_gain_to_split – порог на уменьшение функции ошибки при расщеплении в дереве\n",
    "* min_data_in_leaf – минимальное число объектов в листе\n",
    "* min_sum_hessian_in_leaf – минимальная сумма весов объектов в листе, минимальное число объектов, при котором делается расщепление \n",
    "* lambda – коэффициент регуляризации (L2)\n",
    "* subsample / bagging_fraction – какую часть объектов обучения использовать для построения одного дерева \n",
    "* colsample_bytree / feature_fraction – какую часть признаков использовать для построения одного дерева \n",
    "\n",
    "Подбор всех этих параметров — настоящее искусство. Но начать их настройку можно с самых главных параметров: learning_rate и n_estimators. Обычно один из них фиксируют, а оставшийся из этих двух параметров подбирают (например, фиксируют n_estimators=1000 и подбирают learning_rate). Следующим по важности является max_depth. В силу того, что мы заинтересованы в неглубоких деревьях, обычно его перебирают из диапазона [3; 7].\n",
    "\n",
    "\n"
   ]
  },
  {
   "cell_type": "code",
   "execution_count": 1,
   "metadata": {},
   "outputs": [],
   "source": [
    "%matplotlib inline\n",
    "import numpy as np\n",
    "import matplotlib.pyplot as plt\n",
    "import pandas as pd"
   ]
  },
  {
   "cell_type": "code",
   "execution_count": 2,
   "metadata": {
    "scrolled": true
   },
   "outputs": [
    {
     "name": "stdout",
     "output_type": "stream",
     "text": [
      "Collecting lightgbm\n",
      "\u001b[?25l  Downloading https://files.pythonhosted.org/packages/21/d1/7773d81964183f6892f71cf43b92f90d0bb8c954c05651d5071a2b480420/lightgbm-2.3.1-py2.py3-none-macosx_10_9_x86_64.macosx_10_10_x86_64.macosx_10_11_x86_64.macosx_10_12_x86_64.macosx_10_13_x86_64.macosx_10_14_x86_64.macosx_10_15_x86_64.whl (679kB)\n",
      "\u001b[K     |████████████████████████████████| 686kB 747kB/s eta 0:00:01\n",
      "\u001b[?25hRequirement already satisfied: scikit-learn in /Users/danyache/opt/anaconda3/lib/python3.7/site-packages (from lightgbm) (0.21.3)\n",
      "Requirement already satisfied: numpy in /Users/danyache/opt/anaconda3/lib/python3.7/site-packages (from lightgbm) (1.17.2)\n",
      "Requirement already satisfied: scipy in /Users/danyache/opt/anaconda3/lib/python3.7/site-packages (from lightgbm) (1.3.1)\n",
      "Requirement already satisfied: joblib>=0.11 in /Users/danyache/opt/anaconda3/lib/python3.7/site-packages (from scikit-learn->lightgbm) (0.13.2)\n",
      "Installing collected packages: lightgbm\n",
      "Successfully installed lightgbm-2.3.1\n",
      "Collecting catboost==0.19.1\n",
      "\u001b[?25l  Downloading https://files.pythonhosted.org/packages/ba/b4/aa370495471e96c97e6016aa617da35ffda0feca50eb165e8e53c526979b/catboost-0.19.1-cp37-none-macosx_10_6_intel.macosx_10_9_intel.macosx_10_9_x86_64.macosx_10_10_intel.macosx_10_10_x86_64.whl (10.0MB)\n",
      "\u001b[K     |████████████████████████████████| 10.0MB 13.2MB/s eta 0:00:01\n",
      "\u001b[?25hRequirement already satisfied, skipping upgrade: graphviz in /Users/danyache/opt/anaconda3/lib/python3.7/site-packages (from catboost==0.19.1) (0.14)\n",
      "Requirement already satisfied, skipping upgrade: matplotlib in /Users/danyache/opt/anaconda3/lib/python3.7/site-packages (from catboost==0.19.1) (3.1.1)\n",
      "Requirement already satisfied, skipping upgrade: numpy>=1.16.0 in /Users/danyache/opt/anaconda3/lib/python3.7/site-packages (from catboost==0.19.1) (1.17.2)\n",
      "Requirement already satisfied, skipping upgrade: six in /Users/danyache/opt/anaconda3/lib/python3.7/site-packages (from catboost==0.19.1) (1.12.0)\n",
      "Requirement already satisfied, skipping upgrade: scipy in /Users/danyache/opt/anaconda3/lib/python3.7/site-packages (from catboost==0.19.1) (1.3.1)\n",
      "Requirement already satisfied, skipping upgrade: pandas>=0.24.0 in /Users/danyache/opt/anaconda3/lib/python3.7/site-packages (from catboost==0.19.1) (0.25.1)\n",
      "Requirement already satisfied, skipping upgrade: plotly in /Users/danyache/opt/anaconda3/lib/python3.7/site-packages (from catboost==0.19.1) (4.6.0)\n",
      "Requirement already satisfied, skipping upgrade: cycler>=0.10 in /Users/danyache/opt/anaconda3/lib/python3.7/site-packages (from matplotlib->catboost==0.19.1) (0.10.0)\n",
      "Requirement already satisfied, skipping upgrade: kiwisolver>=1.0.1 in /Users/danyache/opt/anaconda3/lib/python3.7/site-packages (from matplotlib->catboost==0.19.1) (1.1.0)\n",
      "Requirement already satisfied, skipping upgrade: pyparsing!=2.0.4,!=2.1.2,!=2.1.6,>=2.0.1 in /Users/danyache/opt/anaconda3/lib/python3.7/site-packages (from matplotlib->catboost==0.19.1) (2.4.2)\n",
      "Requirement already satisfied, skipping upgrade: python-dateutil>=2.1 in /Users/danyache/opt/anaconda3/lib/python3.7/site-packages (from matplotlib->catboost==0.19.1) (2.8.0)\n",
      "Requirement already satisfied, skipping upgrade: pytz>=2017.2 in /Users/danyache/opt/anaconda3/lib/python3.7/site-packages (from pandas>=0.24.0->catboost==0.19.1) (2019.3)\n",
      "Requirement already satisfied, skipping upgrade: retrying>=1.3.3 in /Users/danyache/opt/anaconda3/lib/python3.7/site-packages (from plotly->catboost==0.19.1) (1.3.3)\n",
      "Requirement already satisfied, skipping upgrade: setuptools in /Users/danyache/opt/anaconda3/lib/python3.7/site-packages (from kiwisolver>=1.0.1->matplotlib->catboost==0.19.1) (41.4.0)\n",
      "Installing collected packages: catboost\n",
      "  Found existing installation: catboost 0.23\n",
      "    Uninstalling catboost-0.23:\n",
      "      Successfully uninstalled catboost-0.23\n",
      "Successfully installed catboost-0.19.1\n"
     ]
    }
   ],
   "source": [
    "! pip install lightgbm\n",
    "! pip install --upgrade catboost==0.19.1"
   ]
  },
  {
   "cell_type": "code",
   "execution_count": 3,
   "metadata": {},
   "outputs": [],
   "source": [
    "from sklearn.datasets import make_classification\n",
    "from matplotlib.colors import ListedColormap\n",
    "from sklearn.model_selection import train_test_split\n",
    "from sklearn.metrics import roc_auc_score\n",
    "\n",
    "cmap_light = ListedColormap(['#FFAAAA', '#AAFFAA', '#AAAAFF'])\n",
    "cmap_bold = ListedColormap(['#FF0000', '#00FF00', '#0000FF'])\n",
    "\n",
    "def plot_surface(X, y, clf):\n",
    "    h = 0.2\n",
    "    x_min, x_max = X[:, 0].min() - 1, X[:, 0].max() + 1\n",
    "    y_min, y_max = X[:, 1].min() - 1, X[:, 1].max() + 1\n",
    "    xx, yy = np.meshgrid(np.arange(x_min, x_max, h),\n",
    "                         np.arange(y_min, y_max, h))\n",
    "    Z = clf.predict(np.c_[xx.ravel(), yy.ravel()])\n",
    "\n",
    "    Z = Z.reshape(xx.shape)\n",
    "    plt.figure(figsize=(8, 8))\n",
    "    plt.pcolormesh(xx, yy, Z, cmap=cmap_light)\n",
    "\n",
    "    # Plot also the training points\n",
    "    plt.scatter(X[:, 0], X[:, 1], c=y, cmap=cmap_bold)\n",
    "    plt.xlim(xx.min(), xx.max())\n",
    "    plt.ylim(yy.min(), yy.max())\n",
    "\n",
    "X, y = make_classification(n_samples=500, n_features=2, n_informative=2,\n",
    "                           n_redundant=0, n_repeated=0,\n",
    "                           n_classes=2, n_clusters_per_class=2,\n",
    "                           flip_y=0.05, class_sep=0.8, random_state=241)\n",
    "\n",
    "X_train, X_test, y_train, y_test = train_test_split(X, y, test_size=0.3, random_state=241)"
   ]
  },
  {
   "cell_type": "markdown",
   "metadata": {},
   "source": [
    "## Catboost"
   ]
  },
  {
   "cell_type": "code",
   "execution_count": 4,
   "metadata": {},
   "outputs": [
    {
     "name": "stdout",
     "output_type": "stream",
     "text": [
      "0.9096728307254623\n"
     ]
    },
    {
     "data": {
      "image/png": "[encoded data removed]",
      "text/plain": [
       "<Figure size 576x576 with 1 Axes>"
      ]
     },
     "metadata": {
      "needs_background": "light"
     },
     "output_type": "display_data"
    }
   ],
   "source": [
    "from catboost import CatBoostClassifier \n",
    "\n",
    "clf = CatBoostClassifier(iterations=300, logging_level='Silent')\n",
    "clf.fit(X_train, y_train)\n",
    "plot_surface(X_test, y_test, clf)\n",
    "\n",
    "print(roc_auc_score(y_test, clf.predict_proba(X_test)[:, 1]))"
   ]
  },
  {
   "cell_type": "code",
   "execution_count": 5,
   "metadata": {},
   "outputs": [
    {
     "data": {
      "image/png": "[encoded data removed]",
      "text/plain": [
       "<Figure size 576x360 with 1 Axes>"
      ]
     },
     "metadata": {
      "needs_background": "light"
     },
     "output_type": "display_data"
    }
   ],
   "source": [
    "n_trees = [1, 5, 10, 100, 200, 300, 400, 500, 600, 700]\n",
    "quals_train = []\n",
    "quals_test = []\n",
    "for n in n_trees:\n",
    "    clf = CatBoostClassifier(iterations=n, logging_level='Silent')\n",
    "    clf.fit(X_train, y_train)\n",
    "    q_train = roc_auc_score(y_train, clf.predict_proba(X_train)[:, 1])\n",
    "    q_test = roc_auc_score(y_test, clf.predict_proba(X_test)[:, 1])\n",
    "    quals_train.append(q_train)\n",
    "    quals_test.append(q_test)\n",
    "    \n",
    "plt.figure(figsize=(8, 5))\n",
    "plt.plot(n_trees, quals_train, marker='.', label='train')\n",
    "plt.plot(n_trees, quals_test, marker='.', label='test')\n",
    "plt.xlabel('Number of trees')\n",
    "plt.ylabel('AUC-ROC')\n",
    "plt.legend()\n",
    "\n",
    "plt.show()"
   ]
  },
  {
   "cell_type": "markdown",
   "metadata": {},
   "source": [
    "## LightGBM"
   ]
  },
  {
   "cell_type": "code",
   "execution_count": 6,
   "metadata": {},
   "outputs": [
    {
     "name": "stdout",
     "output_type": "stream",
     "text": [
      "0.8629089615931721\n"
     ]
    },
    {
     "data": {
      "image/png": "[encoded data removed]",
      "text/plain": [
       "<Figure size 576x576 with 1 Axes>"
      ]
     },
     "metadata": {
      "needs_background": "light"
     },
     "output_type": "display_data"
    }
   ],
   "source": [
    "from lightgbm import LGBMClassifier\n",
    "\n",
    "clf = LGBMClassifier(n_estimators=300)\n",
    "clf.fit(X_train, y_train)\n",
    "plot_surface(X_test, y_test, clf)\n",
    "\n",
    "print(roc_auc_score(y_test, clf.predict_proba(X_test)[:, 1]))"
   ]
  },
  {
   "cell_type": "code",
   "execution_count": 7,
   "metadata": {},
   "outputs": [
    {
     "data": {
      "image/png": "[encoded data removed]",
      "text/plain": [
       "<Figure size 576x360 with 1 Axes>"
      ]
     },
     "metadata": {
      "needs_background": "light"
     },
     "output_type": "display_data"
    }
   ],
   "source": [
    "n_trees = [1, 5, 10, 100, 200, 300, 400, 500, 600, 700]\n",
    "quals_train = []\n",
    "quals_test = []\n",
    "for n in n_trees:\n",
    "    clf = LGBMClassifier(n_estimators=n)\n",
    "    clf.fit(X_train, y_train)\n",
    "    q_train = roc_auc_score(y_train, clf.predict_proba(X_train)[:, 1])\n",
    "    q_test = roc_auc_score(y_test, clf.predict_proba(X_test)[:, 1])\n",
    "    quals_train.append(q_train)\n",
    "    quals_test.append(q_test)\n",
    "    \n",
    "plt.figure(figsize=(8, 5))\n",
    "plt.plot(n_trees, quals_train, marker='.', label='train')\n",
    "plt.plot(n_trees, quals_test, marker='.', label='test')\n",
    "plt.xlabel('Number of trees')\n",
    "plt.ylabel('AUC-ROC')\n",
    "plt.legend()\n",
    "\n",
    "plt.show()"
   ]
  },
  {
   "cell_type": "markdown",
   "metadata": {},
   "source": [
    "Теперь попробуем взять фиксированное количество деревьев, но будем менять из глубину"
   ]
  },
  {
   "cell_type": "code",
   "execution_count": 8,
   "metadata": {},
   "outputs": [
    {
     "data": {
      "image/png": "[encoded data removed]",
      "text/plain": [
       "<Figure size 576x360 with 1 Axes>"
      ]
     },
     "metadata": {
      "needs_background": "light"
     },
     "output_type": "display_data"
    }
   ],
   "source": [
    "depth = list(range(1, 30, 3))\n",
    "n_trees = 300\n",
    "quals_train = []\n",
    "quals_test = []\n",
    "for d in depth:\n",
    "    lgb = LGBMClassifier(n_estimators=n_trees, max_depth=d)\n",
    "    lgb.fit(X_train, y_train)\n",
    "    q_train = roc_auc_score(y_train, lgb.predict_proba(X_train)[:, 1])\n",
    "    q_test = roc_auc_score(y_test, lgb.predict_proba(X_test)[:, 1])\n",
    "    quals_train.append(q_train)\n",
    "    quals_test.append(q_test)\n",
    "    \n",
    "plt.figure(figsize=(8, 5))\n",
    "plt.plot(depth, quals_train, marker='.', label='train')\n",
    "plt.plot(depth, quals_test, marker='.', label='test')\n",
    "plt.xlabel('Depth of trees')\n",
    "plt.ylabel('AUC-ROC')\n",
    "plt.legend()\n",
    "\n",
    "plt.show()"
   ]
  },
  {
   "cell_type": "markdown",
   "metadata": {},
   "source": [
    "И сравним с Catboost:"
   ]
  },
  {
   "cell_type": "code",
   "execution_count": 9,
   "metadata": {},
   "outputs": [
    {
     "data": {
      "image/png": "[encoded data removed]",
      "text/plain": [
       "<Figure size 576x360 with 1 Axes>"
      ]
     },
     "metadata": {
      "needs_background": "light"
     },
     "output_type": "display_data"
    }
   ],
   "source": [
    "depth = list(range(1, 12, 2))\n",
    "n_trees = 300\n",
    "quals_train = []\n",
    "quals_test = []\n",
    "for d in depth:\n",
    "    clf = CatBoostClassifier(n_estimators=n_trees, max_depth=d, logging_level=\"Silent\")\n",
    "    clf.fit(X_train, y_train)\n",
    "    q_train = roc_auc_score(y_train, clf.predict_proba(X_train)[:, 1])\n",
    "    q_test = roc_auc_score(y_test, clf.predict_proba(X_test)[:, 1])\n",
    "    quals_train.append(q_train)\n",
    "    quals_test.append(q_test)\n",
    "    \n",
    "plt.figure(figsize=(8, 5))\n",
    "plt.plot(depth, quals_train, marker='.', label='train')\n",
    "plt.plot(depth, quals_test, marker='.', label='test')\n",
    "plt.xlabel('Depth of trees')\n",
    "plt.ylabel('AUC-ROC')\n",
    "plt.legend()\n",
    "\n",
    "plt.show()"
   ]
  },
  {
   "cell_type": "markdown",
   "metadata": {},
   "source": [
    "Теперь, когда у нас получились отличные модели, нужно их сохранить!"
   ]
  },
  {
   "cell_type": "code",
   "execution_count": 10,
   "metadata": {},
   "outputs": [],
   "source": [
    "lgb.booster_.save_model('lightgbm.txt')\n",
    "\n",
    "clf.save_model('catboost.cbm', format='cbm')"
   ]
  },
  {
   "cell_type": "markdown",
   "metadata": {},
   "source": [
    "И загрузим обратно, когда понадобится их применить"
   ]
  },
  {
   "cell_type": "code",
   "execution_count": 11,
   "metadata": {},
   "outputs": [],
   "source": [
    "lgb = LGBMClassifier(model_file='mode.txt')\n",
    "\n",
    "clf = clf.load_model('catboost.cbm')"
   ]
  },
  {
   "cell_type": "markdown",
   "metadata": {},
   "source": [
    "## Блендинг"
   ]
  },
  {
   "cell_type": "markdown",
   "metadata": {},
   "source": [
    "Как было рассказано на лекции, блендинг представляет из себя \"мета-алгоритм\", предсказание которого строится как взвешенная сумма базовых алгоритмов. Рассмотрим простой пример блендинга бустинга и линейной регрессии."
   ]
  },
  {
   "cell_type": "code",
   "execution_count": 12,
   "metadata": {},
   "outputs": [],
   "source": [
    "from sklearn.datasets import load_boston\n",
    "\n",
    "data = load_boston()\n",
    "X = pd.DataFrame(data.data, columns=data.feature_names)\n",
    "y = data.target\n",
    "\n",
    "X_train, X_test, y_train, y_test = train_test_split(X, y, test_size=0.3, random_state=10)\n",
    "\n",
    "def rmse(y_true, y_pred):\n",
    "    error = (y_true - y_pred) ** 2\n",
    "    return np.sqrt(np.mean(error))"
   ]
  },
  {
   "cell_type": "code",
   "execution_count": 13,
   "metadata": {},
   "outputs": [
    {
     "name": "stdout",
     "output_type": "stream",
     "text": [
      "Train RMSE GB = 8.4515\n",
      "Test RMSE GB = 10.1493\n"
     ]
    }
   ],
   "source": [
    "from catboost import CatBoostRegressor\n",
    "\n",
    "cbm = CatBoostRegressor(iterations=100, max_depth=4, learning_rate=0.01, loss_function='RMSE', logging_level='Silent')\n",
    "cbm.fit(X_train, y_train)\n",
    "\n",
    "y_pred_cbm = cbm.predict(X_test)\n",
    "y_train_pred_cbm = cbm.predict(X_train)\n",
    "\n",
    "print(\"Train RMSE GB = %.4f\" % rmse(y_train, y_train_pred_cbm))\n",
    "print(\"Test RMSE GB = %.4f\" % rmse(y_test, y_pred_cbm))"
   ]
  },
  {
   "cell_type": "code",
   "execution_count": 14,
   "metadata": {},
   "outputs": [
    {
     "name": "stdout",
     "output_type": "stream",
     "text": [
      "Train RMSE LR = 4.4113\n",
      "Test RMSE LR = 5.4154\n"
     ]
    }
   ],
   "source": [
    "from sklearn.linear_model import LinearRegression\n",
    "from sklearn.preprocessing import StandardScaler\n",
    "\n",
    "scaler = StandardScaler()\n",
    "X_train_scaled = scaler.fit_transform(X_train)\n",
    "X_test_scaled = scaler.transform(X_test)\n",
    "\n",
    "lr = LinearRegression()\n",
    "lr.fit(X_train_scaled, y_train)\n",
    "y_pred_lr = lr.predict(X_test_scaled)\n",
    "y_train_pred_lr = lr.predict(X_train_scaled)\n",
    "\n",
    "print(\"Train RMSE LR = %.4f\" % rmse(y_train, y_train_pred_lr))\n",
    "print(\"Test RMSE LR = %.4f\" % rmse(y_test, y_pred_lr))"
   ]
  },
  {
   "cell_type": "markdown",
   "metadata": {},
   "source": [
    "Для простоты будем считать, что новый алгоритм $a(x)$ представим как\n",
    "$$\n",
    "    a(x)\n",
    "    =\n",
    "    \\sum_{n = 1}^{N}\n",
    "    w_n b_n(x),\n",
    "$$\n",
    "где $\\sum_{n} w_n =1$"
   ]
  },
  {
   "cell_type": "code",
   "execution_count": 15,
   "metadata": {},
   "outputs": [],
   "source": [
    "def select_weights(y_true, y_pred_1, y_pred_2):\n",
    "    grid = np.linspace(0, 1, 1000)\n",
    "    metric = []\n",
    "    for w_0 in grid:\n",
    "        w_1 = 1 - w_0\n",
    "        y_a = w_0 * y_pred_1 + w_1 * y_pred_2\n",
    "        metric.append([rmse(y_true, y_a), w_0, w_1])\n",
    "    return metric"
   ]
  },
  {
   "cell_type": "code",
   "execution_count": 16,
   "metadata": {},
   "outputs": [],
   "source": [
    "rmse_blending_train, w_0, w_1 = min(select_weights(y_train, y_train_pred_cbm, y_train_pred_lr), key=lambda x: x[0])"
   ]
  },
  {
   "cell_type": "code",
   "execution_count": 17,
   "metadata": {},
   "outputs": [
    {
     "data": {
      "text/plain": [
       "4.409822847300099"
      ]
     },
     "execution_count": 17,
     "metadata": {},
     "output_type": "execute_result"
    }
   ],
   "source": [
    "rmse_blending_train"
   ]
  },
  {
   "cell_type": "code",
   "execution_count": 18,
   "metadata": {},
   "outputs": [
    {
     "data": {
      "text/plain": [
       "5.4149466026877535"
      ]
     },
     "execution_count": 18,
     "metadata": {},
     "output_type": "execute_result"
    }
   ],
   "source": [
    "rmse(y_test, y_pred_cbm * w_0 +  y_pred_lr * w_1)"
   ]
  },
  {
   "cell_type": "markdown",
   "metadata": {},
   "source": [
    "В итоге получаем качество на тестовой выборке лучше, чем у каждого алгоритма в отдельности."
   ]
  },
  {
   "cell_type": "markdown",
   "metadata": {},
   "source": [
    "Полезные ссылки:\n",
    "\n",
    "* [Видео про стекинг](https://www.coursera.org/lecture/competitive-data-science/stacking-Qdtt6)\n",
    "* [Продвинутый вариант стекинга с использованием нейросетей](https://www.coursera.org/learn/competitive-data-science/lecture/s8RLi/stacknet)"
   ]
  },
  {
   "cell_type": "markdown",
   "metadata": {},
   "source": [
    "## Важность признаков\n",
    "\n",
    "В курсе мы подробно обсуждаем, как добиваться хорошего качества решения задачи: имея выборку $X, y$, построить алгоритм с наименьшей ошибкой. Однако заказчику часто важно понимать, как работает алгоритм, почему он делает такие предсказания. Обсудим несколько мотиваций.\n",
    "\t\n",
    "#### Доверие алгоритму\n",
    "Например, а банках на основе решений, принятых алгоритмом, выполняются финансовые операции, и менеджер, ответственный за эти операции, будет готов использовать алгоритм, только если он понимает, что его решения обоснованы. По этой причине в банках очень часто используют простые линейные алгоритмы. Другой пример из области медицины: поскольку цена ошибки может быть очень велика, врачи готовы использовать только интерпретируемые алгоритмы.\n",
    "\t\n",
    "#### Отсутствие дискриминации (fairness) \n",
    "Вновь пример с банком: алгоритм кредитного скоринга не должен учитывать расовую принадлежность (racial bias) заемщика или его пол (gender bias). Между тем, такие зависимости часто могут присутствовать в датасете (исторические данные), на котором обучался алгоритм.  Еще один пример: известно, что нейросетевые векторы слов содержат gender bias. Если эти вектора использовались при построении системы поиска по резюме для рекрутера, то например по запросу `technical skill` он будет видеть женские резюме в конце ранжированного списка.\n",
    "\t\n",
    "#### Учет контекста\n",
    "Данные, на которых обучается алгоритм, не отображают всю предметную область. Интерпретация алгоритма позволит оценить, насколько найденные зависимости связаны с реальной жизнью. Если предсказания интерпретируемы, это также говорит о высокой обобщающей способности алгоритма. \n",
    "\n",
    "Теперь обсудим несколько вариантов, как можно оценивать важность признаков."
   ]
  },
  {
   "cell_type": "markdown",
   "metadata": {},
   "source": [
    "### Веса линейной модели\n",
    "\n",
    "Самый простой способ, который уже был рассмотрен на семинаре про линейные модели: после построения модели каждому признаку будет соответствовать свой вес - если признаки масштабированы, то чем он больше по модулю, тем важнее признак, а знак будет говорить о положительном или отрицательном влиянии на величину целевой переменной."
   ]
  },
  {
   "cell_type": "markdown",
   "metadata": {},
   "source": [
    "### FSTR\n",
    "\n",
    "fstr говорит, что важность признака &mdash; это то, насколько в среднем меняется ответ модели при изменении значения данного признака (изменении значения разбиения).\n",
    "\n",
    "Рассчитать его можно так:\n",
    "\n",
    "$$feature\\_importance_{F} = \\sum_{tree, leaves_F} (v_1 - avr)^2\\cdot c_1 +(v_2 - avr)^2\\cdot c_2\\\\\n",
    "\\qquad avr = \\frac{v_1 \\cdot c_1 + v_2 \\cdot c_2}{c_1 + c_2}.$$\n",
    "\n",
    "Запись $leaves_F$ выше означает разбиение, зависящее от признака $F$.\n",
    "\n",
    "Мы сравниваем поддеревья, отличающиеся значением сплита в узле на пути к ним: если условие сплита выполняется, объект попадает в левое поддерево, иначе &mdash; в правое. \n",
    "\n",
    "$c_1, c_2 - $  число объектов обучающего датасета, попавших в левое и правое поддерево соотвественно, либо суммарный вес этих объектов, если используются веса; $v1, v2 -$значение модели в левом и правом поддереве.\n",
    "\n",
    "\n",
    "Далее значения $feature\\_importance$ нормируются, и получаются величины, которые суммируются в 100."
   ]
  },
  {
   "cell_type": "code",
   "execution_count": 19,
   "metadata": {},
   "outputs": [
    {
     "name": "stdout",
     "output_type": "stream",
     "text": [
      "NOX 14.49968557058814\n",
      "CHAS 10.352276220633168\n",
      "ZN 10.329963680671257\n",
      "RAD 9.904830088754682\n",
      "PTRATIO 9.237666537826932\n",
      "B 7.6414859175453245\n",
      "LSTAT 7.456955998396042\n",
      "TAX 7.1879363932211735\n",
      "DIS 6.311233677340058\n",
      "INDUS 5.712132196221784\n",
      "AGE 4.7002374670945315\n",
      "RM 3.4603743319002764\n",
      "CRIM 3.205221919806629\n"
     ]
    }
   ],
   "source": [
    "for val, name in sorted(zip(cbm.feature_importances_, data.feature_names))[::-1]:\n",
    "    print(name, val)"
   ]
  },
  {
   "cell_type": "code",
   "execution_count": 20,
   "metadata": {},
   "outputs": [
    {
     "data": {
      "text/plain": [
       "99.99999999999999"
      ]
     },
     "execution_count": 20,
     "metadata": {},
     "output_type": "execute_result"
    }
   ],
   "source": [
    "sum(cbm.feature_importances_)"
   ]
  },
  {
   "cell_type": "markdown",
   "metadata": {},
   "source": [
    "### Out-of-bag\n",
    "\n",
    "В случайном лесе за счет обучения на подвыборках можно использовать out-of-bag оценки - ошибка композиции $a(x) = \\sum_{n=1}^N b_n(x)$, построенной с помощью бэггинга с базовыми алгоритмами $b_i(x)$, вычисляется по формуле (подробнее см. конспект лекции 8):\n",
    "     $$\n",
    "     \\text{OOB} = \\sum_{i=1}^\\ell L\\biggl(y_i, \\frac 1 {\\sum_{n=1}^N [x_i \\notin X_n]} \\sum_{n=1}^N [x_i \\notin X_n] b_n(x_i)\\biggr)\n",
    "      $$     \n",
    "Можно показать, что по мере увеличения числа деревьев \n",
    "данная оценка стремится к leave-one-out-оценке,\n",
    "но при этом существенно проще для вычисления.\n",
    "     \n",
    "Итоговый алгоритм подсчета важностей для случайного леса выглядит так:\n",
    "* Вычислить OOB для случайного леса, обученного по исходной обучающей выборке\n",
    "*  Для каждого признака $j$:\n",
    "\n",
    "    * Перемешать значения признака по всем объектам обучающей выборки &mdash; мы хотим сделать признак неинформативным\n",
    "    * Вычислить OOB$_j$ случайного леса, обученного по измененной обучающей выборке\n",
    "    * Оценить важности: $R_j = \\max(0, \\text{OOB}-\\text{OOB}_j)$"
   ]
  },
  {
   "cell_type": "markdown",
   "metadata": {},
   "source": [
    "Приведем простейший пример, как можно получить такую оценку в sklearn-реализации RandomForest"
   ]
  },
  {
   "cell_type": "code",
   "execution_count": 21,
   "metadata": {},
   "outputs": [
    {
     "data": {
      "text/plain": [
       "0.8533542301610743"
      ]
     },
     "execution_count": 21,
     "metadata": {},
     "output_type": "execute_result"
    }
   ],
   "source": [
    "from sklearn.ensemble import RandomForestRegressor\n",
    "\n",
    "clf = RandomForestRegressor(n_estimators=100, oob_score=True)\n",
    "clf.fit(X_train, y_train)\n",
    "\n",
    "clf.oob_score_"
   ]
  },
  {
   "cell_type": "markdown",
   "metadata": {},
   "source": [
    "## Интерпретация алгоритмов\n",
    "\n",
    "Отдельным направлением исследований является анализ уже построенных алгоритмов. Разберем наиболее популярный метод &mdash; LIME. \n",
    "   \n",
    "   Предположим, что мы обучили алгоритм $a$ на выборке {$X, y$}, и хотим интерпретировать его предсказания. Алгоритм LIME выполняет локальную интерпретацию, то есть объясняет предсказания для конкретного объекта. Основная идея состоит в локальном приближении разделяющей поверхности алгоритма другим, более простым алгоритмом $b$ (например, линейным). Итак, чтобы объяснить предсказания $a(x)$ на конкретном объекте $x$:\n",
    "   \n",
    "* Сгенерировать выборку точек $x_1, \\dots, x_m$ около объекта $x$.\n",
    "* Обучить интерпретируемый алгоритм $b$ на выборке $\\{(x_1, a(x_1)), \\dots, (x_m, a(x_m))\\}$.\n",
    "* Интерпретировать алгоритм $b$.\n",
    "\n",
    "   Если мы приближаем разделяющую поверхность линейной функцией $b$, то по обученным весам можно сказать, какой вклад вносит каждый признак в предсказания в окрестности точки $x$."
   ]
  },
  {
   "cell_type": "markdown",
   "metadata": {},
   "source": [
    "## XGBoost"
   ]
  },
  {
   "cell_type": "code",
   "execution_count": 22,
   "metadata": {},
   "outputs": [],
   "source": [
    "# based on https://www.analyticsvidhya.com/blog/2016/03/complete-guide-parameter-tuning-xgboost-with-codes-python/"
   ]
  },
  {
   "cell_type": "code",
   "execution_count": 34,
   "metadata": {},
   "outputs": [],
   "source": [
    "import pandas as pd\n",
    "import numpy as np\n",
    "import xgboost as xgb\n",
    "from xgboost.sklearn import XGBClassifier\n",
    "from sklearn import metrics   #Additional scklearn functions\n",
    "from sklearn.model_selection import learning_curve, GridSearchCV  #Perforing grid search\n",
    "from sklearn.model_selection import cross_validate\n",
    "from sklearn.model_selection import train_test_split\n",
    "import matplotlib.pylab as plt\n",
    "%matplotlib inline\n",
    "from matplotlib.pylab import rcParams\n",
    "from sklearn.datasets import load_breast_cancer, fetch_lfw_pairs, make_classification\n",
    "rcParams['figure.figsize'] = 12, 4"
   ]
  },
  {
   "cell_type": "code",
   "execution_count": 89,
   "metadata": {},
   "outputs": [],
   "source": [
    "titanic = pd.read_csv('./titanic.csv')"
   ]
  },
  {
   "cell_type": "code",
   "execution_count": 91,
   "metadata": {},
   "outputs": [],
   "source": [
    "X = titanic[['Pclass', 'Age', 'SibSp', 'Fare']]\n",
    "y = titanic.Survived.values"
   ]
  },
  {
   "cell_type": "code",
   "execution_count": 92,
   "metadata": {},
   "outputs": [],
   "source": [
    "X_train, X_test, y_train, y_test = train_test_split(X, y, test_size=0.2, random_state=42)"
   ]
  },
  {
   "cell_type": "code",
   "execution_count": 93,
   "metadata": {},
   "outputs": [
    {
     "data": {
      "text/plain": [
       "((712, 4), (712,), (179, 4), (179,))"
      ]
     },
     "execution_count": 93,
     "metadata": {},
     "output_type": "execute_result"
    }
   ],
   "source": [
    "X_train.shape, y_train.shape, X_test.shape, y_test.shape"
   ]
  },
  {
   "cell_type": "code",
   "execution_count": 95,
   "metadata": {},
   "outputs": [],
   "source": [
    "def modelfit(alg, dtrain, y, X_test=None, y_test=None, test=True, useTrainCV=True, cv_folds=5, early_stopping_rounds=50):\n",
    "    \n",
    "    if useTrainCV:\n",
    "        xgb_param = alg.get_xgb_params()\n",
    "        xgtrain = xgb.DMatrix(dtrain, label=y)\n",
    "        cvresult = xgb.cv(xgb_param, xgtrain, num_boost_round=alg.get_params()['n_estimators'], nfold=cv_folds,\n",
    "            metrics='auc', early_stopping_rounds=early_stopping_rounds, verbose_eval=False)\n",
    "        alg.set_params(n_estimators=cvresult.shape[0])\n",
    "    \n",
    "    #Fit the algorithm on the data\n",
    "    alg.fit(dtrain, y, eval_metric='auc')\n",
    "        \n",
    "    #Predict training set:\n",
    "    dtrain_predictions = alg.predict(dtrain)\n",
    "    dtrain_predprob = alg.predict_proba(dtrain)[:,1]\n",
    "        \n",
    "    #Print model report:\n",
    "    print (\"\\nModel Report\")\n",
    "    print (\"Accuracy (Train): %.4g\" % metrics.accuracy_score(y, dtrain_predictions))\n",
    "    print (\"AUC Score (Train): %f\" % metrics.roc_auc_score(y, dtrain_predprob))\n",
    "    if test:\n",
    "        dtest_predictions = alg.predict(X_test)\n",
    "        dtest_predprob = alg.predict_proba(X_test)[:,1]\n",
    "        print (\"Accuracy (Test): %.4g\" % metrics.accuracy_score(y_test, dtest_predictions))\n",
    "        print (\"AUC Score (Test): %f\" % metrics.roc_auc_score(y_test, dtest_predprob))\n",
    "    # return alg              \n",
    "    feat_imp = pd.Series(alg.get_booster().get_fscore()).sort_values(ascending=False)\n",
    "    feat_imp.plot(kind='bar', title='Feature Importances')\n",
    "    plt.ylabel('Feature Importance Score')"
   ]
  },
  {
   "cell_type": "code",
   "execution_count": 96,
   "metadata": {},
   "outputs": [],
   "source": [
    "#Choose all predictors except target & IDcols\n",
    "# predictors = [x for x in X.columns]\n",
    "xgb1 = XGBClassifier(\n",
    " learning_rate =0.1,\n",
    " n_estimators=1000,\n",
    " max_depth=5,\n",
    " min_child_weight=1,\n",
    " gamma=0,\n",
    " subsample=0.8,\n",
    " colsample_bytree=0.8,\n",
    " objective= 'binary:logistic',\n",
    " nthread=4,\n",
    " scale_pos_weight=1,\n",
    " booster='gbtree',\n",
    " seed=27)"
   ]
  },
  {
   "cell_type": "code",
   "execution_count": 97,
   "metadata": {},
   "outputs": [
    {
     "name": "stdout",
     "output_type": "stream",
     "text": [
      "\n",
      "Model Report\n",
      "Accuracy (Train): 0.7598\n",
      "AUC Score (Train): 0.844032\n",
      "Accuracy (Test): 0.7207\n",
      "AUC Score (Test): 0.790026\n"
     ]
    },
    {
     "data": {
      "image/png": "[encoded data removed]",
      "text/plain": [
       "<Figure size 864x288 with 1 Axes>"
      ]
     },
     "metadata": {
      "needs_background": "light"
     },
     "output_type": "display_data"
    }
   ],
   "source": [
    "modelfit(xgb1, X_train, y_train, X_test, y_test)"
   ]
  },
  {
   "cell_type": "code",
   "execution_count": 98,
   "metadata": {},
   "outputs": [
    {
     "name": "stderr",
     "output_type": "stream",
     "text": [
      "/Users/danyache/opt/anaconda3/lib/python3.7/site-packages/sklearn/model_selection/_search.py:849: FutureWarning: The parameter 'iid' is deprecated in 0.22 and will be removed in 0.24.\n",
      "  \"removed in 0.24.\", FutureWarning\n"
     ]
    },
    {
     "data": {
      "text/plain": [
       "({'mean_fit_time': array([0.0476541 , 0.04777527, 0.04843454, 0.06391163, 0.0639379 ,\n",
       "         0.06255479, 0.07947907, 0.07803788, 0.06982574, 0.09433928,\n",
       "         0.07819257, 0.05911288]),\n",
       "  'std_fit_time': array([0.00130447, 0.00146977, 0.00213002, 0.00225058, 0.00156319,\n",
       "         0.00360464, 0.00280012, 0.0048545 , 0.00245415, 0.00296998,\n",
       "         0.00211354, 0.00627496]),\n",
       "  'mean_score_time': array([0.00324826, 0.00268674, 0.00264421, 0.00335526, 0.00306935,\n",
       "         0.00361867, 0.00370908, 0.00343351, 0.00316763, 0.00375204,\n",
       "         0.00337529, 0.00406246]),\n",
       "  'std_score_time': array([2.52618291e-04, 4.99018686e-05, 1.99016544e-05, 5.39413318e-04,\n",
       "         1.21639280e-05, 1.29439020e-03, 2.36478398e-04, 1.47232026e-04,\n",
       "         1.12571346e-04, 1.31683051e-05, 5.38684607e-05, 2.74984127e-03]),\n",
       "  'param_max_depth': masked_array(data=[3, 3, 3, 5, 5, 5, 7, 7, 7, 9, 9, 9],\n",
       "               mask=[False, False, False, False, False, False, False, False,\n",
       "                     False, False, False, False],\n",
       "         fill_value='?',\n",
       "              dtype=object),\n",
       "  'param_min_child_weight': masked_array(data=[1, 3, 5, 1, 3, 5, 1, 3, 5, 1, 3, 5],\n",
       "               mask=[False, False, False, False, False, False, False, False,\n",
       "                     False, False, False, False],\n",
       "         fill_value='?',\n",
       "              dtype=object),\n",
       "  'params': [{'max_depth': 3, 'min_child_weight': 1},\n",
       "   {'max_depth': 3, 'min_child_weight': 3},\n",
       "   {'max_depth': 3, 'min_child_weight': 5},\n",
       "   {'max_depth': 5, 'min_child_weight': 1},\n",
       "   {'max_depth': 5, 'min_child_weight': 3},\n",
       "   {'max_depth': 5, 'min_child_weight': 5},\n",
       "   {'max_depth': 7, 'min_child_weight': 1},\n",
       "   {'max_depth': 7, 'min_child_weight': 3},\n",
       "   {'max_depth': 7, 'min_child_weight': 5},\n",
       "   {'max_depth': 9, 'min_child_weight': 1},\n",
       "   {'max_depth': 9, 'min_child_weight': 3},\n",
       "   {'max_depth': 9, 'min_child_weight': 5}],\n",
       "  'split0_test_score': array([0.69236371, 0.69028298, 0.70047857, 0.69392426, 0.69454848,\n",
       "         0.68768206, 0.68227216, 0.69434041, 0.69486059, 0.68872243,\n",
       "         0.69434041, 0.69132335]),\n",
       "  'split1_test_score': array([0.72180608, 0.72118186, 0.73907615, 0.71525177, 0.72440699,\n",
       "         0.7266958 , 0.704536  , 0.72742405, 0.72253433, 0.71660424,\n",
       "         0.72752809, 0.73012901]),\n",
       "  'split2_test_score': array([0.76340895, 0.75185499, 0.76181895, 0.75853297, 0.75302099,\n",
       "         0.76022896, 0.76022896, 0.75280899, 0.76807293, 0.75895696,\n",
       "         0.75789697, 0.76256095]),\n",
       "  'split3_test_score': array([0.71570914, 0.69408522, 0.69853721, 0.71782913, 0.69048124,\n",
       "         0.70542718, 0.72058512, 0.69790121, 0.71178715, 0.72948908,\n",
       "         0.70595718, 0.70977316]),\n",
       "  'split4_test_score': array([0.74494949, 0.75568182, 0.74284512, 0.74410774, 0.75210438,\n",
       "         0.74642256, 0.74368687, 0.74789562, 0.74074074, 0.74116162,\n",
       "         0.74642256, 0.75147306]),\n",
       "  'mean_test_score': array([0.72764747, 0.72261737, 0.7285512 , 0.72592917, 0.72291242,\n",
       "         0.72529131, 0.72226182, 0.72407406, 0.72759915, 0.72698687,\n",
       "         0.72642904, 0.72905191]),\n",
       "  'std_test_score': array([0.02449421, 0.02760345, 0.02494292, 0.0227921 , 0.02689693,\n",
       "         0.02637491, 0.0276287 , 0.02438645, 0.0251329 , 0.02366955,\n",
       "         0.02383257, 0.02616042]),\n",
       "  'rank_test_score': array([ 3, 11,  2,  7, 10,  8, 12,  9,  4,  5,  6,  1], dtype=int32)},\n",
       " {'max_depth': 9, 'min_child_weight': 5},\n",
       " 0.7290519051728508)"
      ]
     },
     "execution_count": 98,
     "metadata": {},
     "output_type": "execute_result"
    }
   ],
   "source": [
    "param_test1 = {\n",
    " 'max_depth':range(3,10,2),\n",
    " 'min_child_weight':range(1,6,2)\n",
    "}\n",
    "\n",
    "gsearch1 = GridSearchCV(estimator = XGBClassifier( learning_rate =0.1, n_estimators=140, max_depth=5,\n",
    " min_child_weight=1, gamma=0, subsample=0.8, colsample_bytree=0.8,\n",
    " objective= 'binary:logistic', nthread=4, scale_pos_weight=1, seed=27), \n",
    " param_grid = param_test1, scoring='roc_auc',n_jobs=4,iid=False, cv=5)\n",
    "gsearch1.fit(X_train, y_train)\n",
    "gsearch1.cv_results_, gsearch1.best_params_, gsearch1.best_score_"
   ]
  },
  {
   "cell_type": "code",
   "execution_count": 99,
   "metadata": {},
   "outputs": [
    {
     "name": "stderr",
     "output_type": "stream",
     "text": [
      "/Users/danyache/opt/anaconda3/lib/python3.7/site-packages/sklearn/model_selection/_search.py:849: FutureWarning: The parameter 'iid' is deprecated in 0.22 and will be removed in 0.24.\n",
      "  \"removed in 0.24.\", FutureWarning\n"
     ]
    },
    {
     "data": {
      "text/plain": [
       "({'mean_fit_time': array([0.09344988, 0.08831086, 0.081534  , 0.09135327, 0.09193645,\n",
       "         0.09216018, 0.10480437, 0.09053612, 0.05721316]),\n",
       "  'std_fit_time': array([0.01378722, 0.00967569, 0.00683263, 0.00736975, 0.01085198,\n",
       "         0.0058659 , 0.00747509, 0.00896845, 0.01129121]),\n",
       "  'mean_score_time': array([0.00602403, 0.00338836, 0.0037468 , 0.00519094, 0.00393815,\n",
       "         0.0061832 , 0.00377998, 0.00441604, 0.00253458]),\n",
       "  'std_score_time': array([0.00249067, 0.00010394, 0.00083963, 0.00291683, 0.00066816,\n",
       "         0.00289762, 0.0006696 , 0.00205431, 0.00029978]),\n",
       "  'param_max_depth': masked_array(data=[8, 8, 8, 9, 9, 9, 10, 10, 10],\n",
       "               mask=[False, False, False, False, False, False, False, False,\n",
       "                     False],\n",
       "         fill_value='?',\n",
       "              dtype=object),\n",
       "  'param_min_child_weight': masked_array(data=[4, 5, 6, 4, 5, 6, 4, 5, 6],\n",
       "               mask=[False, False, False, False, False, False, False, False,\n",
       "                     False],\n",
       "         fill_value='?',\n",
       "              dtype=object),\n",
       "  'params': [{'max_depth': 8, 'min_child_weight': 4},\n",
       "   {'max_depth': 8, 'min_child_weight': 5},\n",
       "   {'max_depth': 8, 'min_child_weight': 6},\n",
       "   {'max_depth': 9, 'min_child_weight': 4},\n",
       "   {'max_depth': 9, 'min_child_weight': 5},\n",
       "   {'max_depth': 9, 'min_child_weight': 6},\n",
       "   {'max_depth': 10, 'min_child_weight': 4},\n",
       "   {'max_depth': 10, 'min_child_weight': 5},\n",
       "   {'max_depth': 10, 'min_child_weight': 6}],\n",
       "  'split0_test_score': array([0.69735747, 0.69277986, 0.69912609, 0.70099875, 0.69132335,\n",
       "         0.69725343, 0.69964628, 0.69132335, 0.69725343]),\n",
       "  'split1_test_score': array([0.73272992, 0.73262588, 0.73553891, 0.72877653, 0.73012901,\n",
       "         0.73553891, 0.72752809, 0.73012901, 0.73553891]),\n",
       "  'split2_test_score': array([0.75874497, 0.76298495, 0.75577698, 0.75408098, 0.76256095,\n",
       "         0.76552894, 0.75302099, 0.76340895, 0.76234895]),\n",
       "  'split3_test_score': array([0.71125715, 0.70722917, 0.71178715, 0.70765317, 0.70977316,\n",
       "         0.71168115, 0.70129319, 0.70691117, 0.71168115]),\n",
       "  'split4_test_score': array([0.74789562, 0.74768519, 0.75494529, 0.73569024, 0.75147306,\n",
       "         0.75073653, 0.74074074, 0.74347643, 0.75073653]),\n",
       "  'mean_test_score': array([0.72959703, 0.72866101, 0.73143488, 0.72543993, 0.72905191,\n",
       "         0.73214779, 0.72444586, 0.72704978, 0.7315118 ]),\n",
       "  'std_test_score': array([0.02267155, 0.0257004 , 0.02276845, 0.01923669, 0.02616042,\n",
       "         0.02493127, 0.02117842, 0.02562517, 0.02409825]),\n",
       "  'rank_test_score': array([4, 6, 3, 8, 5, 1, 9, 7, 2], dtype=int32)},\n",
       " {'max_depth': 9, 'min_child_weight': 6},\n",
       " 0.732147793210174)"
      ]
     },
     "execution_count": 99,
     "metadata": {},
     "output_type": "execute_result"
    }
   ],
   "source": [
    "param_test2 = {\n",
    " 'max_depth':[8,9,10],\n",
    " 'min_child_weight':[4, 5, 6]\n",
    "}\n",
    "gsearch2 = GridSearchCV(estimator = XGBClassifier( learning_rate=0.1, n_estimators=140, max_depth=5,\n",
    " min_child_weight=2, gamma=0, subsample=0.8, colsample_bytree=0.8,\n",
    " objective= 'binary:logistic', nthread=4, scale_pos_weight=1,seed=27), \n",
    " param_grid = param_test2, scoring='roc_auc',n_jobs=4,iid=False, cv=5)\n",
    "gsearch2.fit(X_train, y_train)\n",
    "gsearch2.cv_results_, gsearch2.best_params_, gsearch2.best_score_"
   ]
  },
  {
   "cell_type": "code",
   "execution_count": 100,
   "metadata": {},
   "outputs": [
    {
     "name": "stderr",
     "output_type": "stream",
     "text": [
      "/Users/danyache/opt/anaconda3/lib/python3.7/site-packages/sklearn/model_selection/_search.py:849: FutureWarning: The parameter 'iid' is deprecated in 0.22 and will be removed in 0.24.\n",
      "  \"removed in 0.24.\", FutureWarning\n"
     ]
    },
    {
     "data": {
      "text/plain": [
       "({'mean_fit_time': array([0.08651114, 0.08192577, 0.06643147, 0.06674929, 0.0642797 ]),\n",
       "  'std_fit_time': array([0.0100525 , 0.01140936, 0.00136921, 0.00109331, 0.0071481 ]),\n",
       "  'mean_score_time': array([0.00755658, 0.00321445, 0.00373211, 0.00286555, 0.00270376]),\n",
       "  'std_score_time': array([0.00329903, 0.00013102, 0.00139628, 0.00025287, 0.00039247]),\n",
       "  'param_gamma': masked_array(data=[0.0, 0.1, 0.2, 0.3, 0.4],\n",
       "               mask=[False, False, False, False, False],\n",
       "         fill_value='?',\n",
       "              dtype=object),\n",
       "  'params': [{'gamma': 0.0},\n",
       "   {'gamma': 0.1},\n",
       "   {'gamma': 0.2},\n",
       "   {'gamma': 0.3},\n",
       "   {'gamma': 0.4}],\n",
       "  'split0_test_score': array([0.69725343, 0.69725343, 0.69538077, 0.69434041, 0.6920516 ]),\n",
       "  'split1_test_score': array([0.73553891, 0.74469413, 0.73595506, 0.73012901, 0.73116937]),\n",
       "  'split2_test_score': array([0.76552894, 0.75280899, 0.76256095, 0.76531694, 0.76531694]),\n",
       "  'split3_test_score': array([0.71168115, 0.70903116, 0.70786517, 0.70616918, 0.71252915]),\n",
       "  'split4_test_score': array([0.75073653, 0.75021044, 0.75115741, 0.75610269, 0.74379209]),\n",
       "  'mean_test_score': array([0.73214779, 0.73079963, 0.73058387, 0.73041164, 0.72897183]),\n",
       "  'std_test_score': array([0.02493127, 0.02303676, 0.02541673, 0.0274493 , 0.02521468]),\n",
       "  'rank_test_score': array([1, 2, 3, 4, 5], dtype=int32)},\n",
       " {'gamma': 0.0},\n",
       " 0.732147793210174)"
      ]
     },
     "execution_count": 100,
     "metadata": {},
     "output_type": "execute_result"
    }
   ],
   "source": [
    "param_test3 = {\n",
    " 'gamma':[i/10.0 for i in range(0,5)]\n",
    "}\n",
    "gsearch3 = GridSearchCV(estimator = XGBClassifier( learning_rate =0.1, n_estimators=140, max_depth=9,\n",
    " min_child_weight=6, gamma=0, subsample=0.8, colsample_bytree=0.8,\n",
    " objective= 'binary:logistic', nthread=4, scale_pos_weight=1,seed=27), \n",
    " param_grid = param_test3, scoring='roc_auc',n_jobs=4,iid=False, cv=5)\n",
    "gsearch3.fit(X_train, y_train)\n",
    "gsearch3.cv_results_, gsearch3.best_params_, gsearch3.best_score_"
   ]
  },
  {
   "cell_type": "code",
   "execution_count": 101,
   "metadata": {},
   "outputs": [
    {
     "name": "stdout",
     "output_type": "stream",
     "text": [
      "\n",
      "Model Report\n",
      "Accuracy (Train): 0.75\n",
      "AUC Score (Train): 0.817517\n",
      "Accuracy (Test): 0.7318\n",
      "AUC Score (Test): 0.789189\n"
     ]
    },
    {
     "data": {
      "image/png": "[encoded data removed]",
      "text/plain": [
       "<Figure size 864x288 with 1 Axes>"
      ]
     },
     "metadata": {
      "needs_background": "light"
     },
     "output_type": "display_data"
    }
   ],
   "source": [
    "xgb2 = XGBClassifier(\n",
    " learning_rate =0.1,\n",
    " n_estimators=1000,\n",
    " max_depth=9,\n",
    " min_child_weight=6,\n",
    " gamma=0,\n",
    " subsample=0.8,\n",
    " colsample_bytree=0.8,\n",
    " objective= 'binary:logistic',\n",
    " nthread=4,\n",
    " scale_pos_weight=1,\n",
    " booster='gbtree',\n",
    " seed=27)\n",
    "modelfit(xgb2, X_train, y_train, X_test, y_test)"
   ]
  },
  {
   "cell_type": "code",
   "execution_count": 102,
   "metadata": {},
   "outputs": [
    {
     "name": "stderr",
     "output_type": "stream",
     "text": [
      "/Users/danyache/opt/anaconda3/lib/python3.7/site-packages/sklearn/model_selection/_search.py:849: FutureWarning: The parameter 'iid' is deprecated in 0.22 and will be removed in 0.24.\n",
      "  \"removed in 0.24.\", FutureWarning\n"
     ]
    },
    {
     "data": {
      "text/plain": [
       "({'mean_fit_time': array([0.08402209, 0.0903821 , 0.07046685, 0.07186708, 0.06538901,\n",
       "         0.08886108, 0.08840098, 0.08704467, 0.08473682, 0.08697238,\n",
       "         0.08924866, 0.10120502, 0.0854528 , 0.10375571, 0.083109  ,\n",
       "         0.06669312]),\n",
       "  'std_fit_time': array([0.01217588, 0.01862759, 0.00292809, 0.00300116, 0.00486138,\n",
       "         0.01361887, 0.01338767, 0.01427338, 0.00798576, 0.00568783,\n",
       "         0.0080008 , 0.01042552, 0.00724199, 0.01317843, 0.02512189,\n",
       "         0.01826749]),\n",
       "  'mean_score_time': array([0.00814176, 0.00342789, 0.00352235, 0.00368423, 0.00320625,\n",
       "         0.00547552, 0.00357146, 0.00493331, 0.00422077, 0.00371385,\n",
       "         0.00348892, 0.0040525 , 0.00375504, 0.0036026 , 0.00456638,\n",
       "         0.00281806]),\n",
       "  'std_score_time': array([0.00479212, 0.00021692, 0.00052315, 0.00037011, 0.00014089,\n",
       "         0.00136127, 0.0002299 , 0.00214189, 0.00145867, 0.00062746,\n",
       "         0.00030715, 0.00077096, 0.00061822, 0.00089642, 0.00324715,\n",
       "         0.0004652 ]),\n",
       "  'param_colsample_bytree': masked_array(data=[0.6, 0.6, 0.6, 0.6, 0.7, 0.7, 0.7, 0.7, 0.8, 0.8, 0.8,\n",
       "                     0.8, 0.9, 0.9, 0.9, 0.9],\n",
       "               mask=[False, False, False, False, False, False, False, False,\n",
       "                     False, False, False, False, False, False, False, False],\n",
       "         fill_value='?',\n",
       "              dtype=object),\n",
       "  'param_subsample': masked_array(data=[0.6, 0.7, 0.8, 0.9, 0.6, 0.7, 0.8, 0.9, 0.6, 0.7, 0.8,\n",
       "                     0.9, 0.6, 0.7, 0.8, 0.9],\n",
       "               mask=[False, False, False, False, False, False, False, False,\n",
       "                     False, False, False, False, False, False, False, False],\n",
       "         fill_value='?',\n",
       "              dtype=object),\n",
       "  'params': [{'colsample_bytree': 0.6, 'subsample': 0.6},\n",
       "   {'colsample_bytree': 0.6, 'subsample': 0.7},\n",
       "   {'colsample_bytree': 0.6, 'subsample': 0.8},\n",
       "   {'colsample_bytree': 0.6, 'subsample': 0.9},\n",
       "   {'colsample_bytree': 0.7, 'subsample': 0.6},\n",
       "   {'colsample_bytree': 0.7, 'subsample': 0.7},\n",
       "   {'colsample_bytree': 0.7, 'subsample': 0.8},\n",
       "   {'colsample_bytree': 0.7, 'subsample': 0.9},\n",
       "   {'colsample_bytree': 0.8, 'subsample': 0.6},\n",
       "   {'colsample_bytree': 0.8, 'subsample': 0.7},\n",
       "   {'colsample_bytree': 0.8, 'subsample': 0.8},\n",
       "   {'colsample_bytree': 0.8, 'subsample': 0.9},\n",
       "   {'colsample_bytree': 0.9, 'subsample': 0.6},\n",
       "   {'colsample_bytree': 0.9, 'subsample': 0.7},\n",
       "   {'colsample_bytree': 0.9, 'subsample': 0.8},\n",
       "   {'colsample_bytree': 0.9, 'subsample': 0.9}],\n",
       "  'split0_test_score': array([0.70058261, 0.68705784, 0.69746151, 0.69454848, 0.70058261,\n",
       "         0.68705784, 0.69746151, 0.69454848, 0.6889305 , 0.69923013,\n",
       "         0.70016646, 0.70016646, 0.6889305 , 0.69923013, 0.70016646,\n",
       "         0.70016646]),\n",
       "  'split1_test_score': array([0.74053267, 0.73938826, 0.73429047, 0.72648772, 0.74053267,\n",
       "         0.73938826, 0.73429047, 0.72648772, 0.72971286, 0.71764461,\n",
       "         0.73137744, 0.72107782, 0.72971286, 0.71764461, 0.73137744,\n",
       "         0.72107782]),\n",
       "  'split2_test_score': array([0.77697689, 0.76213695, 0.77125291, 0.76616494, 0.77697689,\n",
       "         0.76213695, 0.77125291, 0.76616494, 0.7761289 , 0.77634089,\n",
       "         0.75704897, 0.76510494, 0.7761289 , 0.77634089, 0.75704897,\n",
       "         0.76510494]),\n",
       "  'split3_test_score': array([0.73415306, 0.72100912, 0.71592114, 0.71093916, 0.73415306,\n",
       "         0.72100912, 0.71592114, 0.71093916, 0.71443714, 0.71443714,\n",
       "         0.70553318, 0.70807717, 0.71443714, 0.71443714, 0.70553318,\n",
       "         0.70807717]),\n",
       "  'split4_test_score': array([0.74252946, 0.73779461, 0.7461069 , 0.7332702 , 0.74252946,\n",
       "         0.73779461, 0.7461069 , 0.7332702 , 0.75252525, 0.7444234 ,\n",
       "         0.74905303, 0.74736953, 0.75252525, 0.7444234 , 0.74905303,\n",
       "         0.74736953]),\n",
       "  'mean_test_score': array([0.73895494, 0.72947736, 0.73300659, 0.7262821 , 0.73895494,\n",
       "         0.72947736, 0.73300659, 0.7262821 , 0.73234693, 0.73041524,\n",
       "         0.72863582, 0.72835918, 0.73234693, 0.73041524, 0.72863582,\n",
       "         0.72835918]),\n",
       "  'std_test_score': array([0.02431637, 0.02492059, 0.02526426, 0.0240081 , 0.02431637,\n",
       "         0.02492059, 0.02526426, 0.0240081 , 0.03012212, 0.02718931,\n",
       "         0.02269768, 0.02437561, 0.03012212, 0.02718931, 0.02269768,\n",
       "         0.02437561]),\n",
       "  'rank_test_score': array([ 1,  9,  3, 15,  1,  9,  3, 15,  5,  7, 11, 13,  5,  7, 11, 13],\n",
       "        dtype=int32)},\n",
       " {'colsample_bytree': 0.6, 'subsample': 0.6},\n",
       " 0.7389549378671172)"
      ]
     },
     "execution_count": 102,
     "metadata": {},
     "output_type": "execute_result"
    }
   ],
   "source": [
    "param_test4 = {\n",
    " 'subsample':[i/10.0 for i in range(6,10)],\n",
    " 'colsample_bytree':[i/10.0 for i in range(6,10)]\n",
    "}\n",
    "gsearch4 = GridSearchCV(estimator = XGBClassifier( learning_rate =0.1, n_estimators=177, max_depth=9,\n",
    " min_child_weight=6, gamma=0., subsample=0.8, colsample_bytree=0.8,\n",
    " objective= 'binary:logistic', nthread=4, scale_pos_weight=1,seed=27), \n",
    " param_grid = param_test4, scoring='roc_auc',n_jobs=4,iid=False, cv=5)\n",
    "gsearch4.fit(X_train, y_train)\n",
    "gsearch4.cv_results_, gsearch4.best_params_, gsearch4.best_score_"
   ]
  },
  {
   "cell_type": "code",
   "execution_count": 105,
   "metadata": {},
   "outputs": [
    {
     "name": "stderr",
     "output_type": "stream",
     "text": [
      "/Users/danyache/opt/anaconda3/lib/python3.7/site-packages/sklearn/model_selection/_search.py:849: FutureWarning: The parameter 'iid' is deprecated in 0.22 and will be removed in 0.24.\n",
      "  \"removed in 0.24.\", FutureWarning\n"
     ]
    },
    {
     "data": {
      "text/plain": [
       "({'mean_fit_time': array([0.07866907, 0.08172641, 0.06625009, 0.06328635, 0.06678243,\n",
       "         0.08969131, 0.09237061, 0.09715362, 0.05110173]),\n",
       "  'std_fit_time': array([0.00930357, 0.01000227, 0.00346659, 0.00292522, 0.00407635,\n",
       "         0.02937216, 0.02194809, 0.02273177, 0.00678978]),\n",
       "  'mean_score_time': array([0.00488734, 0.00340362, 0.00314312, 0.00333929, 0.00314879,\n",
       "         0.00474386, 0.00373788, 0.00671759, 0.00293446]),\n",
       "  'std_score_time': array([1.58899792e-03, 3.27001295e-04, 2.66267338e-05, 4.24543496e-04,\n",
       "         1.06452974e-04, 2.13833510e-03, 3.60287359e-04, 4.17066655e-03,\n",
       "         2.25626525e-04]),\n",
       "  'param_colsample_bytree': masked_array(data=[0.55, 0.55, 0.55, 0.6, 0.6, 0.6, 0.65, 0.65, 0.65],\n",
       "               mask=[False, False, False, False, False, False, False, False,\n",
       "                     False],\n",
       "         fill_value='?',\n",
       "              dtype=object),\n",
       "  'param_subsample': masked_array(data=[0.55, 0.6, 0.65, 0.55, 0.6, 0.65, 0.55, 0.6, 0.65],\n",
       "               mask=[False, False, False, False, False, False, False, False,\n",
       "                     False],\n",
       "         fill_value='?',\n",
       "              dtype=object),\n",
       "  'params': [{'colsample_bytree': 0.55, 'subsample': 0.55},\n",
       "   {'colsample_bytree': 0.55, 'subsample': 0.6},\n",
       "   {'colsample_bytree': 0.55, 'subsample': 0.65},\n",
       "   {'colsample_bytree': 0.6, 'subsample': 0.55},\n",
       "   {'colsample_bytree': 0.6, 'subsample': 0.6},\n",
       "   {'colsample_bytree': 0.6, 'subsample': 0.65},\n",
       "   {'colsample_bytree': 0.65, 'subsample': 0.55},\n",
       "   {'colsample_bytree': 0.65, 'subsample': 0.6},\n",
       "   {'colsample_bytree': 0.65, 'subsample': 0.65}],\n",
       "  'split0_test_score': array([0.70016646, 0.70058261, 0.70183104, 0.70016646, 0.70058261,\n",
       "         0.70183104, 0.70016646, 0.70058261, 0.70183104]),\n",
       "  'split1_test_score': array([0.74115689, 0.74053267, 0.73595506, 0.74115689, 0.74053267,\n",
       "         0.73595506, 0.74115689, 0.74053267, 0.73595506]),\n",
       "  'split2_test_score': array([0.76849693, 0.77697689, 0.76022896, 0.76849693, 0.77697689,\n",
       "         0.76022896, 0.76849693, 0.77697689, 0.76022896]),\n",
       "  'split3_test_score': array([0.7237651 , 0.73415306, 0.72927708, 0.7237651 , 0.73415306,\n",
       "         0.72927708, 0.7237651 , 0.73415306, 0.72927708]),\n",
       "  'split4_test_score': array([0.73590067, 0.74252946, 0.74179293, 0.73590067, 0.74252946,\n",
       "         0.74179293, 0.73590067, 0.74252946, 0.74179293]),\n",
       "  'mean_test_score': array([0.73389721, 0.73895494, 0.73381701, 0.73389721, 0.73895494,\n",
       "         0.73381701, 0.73389721, 0.73895494, 0.73381701]),\n",
       "  'std_test_score': array([0.02233509, 0.02431637, 0.01902362, 0.02233509, 0.02431637,\n",
       "         0.01902362, 0.02233509, 0.02431637, 0.01902362]),\n",
       "  'rank_test_score': array([4, 1, 7, 4, 1, 7, 4, 1, 7], dtype=int32)},\n",
       " {'colsample_bytree': 0.55, 'subsample': 0.6},\n",
       " 0.7389549378671172)"
      ]
     },
     "execution_count": 105,
     "metadata": {},
     "output_type": "execute_result"
    }
   ],
   "source": [
    "param_test5 = {\n",
    " 'subsample':[i/100.0 for i in range(55, 70, 5)],\n",
    " 'colsample_bytree':[i/100.0 for i in range(55, 70,5)]\n",
    "}\n",
    "gsearch5 = GridSearchCV(estimator = XGBClassifier( learning_rate =0.1, n_estimators=177, max_depth=9,\n",
    " min_child_weight=6, gamma=0., subsample=0.6, colsample_bytree=0.6,\n",
    " objective= 'binary:logistic', nthread=4, scale_pos_weight=1,seed=27), \n",
    " param_grid = param_test5, scoring='roc_auc',n_jobs=4,iid=False, cv=5)\n",
    "gsearch5.fit(X_train, y_train)\n",
    "gsearch5.cv_results_, gsearch5.best_params_, gsearch5.best_score_"
   ]
  },
  {
   "cell_type": "code",
   "execution_count": 106,
   "metadata": {},
   "outputs": [
    {
     "name": "stderr",
     "output_type": "stream",
     "text": [
      "/Users/danyache/opt/anaconda3/lib/python3.7/site-packages/sklearn/model_selection/_search.py:849: FutureWarning: The parameter 'iid' is deprecated in 0.22 and will be removed in 0.24.\n",
      "  \"removed in 0.24.\", FutureWarning\n"
     ]
    },
    {
     "data": {
      "text/plain": [
       "({'mean_fit_time': array([0.08330884, 0.07656627, 0.06497135, 0.06324677, 0.0361588 ]),\n",
       "  'std_fit_time': array([0.01516454, 0.01290403, 0.00266374, 0.00332178, 0.00252051]),\n",
       "  'mean_score_time': array([0.00766044, 0.00406375, 0.00316482, 0.00302482, 0.00218277]),\n",
       "  'std_score_time': array([4.89289726e-03, 1.22253687e-03, 6.55201671e-05, 3.14197299e-04,\n",
       "         1.31161981e-04]),\n",
       "  'param_reg_alpha': masked_array(data=[1e-05, 0.01, 0.1, 1, 100],\n",
       "               mask=[False, False, False, False, False],\n",
       "         fill_value='?',\n",
       "              dtype=object),\n",
       "  'params': [{'reg_alpha': 1e-05},\n",
       "   {'reg_alpha': 0.01},\n",
       "   {'reg_alpha': 0.1},\n",
       "   {'reg_alpha': 1},\n",
       "   {'reg_alpha': 100}],\n",
       "  'split0_test_score': array([0.70058261, 0.7002705 , 0.70089471, 0.70006242, 0.5       ]),\n",
       "  'split1_test_score': array([0.74053267, 0.74219725, 0.74386184, 0.74947982, 0.5       ]),\n",
       "  'split2_test_score': array([0.77697689, 0.77210091, 0.77104092, 0.77157091, 0.5       ]),\n",
       "  'split3_test_score': array([0.73415306, 0.72758109, 0.73330507, 0.7252491 , 0.5       ]),\n",
       "  'split4_test_score': array([0.74252946, 0.73832071, 0.73411195, 0.72906145, 0.5       ]),\n",
       "  'mean_test_score': array([0.73895494, 0.73609409, 0.7366429 , 0.73508474, 0.5       ]),\n",
       "  'std_test_score': array([0.02431637, 0.02321421, 0.02249807, 0.02407506, 0.        ]),\n",
       "  'rank_test_score': array([1, 3, 2, 4, 5], dtype=int32)},\n",
       " {'reg_alpha': 1e-05},\n",
       " 0.7389549378671172)"
      ]
     },
     "execution_count": 106,
     "metadata": {},
     "output_type": "execute_result"
    }
   ],
   "source": [
    "param_test6 = {\n",
    " 'reg_alpha':[1e-5, 1e-2, 0.1, 1, 100]\n",
    "}\n",
    "gsearch6 = GridSearchCV(estimator = XGBClassifier( learning_rate =0.1, n_estimators=177, max_depth=9,\n",
    " min_child_weight=6, gamma=0., subsample=0.6, colsample_bytree=0.55,\n",
    " objective= 'binary:logistic', nthread=4, scale_pos_weight=1,seed=27), \n",
    " param_grid = param_test6, scoring='roc_auc',n_jobs=4,iid=False, cv=5)\n",
    "gsearch6.fit(X_train, y_train)\n",
    "gsearch6.cv_results_, gsearch6.best_params_, gsearch6.best_score_"
   ]
  },
  {
   "cell_type": "code",
   "execution_count": 134,
   "metadata": {},
   "outputs": [
    {
     "name": "stdout",
     "output_type": "stream",
     "text": [
      "\n",
      "Model Report\n",
      "Accuracy (Train): 0.7669\n",
      "AUC Score (Train): 0.844498\n",
      "Accuracy (Test): 0.7486\n",
      "AUC Score (Test): 0.811519\n"
     ]
    },
    {
     "data": {
      "image/png": "[encoded data removed]",
      "text/plain": [
       "<Figure size 864x288 with 1 Axes>"
      ]
     },
     "metadata": {
      "needs_background": "light"
     },
     "output_type": "display_data"
    }
   ],
   "source": [
    "xgb3 = XGBClassifier(\n",
    " learning_rate =0.1,\n",
    " n_estimators=1000,\n",
    " max_depth=9,\n",
    " min_child_weight=6,\n",
    " gamma=0,\n",
    " subsample=0.6,\n",
    " colsample_bytree=0.55,\n",
    " reg_alpha = 1e-05,\n",
    " objective= 'binary:logistic',\n",
    " nthread=4,\n",
    " scale_pos_weight=1,\n",
    " seed=27)\n",
    "modelfit(xgb3, X_train, y_train, X_test, y_test)"
   ]
  },
  {
   "cell_type": "code",
   "execution_count": 138,
   "metadata": {},
   "outputs": [
    {
     "name": "stdout",
     "output_type": "stream",
     "text": [
      "\n",
      "Model Report\n",
      "Accuracy (Train): 0.7907\n",
      "AUC Score (Train): 0.874601\n",
      "Accuracy (Test): 0.7709\n",
      "AUC Score (Test): 0.808880\n"
     ]
    },
    {
     "data": {
      "image/png": "[encoded data removed]",
      "text/plain": [
       "<Figure size 864x288 with 1 Axes>"
      ]
     },
     "metadata": {
      "needs_background": "light"
     },
     "output_type": "display_data"
    }
   ],
   "source": [
    "xgb3 = XGBClassifier(\n",
    " learning_rate =0.01,\n",
    " n_estimators=5000,\n",
    " max_depth=9,\n",
    " min_child_weight=6,\n",
    " gamma=0,\n",
    " subsample=0.6,\n",
    " colsample_bytree=0.55,\n",
    " objective= 'binary:logistic',\n",
    " nthread=4,\n",
    " scale_pos_weight=1,\n",
    " seed=27)\n",
    "modelfit(xgb3, X_train, y_train, X_test, y_test, early_stopping_rounds=500)"
   ]
  },
  {
   "cell_type": "markdown",
   "metadata": {},
   "source": [
    "## Multi-class метрики"
   ]
  },
  {
   "cell_type": "code",
   "execution_count": 42,
   "metadata": {},
   "outputs": [],
   "source": [
    "# https://stackoverflow.com/questions/9004172/precision-recall-for-multiclass-multilabel-classification\n",
    "# https://towardsdatascience.com/journey-to-the-center-of-multi-label-classification-384c40229bff\n",
    "# https://scikit-learn.org/stable/modules/multiclass.html\n",
    "# https://scikit-learn.org/stable/modules/model_evaluation.html#multiclass-and-multilabel-classification"
   ]
  },
  {
   "cell_type": "code",
   "execution_count": 21,
   "metadata": {},
   "outputs": [],
   "source": [
    "from sklearn import metrics\n",
    "import numpy as np"
   ]
  },
  {
   "cell_type": "code",
   "execution_count": 37,
   "metadata": {},
   "outputs": [],
   "source": [
    "y_true = np.array([0, 1, 2, 0, 1, 2, 2, 2, 3])\n",
    "y_pred = np.array([0, 2, 1, 0, 0, 1, 3, 3, 3])"
   ]
  },
  {
   "cell_type": "code",
   "execution_count": 50,
   "metadata": {},
   "outputs": [
    {
     "data": {
      "text/plain": [
       "(0.3333333333333333, 0.3333333333333333)"
      ]
     },
     "execution_count": 50,
     "metadata": {},
     "output_type": "execute_result"
    }
   ],
   "source": [
    "# micro \n",
    "TP = 0\n",
    "FP = 0\n",
    "TN = 0\n",
    "FN = 0\n",
    "\n",
    "for i in range(4):\n",
    "    TP += ((y_true == i) * (y_pred == i)).sum()\n",
    "    FP += ((y_true != i) * (y_pred == i)).sum()\n",
    "    TN += ((y_true != i) * (y_pred != i)).sum()\n",
    "    FN += ((y_true == i) * (y_pred != i)).sum()\n",
    "\n",
    "micro_P, micro_R = TP/(TP+FP), TP/(TP+FN)\n",
    "micro_P, micro_R"
   ]
  },
  {
   "cell_type": "code",
   "execution_count": 60,
   "metadata": {},
   "outputs": [
    {
     "data": {
      "text/plain": [
       "(0.25, 0.5)"
      ]
     },
     "execution_count": 60,
     "metadata": {},
     "output_type": "execute_result"
    }
   ],
   "source": [
    "# macro \n",
    "macro_P, macro_R = 0, 0\n",
    "\n",
    "for i in range(4):\n",
    "    TP = 0\n",
    "    FP = 0\n",
    "    TN = 0\n",
    "    FN = 0\n",
    "    \n",
    "    TP += ((y_true == i) * (y_pred == i)).sum()\n",
    "    FP += ((y_true != i) * (y_pred == i)).sum()\n",
    "    TN += ((y_true != i) * (y_pred != i)).sum()\n",
    "    FN += ((y_true == i) * (y_pred != i)).sum()\n",
    "\n",
    "    macro_P += TP/(TP+FP)\n",
    "    macro_R += TP/(TP+FN)\n",
    "    \n",
    "macro_P /= 4\n",
    "macro_R /= 4\n",
    "\n",
    "macro_P, macro_R"
   ]
  },
  {
   "cell_type": "code",
   "execution_count": 52,
   "metadata": {},
   "outputs": [
    {
     "data": {
      "text/plain": [
       "0.3333333333333333"
      ]
     },
     "execution_count": 52,
     "metadata": {},
     "output_type": "execute_result"
    }
   ],
   "source": [
    "metrics.precision_score(y_true, y_pred, average='micro')"
   ]
  },
  {
   "cell_type": "code",
   "execution_count": 53,
   "metadata": {},
   "outputs": [
    {
     "data": {
      "text/plain": [
       "0.3333333333333333"
      ]
     },
     "execution_count": 53,
     "metadata": {},
     "output_type": "execute_result"
    }
   ],
   "source": [
    "metrics.recall_score(y_true, y_pred, average='micro')"
   ]
  },
  {
   "cell_type": "code",
   "execution_count": 54,
   "metadata": {},
   "outputs": [
    {
     "data": {
      "text/plain": [
       "0.25"
      ]
     },
     "execution_count": 54,
     "metadata": {},
     "output_type": "execute_result"
    }
   ],
   "source": [
    "metrics.precision_score(y_true, y_pred, average='macro')"
   ]
  },
  {
   "cell_type": "code",
   "execution_count": 55,
   "metadata": {},
   "outputs": [
    {
     "data": {
      "text/plain": [
       "0.5"
      ]
     },
     "execution_count": 55,
     "metadata": {},
     "output_type": "execute_result"
    }
   ],
   "source": [
    "metrics.recall_score(y_true, y_pred, average='macro')"
   ]
  }
 ],
 "metadata": {
  "anaconda-cloud": {},
  "kernelspec": {
   "display_name": "Python 3",
   "language": "python",
   "name": "python3"
  },
  "language_info": {
   "codemirror_mode": {
    "name": "ipython",
    "version": 3
   },
   "file_extension": ".py",
   "mimetype": "text/x-python",
   "name": "python",
   "nbconvert_exporter": "python",
   "pygments_lexer": "ipython3",
   "version": "3.7.4"
  }
 },
 "nbformat": 4,
 "nbformat_minor": 1
}
