{
 "cells": [
  {
   "cell_type": "markdown",
   "metadata": {},
   "source": [
    "## Классы\n",
    "\n",
    "* Классы - способ обьединить данные и методы работы с ними за единой абстракцией\n",
    "* Объекты - экземпляры классов\n",
    "\n",
    "int – это тип, класс реализации которого умеет генерировать объекты 1, 2, 3 "
   ]
  },
  {
   "cell_type": "code",
   "execution_count": 2,
   "metadata": {},
   "outputs": [
    {
     "data": {
      "text/plain": [
       "(type, int)"
      ]
     },
     "execution_count": 2,
     "metadata": {},
     "output_type": "execute_result"
    }
   ],
   "source": [
    "type(type), type(1)"
   ]
  },
  {
   "cell_type": "code",
   "execution_count": 3,
   "metadata": {},
   "outputs": [
    {
     "data": {
      "text/plain": [
       "type"
      ]
     },
     "execution_count": 3,
     "metadata": {},
     "output_type": "execute_result"
    }
   ],
   "source": [
    "class Bird:\n",
    "    kind = \"solovey\"\n",
    "    a = \"xfdf\"\n",
    "\n",
    "type(Bird)"
   ]
  },
  {
   "cell_type": "code",
   "execution_count": 1,
   "metadata": {},
   "outputs": [
    {
     "name": "stdout",
     "output_type": "stream",
     "text": [
      "solovey\n",
      "1\n",
      "1\n"
     ]
    }
   ],
   "source": [
    "class Bird:\n",
    "    kind = \"solovey\"\n",
    "    a = \"xfdf\"\n",
    "\n",
    "b = Bird()\n",
    "print(b.kind)\n",
    "c = Bird()\n",
    "Bird.kind = 1\n",
    "print(b.kind)\n",
    "print(c.kind)"
   ]
  },
  {
   "cell_type": "markdown",
   "metadata": {},
   "source": [
    "### Классы → инстанс"
   ]
  },
  {
   "cell_type": "code",
   "execution_count": 5,
   "metadata": {
    "slideshow": {
     "slide_type": "-"
    }
   },
   "outputs": [
    {
     "data": {
      "text/plain": [
       "__main__.Bird"
      ]
     },
     "execution_count": 5,
     "metadata": {},
     "output_type": "execute_result"
    }
   ],
   "source": [
    "bird = Bird()\n",
    "\n",
    "type(bird)"
   ]
  },
  {
   "cell_type": "code",
   "execution_count": 6,
   "metadata": {},
   "outputs": [
    {
     "data": {
      "text/plain": [
       "{}"
      ]
     },
     "execution_count": 6,
     "metadata": {},
     "output_type": "execute_result"
    }
   ],
   "source": [
    "bird.__dict__"
   ]
  },
  {
   "cell_type": "code",
   "execution_count": 7,
   "metadata": {},
   "outputs": [
    {
     "data": {
      "text/plain": [
       "1"
      ]
     },
     "execution_count": 7,
     "metadata": {},
     "output_type": "execute_result"
    }
   ],
   "source": [
    "bird.kind"
   ]
  },
  {
   "cell_type": "markdown",
   "metadata": {},
   "source": [
    "### Классы → инстанс → установка атрибута"
   ]
  },
  {
   "cell_type": "code",
   "execution_count": 8,
   "metadata": {},
   "outputs": [
    {
     "data": {
      "text/plain": [
       "{'length': 10}"
      ]
     },
     "execution_count": 8,
     "metadata": {},
     "output_type": "execute_result"
    }
   ],
   "source": [
    "bird.length = 10\n",
    "bird.__dict__"
   ]
  },
  {
   "cell_type": "markdown",
   "metadata": {},
   "source": [
    "<div class=\"alert alert-danger\">\n",
    "<b>Антипаттерн:</b> устанавливать атрибуты после конструирования\n",
    "</div>"
   ]
  },
  {
   "cell_type": "code",
   "execution_count": 4,
   "metadata": {
    "cell_style": "split"
   },
   "outputs": [
    {
     "data": {
      "text/plain": [
       "10"
      ]
     },
     "execution_count": 4,
     "metadata": {},
     "output_type": "execute_result"
    }
   ],
   "source": [
    "# Лучше: конструирование\n",
    "\n",
    "class Bird:\n",
    "    def __init__(self, length):\n",
    "        self.length = length\n",
    "        \n",
    "\n",
    "bird = Bird(10)\n",
    "bird.length"
   ]
  },
  {
   "cell_type": "code",
   "execution_count": 5,
   "metadata": {
    "cell_style": "split"
   },
   "outputs": [
    {
     "data": {
      "text/plain": [
       "10"
      ]
     },
     "execution_count": 5,
     "metadata": {},
     "output_type": "execute_result"
    }
   ],
   "source": [
    "# Хуже: установка атрибута\n",
    "\n",
    "class Bird:\n",
    "    pass\n",
    "        \n",
    "\n",
    "bird = Bird()\n",
    "bird.length = 10\n",
    "bird.length"
   ]
  },
  {
   "cell_type": "code",
   "execution_count": 6,
   "metadata": {
    "slideshow": {
     "slide_type": "-"
    }
   },
   "outputs": [
    {
     "data": {
      "text/plain": [
       "mappingproxy({'__module__': '__main__',\n",
       "              '__dict__': <attribute '__dict__' of 'Bird' objects>,\n",
       "              '__weakref__': <attribute '__weakref__' of 'Bird' objects>,\n",
       "              '__doc__': None})"
      ]
     },
     "execution_count": 6,
     "metadata": {},
     "output_type": "execute_result"
    }
   ],
   "source": [
    "Bird.__dict__"
   ]
  },
  {
   "cell_type": "code",
   "execution_count": 7,
   "metadata": {
    "slideshow": {
     "slide_type": "-"
    }
   },
   "outputs": [],
   "source": [
    "bird.__class__.length = 10"
   ]
  },
  {
   "cell_type": "code",
   "execution_count": 8,
   "metadata": {},
   "outputs": [
    {
     "data": {
      "text/plain": [
       "mappingproxy({'__module__': '__main__',\n",
       "              '__dict__': <attribute '__dict__' of 'Bird' objects>,\n",
       "              '__weakref__': <attribute '__weakref__' of 'Bird' objects>,\n",
       "              '__doc__': None,\n",
       "              'length': 10})"
      ]
     },
     "execution_count": 8,
     "metadata": {},
     "output_type": "execute_result"
    }
   ],
   "source": [
    "Bird.__dict__"
   ]
  },
  {
   "cell_type": "markdown",
   "metadata": {
    "slideshow": {
     "slide_type": "-"
    }
   },
   "source": [
    "### Классы → bound методы"
   ]
  },
  {
   "cell_type": "code",
   "execution_count": 17,
   "metadata": {
    "slideshow": {
     "slide_type": "-"
    }
   },
   "outputs": [
    {
     "name": "stdout",
     "output_type": "stream",
     "text": [
      "Pew pew pew\n"
     ]
    }
   ],
   "source": [
    "class Bird(object):\n",
    "    def tweet(self):\n",
    "        print('Pew pew pew')\n",
    "        \n",
    "b = Bird()\n",
    "b.tweet()"
   ]
  },
  {
   "cell_type": "code",
   "execution_count": 18,
   "metadata": {},
   "outputs": [
    {
     "data": {
      "text/plain": [
       "<function __main__.Bird.tweet(self)>"
      ]
     },
     "execution_count": 18,
     "metadata": {},
     "output_type": "execute_result"
    }
   ],
   "source": [
    "# function (called unbound in py2)\n",
    "\n",
    "Bird.tweet"
   ]
  },
  {
   "cell_type": "code",
   "execution_count": 159,
   "metadata": {
    "slideshow": {
     "slide_type": "-"
    }
   },
   "outputs": [
    {
     "data": {
      "text/plain": [
       "<bound method Bird.tweet of <__main__.Bird object at 0x1131cf2e8>>"
      ]
     },
     "execution_count": 159,
     "metadata": {},
     "output_type": "execute_result"
    }
   ],
   "source": [
    "# bound method\n",
    "\n",
    "b.tweet"
   ]
  },
  {
   "cell_type": "code",
   "execution_count": 161,
   "metadata": {
    "slideshow": {
     "slide_type": "subslide"
    }
   },
   "outputs": [
    {
     "name": "stdout",
     "output_type": "stream",
     "text": [
      "Pew pew pew\n"
     ]
    }
   ],
   "source": [
    "# pass instance to self\n",
    "\n",
    "Bird.tweet(b)"
   ]
  },
  {
   "cell_type": "code",
   "execution_count": 19,
   "metadata": {},
   "outputs": [
    {
     "data": {
      "text/plain": [
       "(method, function)"
      ]
     },
     "execution_count": 19,
     "metadata": {},
     "output_type": "execute_result"
    }
   ],
   "source": [
    "type(b.tweet), type(Bird.tweet)"
   ]
  },
  {
   "cell_type": "markdown",
   "metadata": {
    "slideshow": {
     "slide_type": "slide"
    }
   },
   "source": [
    "### Классы → bound методы → self"
   ]
  },
  {
   "cell_type": "markdown",
   "metadata": {},
   "source": [
    "<div class=\"alert alert-danger\">\n",
    "<b>Антипаттерн:</b> обращаться к атрибутам объекта, не объявленым в __init__\n",
    "</div>"
   ]
  },
  {
   "cell_type": "code",
   "execution_count": 25,
   "metadata": {
    "slideshow": {
     "slide_type": "-"
    }
   },
   "outputs": [
    {
     "name": "stdout",
     "output_type": "stream",
     "text": [
      "Tweet! It's 0 tweet totay!\n",
      "Tweet! It's 1 tweet totay!\n",
      "Tweet! It's 2 tweet totay!\n"
     ]
    },
    {
     "data": {
      "text/plain": [
       "(0, 3)"
      ]
     },
     "execution_count": 25,
     "metadata": {},
     "output_type": "execute_result"
    }
   ],
   "source": [
    "class Bird:\n",
    "    tweet_count = 0\n",
    "\n",
    "    def tweet(self):\n",
    "        print(\"Tweet! It's {} tweet totay!\".format(self.tweet_count))\n",
    "        self.tweet_count += 1\n",
    "        \n",
    "b = Bird()\n",
    "Bird.tweet(b)\n",
    "b.tweet()\n",
    "b.tweet()\n",
    "\n",
    "Bird.tweet_count, b.tweet_count"
   ]
  },
  {
   "cell_type": "markdown",
   "metadata": {},
   "source": [
    "<div class=\"alert alert-danger\">\n",
    "<b>Антипаттерн:</b> модифицировать атрибуты класса\n",
    "</div>"
   ]
  },
  {
   "cell_type": "code",
   "execution_count": 9,
   "metadata": {
    "slideshow": {
     "slide_type": "slide"
    }
   },
   "outputs": [
    {
     "name": "stdout",
     "output_type": "stream",
     "text": [
      "['Joe']\n",
      "['Joe', 'Bill']\n"
     ]
    }
   ],
   "source": [
    "class CustomerList:\n",
    "    names = []\n",
    "\n",
    "    def add_customer(self, customer):\n",
    "        self.names.append(customer)\n",
    "        print(self.names)\n",
    "\n",
    "a, b = CustomerList(), CustomerList()\n",
    "\n",
    "a.add_customer('Joe')\n",
    "b.add_customer('Bill')"
   ]
  },
  {
   "cell_type": "markdown",
   "metadata": {
    "slideshow": {
     "slide_type": "slide"
    }
   },
   "source": [
    "### Классы → public/private метки"
   ]
  },
  {
   "cell_type": "code",
   "execution_count": 46,
   "metadata": {
    "slideshow": {
     "slide_type": "-"
    }
   },
   "outputs": [
    {
     "name": "stdout",
     "output_type": "stream",
     "text": [
      "Toyota\n",
      "6\n",
      "2\n",
      "{'brand': 'Toyota', '_mile_per_liter': 6, '_Car__efficency_score': 2}\n",
      "{'__module__': '__main__', '__init__': <function Car.__init__ at 0x104fa1598>, '_get_weight': <function Car._get_weight at 0x104fa1268>, '_Car__some_internal_func': <function Car.__some_internal_func at 0x104f030d0>, '__dict__': <attribute '__dict__' of 'Car' objects>, '__weakref__': <attribute '__weakref__' of 'Car' objects>, '__doc__': None}\n"
     ]
    }
   ],
   "source": [
    "class Car:\n",
    "    def __init__(self):\n",
    "        self.brand = 'Toyota'\n",
    "        self._mile_per_liter = 6\n",
    "        self.__efficency_score = 2\n",
    "\n",
    "    def _get_weight(self):\n",
    "        return 1\n",
    "    \n",
    "    def __some_internal_func(self):\n",
    "        pass\n",
    "\n",
    "car = Car()\n",
    "\n",
    "print(car.brand)\n",
    "print(car._mile_per_liter)\n",
    "print(car._Car__efficency_score)\n",
    "print(car.__dict__)\n",
    "print(Car.__dict__)"
   ]
  },
  {
   "cell_type": "markdown",
   "metadata": {
    "slideshow": {
     "slide_type": "slide"
    }
   },
   "source": [
    "### Классы → Наследование 0"
   ]
  },
  {
   "cell_type": "code",
   "execution_count": 10,
   "metadata": {},
   "outputs": [],
   "source": [
    "class Car(object):\n",
    "    def __init__(self, miles, model):\n",
    "        self.wheels = 4\n",
    "        self.miles = miles\n",
    "        self.model = model\n",
    "\n",
    "    def price(self):\n",
    "        return 6000 - (.1 * self.miles)\n",
    "\n",
    "    \n",
    "ford = Car(10000, 'Ford')\n",
    "toyota = Car(5000, 'Toyota')"
   ]
  },
  {
   "cell_type": "code",
   "execution_count": 11,
   "metadata": {
    "slideshow": {
     "slide_type": "subslide"
    }
   },
   "outputs": [],
   "source": [
    "class Car:\n",
    "    def __init__(self, miles, model):\n",
    "        self.wheels = 4\n",
    "        self.miles = miles\n",
    "        self.model = model\n",
    "\n",
    "    def price(self):\n",
    "        return 6000 - (.1 * self.miles)\n",
    "\n",
    "    \n",
    "class Truck:\n",
    "    def __init__(self, wheels, miles, model):\n",
    "        self.wheels = wheels\n",
    "        self.miles = miles\n",
    "        self.model = model\n",
    "        \n",
    "    def price(self):\n",
    "        return 10000 - (.1 * self.miles)"
   ]
  },
  {
   "cell_type": "code",
   "execution_count": 12,
   "metadata": {
    "slideshow": {
     "slide_type": "subslide"
    }
   },
   "outputs": [],
   "source": [
    "class Vehicle:\n",
    "    def __init__(self, wheels, miles, model, base_price):\n",
    "        self.wheels = wheels\n",
    "        self.miles = miles\n",
    "        self.model = model\n",
    "        self.base_price = base_price\n",
    "    \n",
    "    def price(self):\n",
    "        return self.base_price - (.10 * self.miles)\n",
    "    \n",
    "Ford = Vehicle(4, 10000, 'Ford', 6000)"
   ]
  },
  {
   "cell_type": "markdown",
   "metadata": {
    "slideshow": {
     "slide_type": "slide"
    }
   },
   "source": [
    "### Классы → Наследование 1"
   ]
  },
  {
   "cell_type": "code",
   "execution_count": 13,
   "metadata": {},
   "outputs": [
    {
     "data": {
      "text/plain": [
       "9999.5"
      ]
     },
     "execution_count": 13,
     "metadata": {},
     "output_type": "execute_result"
    }
   ],
   "source": [
    "class Vehicle:\n",
    "    def __init__(self, wheels, miles, model, base_price):\n",
    "        self.wheels = wheels\n",
    "        self.miles = miles\n",
    "        self.model = model\n",
    "        self.base_price = base_price\n",
    "    \n",
    "    def price(self):\n",
    "        return self.base_price - (.1 * self.miles)\n",
    "\n",
    "class Car(Vehicle):\n",
    "    def __init__(self, miles, model):\n",
    "        self.wheels = 4\n",
    "        self.miles = miles\n",
    "        self.model = model\n",
    "        self.base_price = 10000\n",
    "\n",
    "Car(5, 'Tesla').price()"
   ]
  },
  {
   "cell_type": "markdown",
   "metadata": {
    "slideshow": {
     "slide_type": "slide"
    }
   },
   "source": [
    "### Классы → Наследование 2"
   ]
  },
  {
   "cell_type": "code",
   "execution_count": 14,
   "metadata": {},
   "outputs": [],
   "source": [
    "class Vehicle:\n",
    "    def __init__(self, wheels, miles, model, base_price):\n",
    "        self.wheels = wheels\n",
    "        self.miles = miles\n",
    "        self.model = model\n",
    "        self.base_price = base_price\n",
    "    \n",
    "    def price(self):\n",
    "        return self.base_price - (.10 * self.miles)\n",
    "\n",
    "class Car(Vehicle):\n",
    "    def __init__(self, miles, model):\n",
    "        Vehicle.__init__(self, 4, miles, model, 10000)\n",
    "\n",
    "c = Car(5, 'Tesla') "
   ]
  },
  {
   "cell_type": "markdown",
   "metadata": {
    "slideshow": {
     "slide_type": "slide"
    }
   },
   "source": [
    "### Классы → Наследование 3"
   ]
  },
  {
   "cell_type": "code",
   "execution_count": 28,
   "metadata": {},
   "outputs": [],
   "source": [
    "class Vehicle:\n",
    "    base_price = 0\n",
    "    def __init__(self, wheels, miles, model):\n",
    "        self.wheels = wheels\n",
    "        self.miles = miles\n",
    "        self.model = model\n",
    "    \n",
    "    def price(self):\n",
    "        return self.base_price - (.10 * self.miles)\n",
    "\n",
    "class Car(Vehicle):\n",
    "    base_price = 6000\n",
    "    def __init__(self, miles, model):\n",
    "        Vehicle.__init__(self, 4, miles, model)\n",
    "\n",
    "class Truck(Vehicle):\n",
    "    base_price = 10000\n",
    "\n",
    "\n",
    "a = Car(5000, 'Tesla')\n",
    "b = Truck(8, 1000, 'Otto')"
   ]
  },
  {
   "cell_type": "code",
   "execution_count": 29,
   "metadata": {},
   "outputs": [
    {
     "data": {
      "text/plain": [
       "(5500.0, 9900.0)"
      ]
     },
     "execution_count": 29,
     "metadata": {},
     "output_type": "execute_result"
    }
   ],
   "source": [
    "a.price(), b.price()"
   ]
  },
  {
   "cell_type": "markdown",
   "metadata": {
    "slideshow": {
     "slide_type": "slide"
    }
   },
   "source": [
    "### Классы → Наследование → Diamond Inheritance problems"
   ]
  },
  {
   "cell_type": "code",
   "execution_count": 65,
   "metadata": {
    "slideshow": {
     "slide_type": "-"
    }
   },
   "outputs": [
    {
     "name": "stdout",
     "output_type": "stream",
     "text": [
      "Platypus::Init\n",
      "Mammal::Init\n",
      "Animal::Init\n",
      "Swimming::Init\n",
      "Animal::Init\n"
     ]
    },
    {
     "data": {
      "text/plain": [
       "0"
      ]
     },
     "execution_count": 65,
     "metadata": {},
     "output_type": "execute_result"
    }
   ],
   "source": [
    "class Animal(object):\n",
    "    def __init__(self):\n",
    "        print('Animal::Init')\n",
    "        self.legs = 0\n",
    "        \n",
    "class Mammal(Animal):\n",
    "    def __init__(self):\n",
    "        print('Mammal::Init')\n",
    "        Animal.__init__(self)\n",
    "        self.legs = 4\n",
    "        \n",
    "class Swimming(Animal): \n",
    "    def __init__(self): \n",
    "        print('Swimming::Init')\n",
    "        Animal.__init__(self)\n",
    "        self.can_swim = True\n",
    "        \n",
    "class Platypus(Mammal, Swimming):\n",
    "    def __init__(self):\n",
    "        print('Platypus::Init')\n",
    "        Mammal.__init__(self)\n",
    "        Swimming.__init__(self)\n",
    "         \n",
    "        \n",
    "Joe = Platypus()\n",
    "Joe.legs"
   ]
  },
  {
   "cell_type": "markdown",
   "metadata": {
    "slideshow": {
     "slide_type": "slide"
    }
   },
   "source": [
    "### Классы → Наследование → super"
   ]
  },
  {
   "cell_type": "markdown",
   "metadata": {},
   "source": [
    "<div class=\"alert alert-danger\">\n",
    "<b>Антипаттерн:</b>  множественное наследование не-интерфейсов\n",
    "</div>"
   ]
  },
  {
   "cell_type": "code",
   "execution_count": 67,
   "metadata": {},
   "outputs": [
    {
     "name": "stdout",
     "output_type": "stream",
     "text": [
      "Platypus::Before super\n",
      "Mammal::Before super {'can_swim': False}\n",
      "Swimming::Before super\n",
      "Animal::Init\n",
      "Initialize legs: 0\n",
      "Swimming::After super\n",
      "Mammal::After super\n",
      "Platypus::After super\n"
     ]
    },
    {
     "data": {
      "text/plain": [
       "3"
      ]
     },
     "execution_count": 67,
     "metadata": {},
     "output_type": "execute_result"
    }
   ],
   "source": [
    "class Animal:\n",
    "    def __init__(self):\n",
    "        print('Animal::Init')\n",
    "        self.legs = 0\n",
    "        print(f\"Initialize legs: {self.legs}\")\n",
    "        \n",
    "class Mammal(Animal):\n",
    "    def __init__(self, legs, **kwargs):\n",
    "        print(f'Mammal::Before super {kwargs}')\n",
    "        super().__init__(**kwargs)\n",
    "        print('Mammal::After super')\n",
    "        self.legs = legs\n",
    "        \n",
    "class Swimming(Animal):\n",
    "    def __init__(self, can_swim=True):\n",
    "        print('Swimming::Before super')\n",
    "        super().__init__()\n",
    "        print('Swimming::After super')\n",
    "        self.can_swim = can_swim\n",
    "\n",
    "        \n",
    "class Platypus(Mammal, Swimming):\n",
    "    def __init__(self, legs=4, can_swim=True):\n",
    "        print('Platypus::Before super')\n",
    "        super().__init__(legs, can_swim=can_swim)\n",
    "        print('Platypus::After super')\n",
    "\n",
    "    def price(self):\n",
    "        # do cmth\n",
    "        super().price()\n",
    "        \n",
    "Joe = Platypus(legs=3, can_swim=False)\n",
    "Platypus.mro()\n",
    "Joe.legs"
   ]
  },
  {
   "cell_type": "markdown",
   "metadata": {
    "slideshow": {
     "slide_type": "slide"
    }
   },
   "source": [
    "### Классы → Магические методы"
   ]
  },
  {
   "cell_type": "markdown",
   "metadata": {},
   "source": [
    "Магические методы классов -- это методы придающие им какие-то свойства. Их имена начинаются с с двух подчеркиваний, например -- метод `__init__`. Вызов магических методов в интерпретаторе происходит неявно."
   ]
  },
  {
   "cell_type": "code",
   "execution_count": 71,
   "metadata": {},
   "outputs": [],
   "source": [
    "class Bananas:\n",
    "    def __init__(self, count=4):\n",
    "        self.count = count"
   ]
  },
  {
   "cell_type": "markdown",
   "metadata": {},
   "source": [
    "### Классы → Магические методы → `__str__`/`__repr__`"
   ]
  },
  {
   "cell_type": "code",
   "execution_count": 72,
   "metadata": {
    "slideshow": {
     "slide_type": "slide"
    }
   },
   "outputs": [
    {
     "name": "stdout",
     "output_type": "stream",
     "text": [
      "6 bananas!\n"
     ]
    },
    {
     "data": {
      "text/plain": [
       "Bananas(6)"
      ]
     },
     "execution_count": 72,
     "metadata": {},
     "output_type": "execute_result"
    }
   ],
   "source": [
    "class Bananas:\n",
    "    def __init__(self, count=4):\n",
    "        self.count = count\n",
    "    def __str__(self):\n",
    "        return '{} bananas!'.format(self.count)\n",
    "    def __repr__(self):\n",
    "        return 'Bananas({})'.format(self.count)\n",
    "\n",
    "b = Bananas(6)\n",
    "\n",
    "print(b)\n",
    "b"
   ]
  },
  {
   "cell_type": "markdown",
   "metadata": {},
   "source": [
    "### Классы → Магические методы → `__add__`/`__iadd__`"
   ]
  },
  {
   "cell_type": "code",
   "execution_count": 73,
   "metadata": {
    "slideshow": {
     "slide_type": "slide"
    }
   },
   "outputs": [
    {
     "name": "stdout",
     "output_type": "stream",
     "text": [
      "10 bananas!\n"
     ]
    },
    {
     "data": {
      "text/plain": [
       "True"
      ]
     },
     "execution_count": 73,
     "metadata": {},
     "output_type": "execute_result"
    }
   ],
   "source": [
    "class Bananas:\n",
    "    def __init__(self, count=4):\n",
    "        self.count = count\n",
    "    def __str__(self):\n",
    "        return '{} bananas!'.format(self.count)\n",
    "    def __repr__(self):\n",
    "        return 'Bananas({})'.format(self.count)\n",
    "    def __add__(self, other):\n",
    "        return Bananas(self.count + other.count)\n",
    "    def __iadd__(self, other):\n",
    "        self.count += other.count  # be aware of the semantics\n",
    "        return self\n",
    "\n",
    "print(Bananas(6) + Bananas(4))\n",
    "\n",
    "b1 = Bananas(4)\n",
    "b2 = b1\n",
    "\n",
    "b1 += Bananas(3)\n",
    "b1 is b2"
   ]
  },
  {
   "cell_type": "markdown",
   "metadata": {
    "slideshow": {
     "slide_type": "slide"
    }
   },
   "source": [
    "### Классы → Магические методы → `__call__`"
   ]
  },
  {
   "cell_type": "code",
   "execution_count": 30,
   "metadata": {},
   "outputs": [
    {
     "name": "stdout",
     "output_type": "stream",
     "text": [
      "1904.9409439665053\n"
     ]
    }
   ],
   "source": [
    "from math import factorial, sqrt\n",
    "\n",
    "class Pipeline(object):\n",
    "    def __init__(self, *args):\n",
    "        self.funcs = args\n",
    "        \n",
    "    def __call__(self, x):\n",
    "        for func in self.funcs:\n",
    "            x = func(x)\n",
    "        return x\n",
    "    \n",
    "p = Pipeline(factorial, sqrt, print)\n",
    "\n",
    "p(10)"
   ]
  },
  {
   "cell_type": "markdown",
   "metadata": {
    "slideshow": {
     "slide_type": "slide"
    }
   },
   "source": [
    "### Классы → Магические методы → `__getitem__`/`__setitem__`/`__len__`"
   ]
  },
  {
   "cell_type": "code",
   "execution_count": 31,
   "metadata": {},
   "outputs": [
    {
     "name": "stdout",
     "output_type": "stream",
     "text": [
      "1 + 2 + 3 = 6\n",
      "1 + 2 + 4 = 7\n",
      "3\n",
      "\n"
     ]
    }
   ],
   "source": [
    "class Sum:\n",
    "    def __init__(self, summands):\n",
    "        self.summands = summands\n",
    "        self.total = sum(summands) \n",
    "        \n",
    "    def __len__(self):\n",
    "        return len(self.summands)\n",
    "    \n",
    "    def __str__(self):\n",
    "        return(' + '.join(str(i) for i in self.summands) + ' = {}'.format(self.total))\n",
    "    \n",
    "    def __getitem__(self, i):\n",
    "        return self.summands[i]\n",
    "    \n",
    "    def __setitem__(self, i, value):\n",
    "        self.total -= self.summands[i] - value\n",
    "        self.summands[i] = value\n",
    "    \n",
    "s = Sum([1, 2 ,3])\n",
    "print(s)\n",
    "s[2] = 4\n",
    "print(s)\n",
    "print(len(s))\n",
    "print()"
   ]
  },
  {
   "cell_type": "code",
   "execution_count": null,
   "metadata": {},
   "outputs": [],
   "source": []
  },
  {
   "cell_type": "code",
   "execution_count": null,
   "metadata": {},
   "outputs": [],
   "source": []
  },
  {
   "cell_type": "code",
   "execution_count": null,
   "metadata": {},
   "outputs": [],
   "source": []
  },
  {
   "cell_type": "code",
   "execution_count": null,
   "metadata": {},
   "outputs": [],
   "source": []
  },
  {
   "cell_type": "code",
   "execution_count": null,
   "metadata": {},
   "outputs": [],
   "source": []
  },
  {
   "cell_type": "code",
   "execution_count": null,
   "metadata": {},
   "outputs": [],
   "source": []
  }
 ],
 "metadata": {
  "kernelspec": {
   "display_name": "Python 3",
   "language": "python",
   "name": "python3"
  },
  "language_info": {
   "codemirror_mode": {
    "name": "ipython",
    "version": 3
   },
   "file_extension": ".py",
   "mimetype": "text/x-python",
   "name": "python",
   "nbconvert_exporter": "python",
   "pygments_lexer": "ipython3",
   "version": "3.7.3"
  }
 },
 "nbformat": 4,
 "nbformat_minor": 2
}
