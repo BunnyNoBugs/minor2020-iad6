{
 "cells": [
  {
   "cell_type": "markdown",
   "metadata": {},
   "source": [
    "# Семинар 10"
   ]
  },
  {
   "cell_type": "markdown",
   "metadata": {},
   "source": [
    "### Методы обработки текстов"
   ]
  },
  {
   "cell_type": "markdown",
   "metadata": {},
   "source": [
    "Примеры задач автоматической обработки текстов:\n",
    "\n",
    "- классификация текстов\n",
    "\n",
    "    - анализ тональности\n",
    "    - фильтрация спама\n",
    "    - по теме или жанру\n",
    "\n",
    "- машинный перевод\n",
    "\n",
    "- распознавание речи\n",
    "\n",
    "- извлечение информации\n",
    "\n",
    "    - именованные сущности\n",
    "    - факты и события\n",
    "\n",
    "- кластеризация текстов\n",
    "\n",
    "- оптическое распознавание символов\n",
    "\n",
    "- проверка правописания\n",
    "\n",
    "- вопросно-ответные системы\n",
    "\n",
    "- суммаризация текстов\n",
    "\n",
    "- генерация текстов"
   ]
  },
  {
   "cell_type": "markdown",
   "metadata": {},
   "source": [
    "Одни из классических методов для работы с текстами:\n",
    "\n",
    "- токенизация\n",
    "\n",
    "- лемматизация / стемминг\n",
    "\n",
    "- удаление стоп-слов\n",
    "\n",
    "- векторное представление текстов (bag of words и TF-IDF)"
   ]
  },
  {
   "cell_type": "markdown",
   "metadata": {},
   "source": [
    "## Токенизация\n",
    "\n",
    "Токенизировать -- значит, поделить текст на слова, или *токены*.\n",
    "\n",
    "Самый наивный способ токенизировать текст -- разделить с помощью `split`. Но `split` упускает очень много всего, например, банально не отделяет пунктуацию от слов. Кроме этого, есть ещё много менее тривиальных проблем. Поэтому лучше использовать готовые токенизаторы."
   ]
  },
  {
   "cell_type": "code",
   "execution_count": 56,
   "metadata": {},
   "outputs": [],
   "source": [
    "from nltk.tokenize import word_tokenize, TweetTokenizer\n",
    "import numpy as np \n",
    "import pandas as pd"
   ]
  },
  {
   "cell_type": "code",
   "execution_count": 2,
   "metadata": {},
   "outputs": [],
   "source": [
    "example = 'Но не каждый хочет что-то исправлять:('"
   ]
  },
  {
   "cell_type": "code",
   "execution_count": 3,
   "metadata": {},
   "outputs": [
    {
     "data": {
      "text/plain": [
       "['Но', 'не', 'каждый', 'хочет', 'что-то', 'исправлять:(']"
      ]
     },
     "execution_count": 3,
     "metadata": {},
     "output_type": "execute_result"
    }
   ],
   "source": [
    "example.split()"
   ]
  },
  {
   "cell_type": "code",
   "execution_count": 4,
   "metadata": {},
   "outputs": [
    {
     "data": {
      "text/plain": [
       "['Но', 'не', 'каждый', 'хочет', 'что-то', 'исправлять', ':', '(']"
      ]
     },
     "execution_count": 4,
     "metadata": {},
     "output_type": "execute_result"
    }
   ],
   "source": [
    "word_tokenize(example)"
   ]
  },
  {
   "cell_type": "markdown",
   "metadata": {},
   "source": [
    "В nltk вообще есть довольно много токенизаторов:"
   ]
  },
  {
   "cell_type": "code",
   "execution_count": 5,
   "metadata": {},
   "outputs": [
    {
     "data": {
      "text/plain": [
       "['BlanklineTokenizer',\n",
       " 'LineTokenizer',\n",
       " 'MWETokenizer',\n",
       " 'PunktSentenceTokenizer',\n",
       " 'RegexpTokenizer',\n",
       " 'ReppTokenizer',\n",
       " 'SExprTokenizer',\n",
       " 'SpaceTokenizer',\n",
       " 'StanfordSegmenter',\n",
       " 'SyllableTokenizer',\n",
       " 'TabTokenizer',\n",
       " 'TextTilingTokenizer',\n",
       " 'ToktokTokenizer',\n",
       " 'TreebankWordTokenizer',\n",
       " 'TweetTokenizer',\n",
       " 'WhitespaceTokenizer']"
      ]
     },
     "execution_count": 5,
     "metadata": {},
     "output_type": "execute_result"
    }
   ],
   "source": [
    "from nltk import tokenize\n",
    "dir(tokenize)[:16]"
   ]
  },
  {
   "cell_type": "markdown",
   "metadata": {},
   "source": [
    "Они умеют выдавать индексы начала и конца каждого токена:"
   ]
  },
  {
   "cell_type": "code",
   "execution_count": 6,
   "metadata": {},
   "outputs": [
    {
     "data": {
      "text/plain": [
       "[(0, 2), (3, 5), (6, 12), (13, 18), (19, 25), (26, 38)]"
      ]
     },
     "execution_count": 6,
     "metadata": {},
     "output_type": "execute_result"
    }
   ],
   "source": [
    "wh_tok = tokenize.WhitespaceTokenizer()\n",
    "list(wh_tok.span_tokenize(example))"
   ]
  },
  {
   "cell_type": "markdown",
   "metadata": {},
   "source": [
    "(если вам было интересно, зачем вообще включать в модуль токенизатор, который работает как `.split()` :))\n",
    "\n",
    "Некторые токенизаторы ведут себя специфично:"
   ]
  },
  {
   "cell_type": "code",
   "execution_count": 7,
   "metadata": {},
   "outputs": [
    {
     "data": {
      "text/plain": [
       "['do', \"n't\", 'stop', 'me']"
      ]
     },
     "execution_count": 7,
     "metadata": {},
     "output_type": "execute_result"
    }
   ],
   "source": [
    "tokenize.TreebankWordTokenizer().tokenize(\"don't stop me\")"
   ]
  },
  {
   "cell_type": "markdown",
   "metadata": {},
   "source": [
    "Для некоторых задач это может быть полезно.\n",
    "\n",
    "А некоторые -- вообще не для текста на естественном языке (не очень понятно, зачем это в nltk :)):"
   ]
  },
  {
   "cell_type": "code",
   "execution_count": 8,
   "metadata": {},
   "outputs": [
    {
     "data": {
      "text/plain": [
       "['(a (b c))', 'd', 'e', '(f)']"
      ]
     },
     "execution_count": 8,
     "metadata": {},
     "output_type": "execute_result"
    }
   ],
   "source": [
    "tokenize.SExprTokenizer().tokenize(\"(a (b c)) d e (f)\")"
   ]
  },
  {
   "cell_type": "code",
   "execution_count": 9,
   "metadata": {},
   "outputs": [
    {
     "data": {
      "text/plain": [
       "['Но', 'не', 'каждый', 'хочет', 'что-то', 'исправлять', ':(']"
      ]
     },
     "execution_count": 9,
     "metadata": {},
     "output_type": "execute_result"
    }
   ],
   "source": [
    "from nltk.tokenize import TweetTokenizer\n",
    "\n",
    "tw = TweetTokenizer()\n",
    "tw.tokenize(example)"
   ]
  },
  {
   "cell_type": "markdown",
   "metadata": {},
   "source": [
    "## Стоп-слова и пунктуация\n",
    "\n",
    "*Стоп-слова* -- это слова, которые часто встречаются практически в любом тексте и ничего интересного не говорят о конретном документе, то есть играют роль шума. Поэтому их принято убирать. По той же причине убирают и пунктуацию."
   ]
  },
  {
   "cell_type": "code",
   "execution_count": 10,
   "metadata": {},
   "outputs": [
    {
     "name": "stdout",
     "output_type": "stream",
     "text": [
      "['и', 'в', 'во', 'не', 'что', 'он', 'на', 'я', 'с', 'со', 'как', 'а', 'то', 'все', 'она', 'так', 'его', 'но', 'да', 'ты', 'к', 'у', 'же', 'вы', 'за', 'бы', 'по', 'только', 'ее', 'мне', 'было', 'вот', 'от', 'меня', 'еще', 'нет', 'о', 'из', 'ему', 'теперь', 'когда', 'даже', 'ну', 'вдруг', 'ли', 'если', 'уже', 'или', 'ни', 'быть', 'был', 'него', 'до', 'вас', 'нибудь', 'опять', 'уж', 'вам', 'ведь', 'там', 'потом', 'себя', 'ничего', 'ей', 'может', 'они', 'тут', 'где', 'есть', 'надо', 'ней', 'для', 'мы', 'тебя', 'их', 'чем', 'была', 'сам', 'чтоб', 'без', 'будто', 'чего', 'раз', 'тоже', 'себе', 'под', 'будет', 'ж', 'тогда', 'кто', 'этот', 'того', 'потому', 'этого', 'какой', 'совсем', 'ним', 'здесь', 'этом', 'один', 'почти', 'мой', 'тем', 'чтобы', 'нее', 'сейчас', 'были', 'куда', 'зачем', 'всех', 'никогда', 'можно', 'при', 'наконец', 'два', 'об', 'другой', 'хоть', 'после', 'над', 'больше', 'тот', 'через', 'эти', 'нас', 'про', 'всего', 'них', 'какая', 'много', 'разве', 'три', 'эту', 'моя', 'впрочем', 'хорошо', 'свою', 'этой', 'перед', 'иногда', 'лучше', 'чуть', 'том', 'нельзя', 'такой', 'им', 'более', 'всегда', 'конечно', 'всю', 'между']\n"
     ]
    }
   ],
   "source": [
    "# у вас здесь, вероятно, выскочит ошибка и надо будет загрузить стоп слова\n",
    "# nltk.download(\"stopwords\")\n",
    "\n",
    "from nltk.corpus import stopwords\n",
    "print(stopwords.words('russian'))"
   ]
  },
  {
   "cell_type": "code",
   "execution_count": 11,
   "metadata": {},
   "outputs": [
    {
     "data": {
      "text/plain": [
       "'!\"#$%&\\'()*+,-./:;<=>?@[\\\\]^_`{|}~'"
      ]
     },
     "execution_count": 11,
     "metadata": {},
     "output_type": "execute_result"
    }
   ],
   "source": [
    "from string import punctuation\n",
    "punctuation"
   ]
  },
  {
   "cell_type": "code",
   "execution_count": 12,
   "metadata": {},
   "outputs": [],
   "source": [
    "noise = stopwords.words('russian') + list(punctuation)"
   ]
  },
  {
   "cell_type": "markdown",
   "metadata": {},
   "source": [
    "## Лемматизация\n",
    "\n",
    "Лемматизация – это сведение разных форм одного слова к начальной форме – *лемме*. Почему это хорошо?\n",
    "* Во-первых, мы хотим рассматривать как отдельную фичу каждое *слово*, а не каждую его отдельную форму.\n",
    "* Во-вторых, некоторые стоп-слова стоят только в начальной форме, и без лематизации выкидываем мы только её.\n",
    "\n",
    "Для русского есть два хороших лемматизатора: mystem и pymorphy:\n",
    "\n",
    "### [Mystem](https://tech.yandex.ru/mystem/)\n",
    "Как с ним работать:\n",
    "* можно скачать mystem и запускать [из терминала с разными параметрами](https://tech.yandex.ru/mystem/doc/)\n",
    "* [pymystem3](https://pythonhosted.org/pymystem3/pymystem3.html) - обертка для питона, работает медленнее, но это удобно"
   ]
  },
  {
   "cell_type": "code",
   "execution_count": 13,
   "metadata": {},
   "outputs": [],
   "source": [
    "from pymystem3 import Mystem\n",
    "mystem_analyzer = Mystem()"
   ]
  },
  {
   "cell_type": "markdown",
   "metadata": {},
   "source": [
    "Мы инициализировали Mystem c дефолтными параметрами. А вообще параметры есть такие:\n",
    "* mystem_bin - путь к `mystem`, если их несколько\n",
    "* grammar_info - нужна ли грамматическая информация или только леммы (по дефолту нужна)\n",
    "* disambiguation - нужно ли снятие омонимии - дизамбигуация (по дефолту нужна)\n",
    "* entire_input - нужно ли сохранять в выводе все (пробелы всякие, например), или можно выкинуть (по дефолту оставляется все)\n",
    "\n",
    "Методы Mystem принимают строку, токенизатор вшит внутри. Можно, конечно, и пословно анализировать, но тогда он не сможет учитывать контекст.\n",
    "\n",
    "Можно просто лемматизировать текст:"
   ]
  },
  {
   "cell_type": "code",
   "execution_count": 14,
   "metadata": {},
   "outputs": [
    {
     "name": "stdout",
     "output_type": "stream",
     "text": [
      "['но', ' ', 'не', ' ', 'каждый', ' ', 'хотеть', ' ', 'что-то', ' ', 'исправлять', ':(\\n']\n"
     ]
    }
   ],
   "source": [
    "print(mystem_analyzer.lemmatize(example))"
   ]
  },
  {
   "cell_type": "markdown",
   "metadata": {},
   "source": [
    "### [Pymorphy](http://pymorphy2.readthedocs.io/en/latest/)\n",
    "Это модуль на питоне, довольно быстрый и с кучей функций."
   ]
  },
  {
   "cell_type": "code",
   "execution_count": 15,
   "metadata": {},
   "outputs": [],
   "source": [
    "from pymorphy2 import MorphAnalyzer\n",
    "pymorphy2_analyzer = MorphAnalyzer()"
   ]
  },
  {
   "cell_type": "markdown",
   "metadata": {},
   "source": [
    "pymorphy2 работает с отдельными словами. Если дать ему на вход предложение - он его просто не лемматизирует, т.к. не понимает"
   ]
  },
  {
   "cell_type": "code",
   "execution_count": 16,
   "metadata": {},
   "outputs": [],
   "source": [
    "tokenized_example = tw.tokenize(example)"
   ]
  },
  {
   "cell_type": "code",
   "execution_count": 17,
   "metadata": {},
   "outputs": [
    {
     "data": {
      "text/plain": [
       "'хочет'"
      ]
     },
     "execution_count": 17,
     "metadata": {},
     "output_type": "execute_result"
    }
   ],
   "source": [
    "tokenized_example[3]"
   ]
  },
  {
   "cell_type": "code",
   "execution_count": 18,
   "metadata": {},
   "outputs": [
    {
     "data": {
      "text/plain": [
       "[Parse(word='хочет', tag=OpencorporaTag('VERB,impf,tran sing,3per,pres,indc'), normal_form='хотеть', score=1.0, methods_stack=((<DictionaryAnalyzer>, 'хочет', 2999, 5),))]"
      ]
     },
     "execution_count": 18,
     "metadata": {},
     "output_type": "execute_result"
    }
   ],
   "source": [
    "ana = pymorphy2_analyzer.parse(tokenized_example[3])\n",
    "ana"
   ]
  },
  {
   "cell_type": "code",
   "execution_count": 19,
   "metadata": {},
   "outputs": [
    {
     "data": {
      "text/plain": [
       "'хотеть'"
      ]
     },
     "execution_count": 19,
     "metadata": {},
     "output_type": "execute_result"
    }
   ],
   "source": [
    "ana[0].normal_form"
   ]
  },
  {
   "cell_type": "markdown",
   "metadata": {},
   "source": [
    "### mystem vs. pymorphy\n",
    "\n",
    "1) *Надеемся, что вы пользуетесь линуксом или маком*, но mystem работает невероятно медленно под windows на больших текстах\n",
    "\n",
    "2) *Снятие омонимии*. Mystem умеет снимать омонимию по контексту (хотя не всегда преуспевает), pymorphy2 берет на вход одно слово и соответственно вообще не умеет дизамбигуировать по контексту:"
   ]
  },
  {
   "cell_type": "code",
   "execution_count": 20,
   "metadata": {},
   "outputs": [
    {
     "name": "stdout",
     "output_type": "stream",
     "text": [
      "{'analysis': [{'lex': 'сорок', 'wt': 0.8710292578, 'gr': 'NUM=(пр|дат|род|твор)'}], 'text': 'сорока'}\n",
      "{'analysis': [{'lex': 'сорока', 'wt': 0.1210970059, 'gr': 'S,жен,од=им,ед'}], 'text': 'Сорока'}\n"
     ]
    }
   ],
   "source": [
    "homonym1 = 'За время обучения я прослушал больше сорока курсов.'\n",
    "homonym2 = 'Сорока своровала блестящее украшение со стола.'\n",
    "mystem_analyzer = Mystem() # инициализирую объект с дефолтными параметрами\n",
    "\n",
    "print(mystem_analyzer.analyze(homonym1)[-5])\n",
    "print(mystem_analyzer.analyze(homonym2)[0])"
   ]
  },
  {
   "cell_type": "code",
   "execution_count": 21,
   "metadata": {
    "scrolled": true
   },
   "outputs": [
    {
     "data": {
      "text/plain": [
       "['сорока',\n",
       " ' ',\n",
       " 'своровать',\n",
       " ' ',\n",
       " 'блестящий',\n",
       " ' ',\n",
       " 'украшение',\n",
       " ' ',\n",
       " 'со',\n",
       " ' ',\n",
       " 'стол',\n",
       " '.',\n",
       " '\\n']"
      ]
     },
     "execution_count": 21,
     "metadata": {},
     "output_type": "execute_result"
    }
   ],
   "source": [
    "mystem_analyzer.lemmatize(homonym2)"
   ]
  },
  {
   "cell_type": "code",
   "execution_count": 22,
   "metadata": {},
   "outputs": [
    {
     "name": "stdout",
     "output_type": "stream",
     "text": [
      "In my younger and more vulnerable years my father gave me some advice that I've been turning over in my mind ever since.\n",
      "\"Whenever you feel like criticizing any one,\" he told me, \"just remember that all the people in this world haven't had the advantages that you've had.\"\n"
     ]
    }
   ],
   "source": [
    "text = \"In my younger and more vulnerable years my father gave me some advice that I've been turning over in my mind ever since.\\n\\\"Whenever you feel like criticizing any one,\\\" he told me, \\\"just remember that all the people in this world haven't had the advantages that you've had.\\\"\"\n",
    "print(text)\n",
    "text_tokenized = [w for w in word_tokenize(text) if w.isalpha()]"
   ]
  },
  {
   "cell_type": "code",
   "execution_count": 23,
   "metadata": {},
   "outputs": [
    {
     "name": "stdout",
     "output_type": "stream",
     "text": [
      "in my younger and more vulner year my father gave me some advic that i been turn over in my mind ever sinc whenev you feel like critic ani one he told me just rememb that all the peopl in this world have had the advantag that you had\n"
     ]
    }
   ],
   "source": [
    "from nltk.stem.snowball import SnowballStemmer\n",
    "stemmer = SnowballStemmer('english')\n",
    "text_stemmed = [stemmer.stem(w) for w in text_tokenized]\n",
    "print(' '.join(text_stemmed))"
   ]
  },
  {
   "cell_type": "code",
   "execution_count": 24,
   "metadata": {},
   "outputs": [
    {
     "name": "stdout",
     "output_type": "stream",
     "text": [
      "In my younger and more vulnerable year my father gave me some advice that I been turning over in my mind ever since Whenever you feel like criticizing any one he told me just remember that all the people in this world have had the advantage that you had\n"
     ]
    }
   ],
   "source": [
    "from nltk.stem import WordNetLemmatizer\n",
    "lemmatizer = WordNetLemmatizer()\n",
    "text_lemmatized = [lemmatizer.lemmatize(w) for w in text_tokenized]\n",
    "print(' '.join(text_lemmatized))"
   ]
  },
  {
   "cell_type": "markdown",
   "metadata": {},
   "source": [
    "## Bag-of-words и TF-IDF"
   ]
  },
  {
   "cell_type": "markdown",
   "metadata": {},
   "source": [
    "Но как же все-таки работать с текстами, используя стандартные методы машинного обучения? Нужна выборка!\n",
    "\n",
    "Модель bag-of-words: текст можно представить как набор независимых слов. Тогда каждому слову можно сопоставить вес, таким образом, сопоставляя тексту набор весов. В качестве весов можно брать частоту встречаемости слов в тексте."
   ]
  },
  {
   "cell_type": "code",
   "execution_count": 4,
   "metadata": {},
   "outputs": [],
   "source": [
    "texts = ['I like my cat.', 'My cat is the most perfect cat.', 'is this cat or is this bread?']"
   ]
  },
  {
   "cell_type": "code",
   "execution_count": 5,
   "metadata": {},
   "outputs": [
    {
     "data": {
      "text/plain": [
       "['I like my cat',\n",
       " 'My cat is the most perfect cat',\n",
       " 'is this cat or is this bread']"
      ]
     },
     "execution_count": 5,
     "metadata": {},
     "output_type": "execute_result"
    }
   ],
   "source": [
    "texts_tokenized = [' '.join([w for w in word_tokenize(t) if w.isalpha()]) for t in texts]\n",
    "texts_tokenized"
   ]
  },
  {
   "cell_type": "markdown",
   "metadata": {},
   "source": [
    "Как обычно, выручает `sklearn`:"
   ]
  },
  {
   "cell_type": "code",
   "execution_count": 6,
   "metadata": {},
   "outputs": [],
   "source": [
    "from sklearn.feature_extraction.text import CountVectorizer\n",
    "cnt_vec = CountVectorizer()\n",
    "X = cnt_vec.fit_transform(texts_tokenized)"
   ]
  },
  {
   "cell_type": "code",
   "execution_count": 7,
   "metadata": {},
   "outputs": [
    {
     "data": {
      "text/plain": [
       "['bread', 'cat', 'is', 'like', 'most', 'my', 'or', 'perfect', 'the', 'this']"
      ]
     },
     "execution_count": 7,
     "metadata": {},
     "output_type": "execute_result"
    }
   ],
   "source": [
    "cnt_vec.get_feature_names()"
   ]
  },
  {
   "cell_type": "code",
   "execution_count": 8,
   "metadata": {},
   "outputs": [
    {
     "data": {
      "text/plain": [
       "<3x10 sparse matrix of type '<class 'numpy.int64'>'\n",
       "\twith 14 stored elements in Compressed Sparse Row format>"
      ]
     },
     "execution_count": 8,
     "metadata": {},
     "output_type": "execute_result"
    }
   ],
   "source": [
    "X"
   ]
  },
  {
   "cell_type": "code",
   "execution_count": 30,
   "metadata": {},
   "outputs": [
    {
     "data": {
      "text/plain": [
       "array([[0, 1, 0, 1, 0, 1, 0, 0, 0, 0],\n",
       "       [0, 2, 1, 0, 1, 1, 0, 1, 1, 0],\n",
       "       [1, 1, 2, 0, 0, 0, 1, 0, 0, 2]])"
      ]
     },
     "execution_count": 30,
     "metadata": {},
     "output_type": "execute_result"
    }
   ],
   "source": [
    "X.toarray()"
   ]
  },
  {
   "cell_type": "code",
   "execution_count": 33,
   "metadata": {},
   "outputs": [
    {
     "data": {
      "text/html": [
       "<div>\n",
       "<style scoped>\n",
       "    .dataframe tbody tr th:only-of-type {\n",
       "        vertical-align: middle;\n",
       "    }\n",
       "\n",
       "    .dataframe tbody tr th {\n",
       "        vertical-align: top;\n",
       "    }\n",
       "\n",
       "    .dataframe thead th {\n",
       "        text-align: right;\n",
       "    }\n",
       "</style>\n",
       "<table border=\"1\" class=\"dataframe\">\n",
       "  <thead>\n",
       "    <tr style=\"text-align: right;\">\n",
       "      <th></th>\n",
       "      <th>bread</th>\n",
       "      <th>cat</th>\n",
       "      <th>is</th>\n",
       "      <th>like</th>\n",
       "      <th>most</th>\n",
       "      <th>my</th>\n",
       "      <th>or</th>\n",
       "      <th>perfect</th>\n",
       "      <th>the</th>\n",
       "      <th>this</th>\n",
       "    </tr>\n",
       "  </thead>\n",
       "  <tbody>\n",
       "    <tr>\n",
       "      <td>0</td>\n",
       "      <td>0</td>\n",
       "      <td>1</td>\n",
       "      <td>0</td>\n",
       "      <td>1</td>\n",
       "      <td>0</td>\n",
       "      <td>1</td>\n",
       "      <td>0</td>\n",
       "      <td>0</td>\n",
       "      <td>0</td>\n",
       "      <td>0</td>\n",
       "    </tr>\n",
       "    <tr>\n",
       "      <td>1</td>\n",
       "      <td>0</td>\n",
       "      <td>2</td>\n",
       "      <td>1</td>\n",
       "      <td>0</td>\n",
       "      <td>1</td>\n",
       "      <td>1</td>\n",
       "      <td>0</td>\n",
       "      <td>1</td>\n",
       "      <td>1</td>\n",
       "      <td>0</td>\n",
       "    </tr>\n",
       "    <tr>\n",
       "      <td>2</td>\n",
       "      <td>1</td>\n",
       "      <td>1</td>\n",
       "      <td>2</td>\n",
       "      <td>0</td>\n",
       "      <td>0</td>\n",
       "      <td>0</td>\n",
       "      <td>1</td>\n",
       "      <td>0</td>\n",
       "      <td>0</td>\n",
       "      <td>2</td>\n",
       "    </tr>\n",
       "  </tbody>\n",
       "</table>\n",
       "</div>"
      ],
      "text/plain": [
       "   bread  cat  is  like  most  my  or  perfect  the  this\n",
       "0      0    1   0     1     0   1   0        0    0     0\n",
       "1      0    2   1     0     1   1   0        1    1     0\n",
       "2      1    1   2     0     0   0   1        0    0     2"
      ]
     },
     "execution_count": 33,
     "metadata": {},
     "output_type": "execute_result"
    }
   ],
   "source": [
    "pd.DataFrame(X.toarray(), columns=cnt_vec.get_feature_names())"
   ]
  },
  {
   "cell_type": "markdown",
   "metadata": {},
   "source": [
    "Заметим, что если слово часто встречается в одном тексте, но почти не встречается в других, то оно получает для данного текста большой вес, ровно так же, как и слова, которые часто встречаются в каждом тексте. Для того, чтобы разделять эти такие слова, можно использовать статистическую меру TF-IDF, характеризующую важность слова для конкретного текста. Для каждого слова из текста $d$ рассчитаем относительную частоту встречаемости в нем (Term Frequency):\n",
    "$$\n",
    "\\text{TF}(t, d) = \\frac{C(t)}{\\sum\\limits_{k \\in d}C(k)},\n",
    "$$\n",
    "где $C(t)$ - число вхождений слова $t$ в текст $d$.\n",
    "\n",
    "Также для каждого слова из текста $d$ рассчитаем обратную частоту встречаемости в корпусе текстов $D$ (Inverse Document Frequency):\n",
    "$$\n",
    "\\text{IDF}(t, D) = \\log\\left(\\frac{|D|}{|\\{d_i \\in D \\mid t \\in d_i\\}|}\\right)\n",
    "$$\n",
    "Логарифмирование здесь проводится с целью уменьшить масштаб весов, ибо зачастую в корпусах присутствует очень много текстов.\n",
    "\n",
    "В итоге каждому слову $t$ из текста $d$ теперь можно присвоить вес\n",
    "$$\n",
    "\\text{TF-IDF}(t, d, D) = \\text{TF}(t, d) \\times \\text{IDF}(t, D)\n",
    "$$\n",
    "Интерпретировать формулу выше несложно: действительно, чем чаще данное слово встречается в данном тексте и чем реже в остальных, тем важнее оно для этого текста."
   ]
  },
  {
   "cell_type": "markdown",
   "metadata": {},
   "source": [
    "А что там с практикой? `sklearn`, на помощь!"
   ]
  },
  {
   "cell_type": "code",
   "execution_count": 53,
   "metadata": {},
   "outputs": [],
   "source": [
    "from sklearn.feature_extraction.text import TfidfVectorizer\n",
    "# tfidf_vec = TfidfVectorizer()\n",
    "# X = tfidf_vec.fit_transform(texts_tokenized)"
   ]
  },
  {
   "cell_type": "code",
   "execution_count": 10,
   "metadata": {},
   "outputs": [
    {
     "data": {
      "text/plain": [
       "['bread', 'cat', 'is', 'like', 'most', 'my', 'or', 'perfect', 'the', 'this']"
      ]
     },
     "execution_count": 10,
     "metadata": {},
     "output_type": "execute_result"
    }
   ],
   "source": [
    "tfidf_vec.get_feature_names()"
   ]
  },
  {
   "cell_type": "code",
   "execution_count": 11,
   "metadata": {},
   "outputs": [
    {
     "data": {
      "text/plain": [
       "<3x10 sparse matrix of type '<class 'numpy.float64'>'\n",
       "\twith 14 stored elements in Compressed Sparse Row format>"
      ]
     },
     "execution_count": 11,
     "metadata": {},
     "output_type": "execute_result"
    }
   ],
   "source": [
    "X"
   ]
  },
  {
   "cell_type": "code",
   "execution_count": 13,
   "metadata": {},
   "outputs": [
    {
     "data": {
      "text/plain": [
       "array([[0.        , 0.42544054, 0.        , 0.72033345, 0.        ,\n",
       "        0.54783215, 0.        , 0.        , 0.        , 0.        ],\n",
       "       [0.        , 0.50130994, 0.32276391, 0.        , 0.42439575,\n",
       "        0.32276391, 0.        , 0.42439575, 0.42439575, 0.        ],\n",
       "       [0.33976626, 0.20067143, 0.516802  , 0.        , 0.        ,\n",
       "        0.        , 0.33976626, 0.        , 0.        , 0.67953252]])"
      ]
     },
     "execution_count": 13,
     "metadata": {},
     "output_type": "execute_result"
    }
   ],
   "source": [
    "X.toarray()"
   ]
  },
  {
   "cell_type": "code",
   "execution_count": 14,
   "metadata": {},
   "outputs": [
    {
     "data": {
      "text/html": [
       "<div>\n",
       "<style scoped>\n",
       "    .dataframe tbody tr th:only-of-type {\n",
       "        vertical-align: middle;\n",
       "    }\n",
       "\n",
       "    .dataframe tbody tr th {\n",
       "        vertical-align: top;\n",
       "    }\n",
       "\n",
       "    .dataframe thead th {\n",
       "        text-align: right;\n",
       "    }\n",
       "</style>\n",
       "<table border=\"1\" class=\"dataframe\">\n",
       "  <thead>\n",
       "    <tr style=\"text-align: right;\">\n",
       "      <th></th>\n",
       "      <th>bread</th>\n",
       "      <th>cat</th>\n",
       "      <th>is</th>\n",
       "      <th>like</th>\n",
       "      <th>most</th>\n",
       "      <th>my</th>\n",
       "      <th>or</th>\n",
       "      <th>perfect</th>\n",
       "      <th>the</th>\n",
       "      <th>this</th>\n",
       "    </tr>\n",
       "  </thead>\n",
       "  <tbody>\n",
       "    <tr>\n",
       "      <td>0</td>\n",
       "      <td>0.000000</td>\n",
       "      <td>0.425441</td>\n",
       "      <td>0.000000</td>\n",
       "      <td>0.720333</td>\n",
       "      <td>0.000000</td>\n",
       "      <td>0.547832</td>\n",
       "      <td>0.000000</td>\n",
       "      <td>0.000000</td>\n",
       "      <td>0.000000</td>\n",
       "      <td>0.000000</td>\n",
       "    </tr>\n",
       "    <tr>\n",
       "      <td>1</td>\n",
       "      <td>0.000000</td>\n",
       "      <td>0.501310</td>\n",
       "      <td>0.322764</td>\n",
       "      <td>0.000000</td>\n",
       "      <td>0.424396</td>\n",
       "      <td>0.322764</td>\n",
       "      <td>0.000000</td>\n",
       "      <td>0.424396</td>\n",
       "      <td>0.424396</td>\n",
       "      <td>0.000000</td>\n",
       "    </tr>\n",
       "    <tr>\n",
       "      <td>2</td>\n",
       "      <td>0.339766</td>\n",
       "      <td>0.200671</td>\n",
       "      <td>0.516802</td>\n",
       "      <td>0.000000</td>\n",
       "      <td>0.000000</td>\n",
       "      <td>0.000000</td>\n",
       "      <td>0.339766</td>\n",
       "      <td>0.000000</td>\n",
       "      <td>0.000000</td>\n",
       "      <td>0.679533</td>\n",
       "    </tr>\n",
       "  </tbody>\n",
       "</table>\n",
       "</div>"
      ],
      "text/plain": [
       "      bread       cat        is      like      most        my        or  \\\n",
       "0  0.000000  0.425441  0.000000  0.720333  0.000000  0.547832  0.000000   \n",
       "1  0.000000  0.501310  0.322764  0.000000  0.424396  0.322764  0.000000   \n",
       "2  0.339766  0.200671  0.516802  0.000000  0.000000  0.000000  0.339766   \n",
       "\n",
       "    perfect       the      this  \n",
       "0  0.000000  0.000000  0.000000  \n",
       "1  0.424396  0.424396  0.000000  \n",
       "2  0.000000  0.000000  0.679533  "
      ]
     },
     "execution_count": 14,
     "metadata": {},
     "output_type": "execute_result"
    }
   ],
   "source": [
    "pd.DataFrame(X.toarray(), columns=tfidf_vec.get_feature_names())"
   ]
  },
  {
   "cell_type": "markdown",
   "metadata": {},
   "source": [
    "Что изменилось по сравнению с методом `CountVectorizer`? Интерпретируйте результат."
   ]
  },
  {
   "cell_type": "markdown",
   "metadata": {},
   "source": [
    "## Baseline: классификация необработанных n-грамм\n",
    "\n",
    "### Векторизаторы"
   ]
  },
  {
   "cell_type": "code",
   "execution_count": 1,
   "metadata": {},
   "outputs": [],
   "source": [
    "from sklearn.linear_model import LogisticRegression # можно заменить на любимый классификатор\n",
    "from sklearn.feature_extraction.text import CountVectorizer"
   ]
  },
  {
   "cell_type": "markdown",
   "metadata": {},
   "source": [
    "Что такое n-граммы:"
   ]
  },
  {
   "cell_type": "code",
   "execution_count": 2,
   "metadata": {},
   "outputs": [],
   "source": [
    "from nltk import ngrams"
   ]
  },
  {
   "cell_type": "code",
   "execution_count": 3,
   "metadata": {},
   "outputs": [
    {
     "data": {
      "text/plain": [
       "[('Если',), ('б',), ('мне',), ('платили',), ('каждый',), ('раз',)]"
      ]
     },
     "execution_count": 3,
     "metadata": {},
     "output_type": "execute_result"
    }
   ],
   "source": [
    "sent = 'Если б мне платили каждый раз'.split()\n",
    "list(ngrams(sent, 1)) # униграммы"
   ]
  },
  {
   "cell_type": "code",
   "execution_count": 4,
   "metadata": {},
   "outputs": [
    {
     "data": {
      "text/plain": [
       "[('Если', 'б'),\n",
       " ('б', 'мне'),\n",
       " ('мне', 'платили'),\n",
       " ('платили', 'каждый'),\n",
       " ('каждый', 'раз')]"
      ]
     },
     "execution_count": 4,
     "metadata": {},
     "output_type": "execute_result"
    }
   ],
   "source": [
    "list(ngrams(sent, 2)) # биграммы"
   ]
  },
  {
   "cell_type": "code",
   "execution_count": 5,
   "metadata": {},
   "outputs": [
    {
     "data": {
      "text/plain": [
       "[('Если', 'б', 'мне'),\n",
       " ('б', 'мне', 'платили'),\n",
       " ('мне', 'платили', 'каждый'),\n",
       " ('платили', 'каждый', 'раз')]"
      ]
     },
     "execution_count": 5,
     "metadata": {},
     "output_type": "execute_result"
    }
   ],
   "source": [
    "list(ngrams(sent, 3)) # триграммы"
   ]
  },
  {
   "cell_type": "code",
   "execution_count": 11,
   "metadata": {},
   "outputs": [
    {
     "data": {
      "text/plain": [
       "[('Если', 'б', 'мне', 'платили', 'каждый'),\n",
       " ('б', 'мне', 'платили', 'каждый', 'раз')]"
      ]
     },
     "execution_count": 11,
     "metadata": {},
     "output_type": "execute_result"
    }
   ],
   "source": [
    "list(ngrams(sent, 5)) # ... пентаграммы?"
   ]
  },
  {
   "cell_type": "markdown",
   "metadata": {},
   "source": [
    "## Задача: классификация твитов по тональности\n",
    "\n",
    "У нас есть датасет из твитов, про каждый указано, как он эмоционально окрашен: положительно или отрицательно. Задача: предсказывать эмоциональную окраску.\n",
    "\n",
    "Классификацию по тональности используют в рекомендательных системах, чтобы понять, понравилось ли людям кафе, кино, etc.\n",
    "\n",
    "Скачиваем куски датасета ([источник](http://study.mokoron.com/)): [положительные](https://www.dropbox.com/s/fnpq3z4bcnoktiv/positive.csv?dl=0), [отрицательные](https://www.dropbox.com/s/r6u59ljhhjdg6j0/negative.csv)."
   ]
  },
  {
   "cell_type": "code",
   "execution_count": 45,
   "metadata": {},
   "outputs": [
    {
     "name": "stdout",
     "output_type": "stream",
     "text": [
      "--2020-04-01 10:14:16--  https://www.dropbox.com/s/fnpq3z4bcnoktiv/positive.csv\n",
      "Resolving www.dropbox.com (www.dropbox.com)... 162.125.70.1, 2620:100:6026:1::a27d:4601\n",
      "Connecting to www.dropbox.com (www.dropbox.com)|162.125.70.1|:443... connected.\n",
      "HTTP request sent, awaiting response... 301 Moved Permanently\n",
      "Location: /s/raw/fnpq3z4bcnoktiv/positive.csv [following]\n",
      "--2020-04-01 10:14:16--  https://www.dropbox.com/s/raw/fnpq3z4bcnoktiv/positive.csv\n",
      "Reusing existing connection to www.dropbox.com:443.\n",
      "HTTP request sent, awaiting response... 302 Found\n",
      "Location: https://ucf4146f7cdf228245ff8334f5aa.dl.dropboxusercontent.com/cd/0/inline/A1Bvv_Mze-fSvaLm8zf9Xv07r4lfZBkv3dc8Znx0QnsCENDXJhrQuKFKRmdxXT_zjqeu2WuM19LmgCSegmxDnjL0SYRHfoLmGaTIgZ_ZAIteTA/file# [following]\n",
      "--2020-04-01 10:14:16--  https://ucf4146f7cdf228245ff8334f5aa.dl.dropboxusercontent.com/cd/0/inline/A1Bvv_Mze-fSvaLm8zf9Xv07r4lfZBkv3dc8Znx0QnsCENDXJhrQuKFKRmdxXT_zjqeu2WuM19LmgCSegmxDnjL0SYRHfoLmGaTIgZ_ZAIteTA/file\n",
      "Resolving ucf4146f7cdf228245ff8334f5aa.dl.dropboxusercontent.com (ucf4146f7cdf228245ff8334f5aa.dl.dropboxusercontent.com)... 162.125.70.6, 2620:100:6026:6::a27d:4606\n",
      "Connecting to ucf4146f7cdf228245ff8334f5aa.dl.dropboxusercontent.com (ucf4146f7cdf228245ff8334f5aa.dl.dropboxusercontent.com)|162.125.70.6|:443... connected.\n",
      "HTTP request sent, awaiting response... 200 OK\n",
      "Length: 26233379 (25M) [text/plain]\n",
      "Saving to: <<positive.csv.1>>\n",
      "\n",
      "positive.csv.1      100%[===================>]  25.02M  6.05MB/s    in 4.1s    \n",
      "\n",
      "2020-04-01 10:14:22 (6.15 MB/s) - <<positive.csv.1>> saved [26233379/26233379]\n",
      "\n",
      "--2020-04-01 10:14:22--  https://www.dropbox.com/s/r6u59ljhhjdg6j0/negative.csv\n",
      "Resolving www.dropbox.com (www.dropbox.com)... 162.125.70.1, 2620:100:6026:1::a27d:4601\n",
      "Connecting to www.dropbox.com (www.dropbox.com)|162.125.70.1|:443... connected.\n",
      "HTTP request sent, awaiting response... 301 Moved Permanently\n",
      "Location: /s/raw/r6u59ljhhjdg6j0/negative.csv [following]\n",
      "--2020-04-01 10:14:23--  https://www.dropbox.com/s/raw/r6u59ljhhjdg6j0/negative.csv\n",
      "Reusing existing connection to www.dropbox.com:443.\n",
      "HTTP request sent, awaiting response... 302 Found\n",
      "Location: https://uc341cf6458c137891d2eee90c4c.dl.dropboxusercontent.com/cd/0/inline/A1AKK_mRBWyXIddi1FSIXYYpWAfDvuWyJCMTy-kAPqh2zh_mLx7urRXv8O6nLVNSRubWXvAttEi61zy70m-GzsyeH7ev1Zzn3A2qSzhmLJG69w/file# [following]\n",
      "--2020-04-01 10:14:23--  https://uc341cf6458c137891d2eee90c4c.dl.dropboxusercontent.com/cd/0/inline/A1AKK_mRBWyXIddi1FSIXYYpWAfDvuWyJCMTy-kAPqh2zh_mLx7urRXv8O6nLVNSRubWXvAttEi61zy70m-GzsyeH7ev1Zzn3A2qSzhmLJG69w/file\n",
      "Resolving uc341cf6458c137891d2eee90c4c.dl.dropboxusercontent.com (uc341cf6458c137891d2eee90c4c.dl.dropboxusercontent.com)... 162.125.70.6, 2620:100:6026:6::a27d:4606\n",
      "Connecting to uc341cf6458c137891d2eee90c4c.dl.dropboxusercontent.com (uc341cf6458c137891d2eee90c4c.dl.dropboxusercontent.com)|162.125.70.6|:443... connected.\n",
      "HTTP request sent, awaiting response... 200 OK\n",
      "Length: 24450101 (23M) [text/plain]\n",
      "Saving to: <<negative.csv.1>>\n",
      "\n",
      "negative.csv.1      100%[===================>]  23.32M  8.20MB/s    in 2.8s    \n",
      "\n",
      "2020-04-01 10:14:27 (8.20 MB/s) - <<negative.csv.1>> saved [24450101/24450101]\n",
      "\n"
     ]
    }
   ],
   "source": [
    "# если у вас линукс / мак / collab или ещё какая-то среда, в которой работает wget, можно так:\n",
    "!wget https://www.dropbox.com/s/fnpq3z4bcnoktiv/positive.csv\n",
    "!wget https://www.dropbox.com/s/r6u59ljhhjdg6j0/negative.csv"
   ]
  },
  {
   "cell_type": "code",
   "execution_count": 45,
   "metadata": {},
   "outputs": [],
   "source": [
    "import pandas as pd\n",
    "import numpy as np\n",
    "from sklearn.metrics import *\n",
    "from sklearn.model_selection import train_test_split\n",
    "from sklearn.pipeline import Pipeline"
   ]
  },
  {
   "cell_type": "code",
   "execution_count": 32,
   "metadata": {},
   "outputs": [],
   "source": [
    "# считываем данные и заполняем общий датасет\n",
    "positive = pd.read_csv('positive.csv', sep=';', usecols=[3], names=['text'])\n",
    "positive['label'] = ['positive'] * len(positive)\n",
    "negative = pd.read_csv('negative.csv', sep=';', usecols=[3], names=['text'])\n",
    "negative['label'] = ['negative'] * len(negative)\n",
    "df = positive.append(negative)"
   ]
  },
  {
   "cell_type": "code",
   "execution_count": 57,
   "metadata": {},
   "outputs": [
    {
     "data": {
      "text/html": [
       "<div>\n",
       "<style scoped>\n",
       "    .dataframe tbody tr th:only-of-type {\n",
       "        vertical-align: middle;\n",
       "    }\n",
       "\n",
       "    .dataframe tbody tr th {\n",
       "        vertical-align: top;\n",
       "    }\n",
       "\n",
       "    .dataframe thead th {\n",
       "        text-align: right;\n",
       "    }\n",
       "</style>\n",
       "<table border=\"1\" class=\"dataframe\">\n",
       "  <thead>\n",
       "    <tr style=\"text-align: right;\">\n",
       "      <th></th>\n",
       "      <th>text</th>\n",
       "      <th>label</th>\n",
       "    </tr>\n",
       "  </thead>\n",
       "  <tbody>\n",
       "    <tr>\n",
       "      <td>0</td>\n",
       "      <td>@first_timee хоть я и школота, но поверь, у на...</td>\n",
       "      <td>positive</td>\n",
       "    </tr>\n",
       "    <tr>\n",
       "      <td>1</td>\n",
       "      <td>Да, все-таки он немного похож на него. Но мой ...</td>\n",
       "      <td>positive</td>\n",
       "    </tr>\n",
       "    <tr>\n",
       "      <td>2</td>\n",
       "      <td>RT @KatiaCheh: Ну ты идиотка) я испугалась за ...</td>\n",
       "      <td>positive</td>\n",
       "    </tr>\n",
       "    <tr>\n",
       "      <td>3</td>\n",
       "      <td>RT @digger2912: \"Кто то в углу сидит и погибае...</td>\n",
       "      <td>positive</td>\n",
       "    </tr>\n",
       "    <tr>\n",
       "      <td>4</td>\n",
       "      <td>@irina_dyshkant Вот что значит страшилка :D\\nН...</td>\n",
       "      <td>positive</td>\n",
       "    </tr>\n",
       "    <tr>\n",
       "      <td>...</td>\n",
       "      <td>...</td>\n",
       "      <td>...</td>\n",
       "    </tr>\n",
       "    <tr>\n",
       "      <td>111918</td>\n",
       "      <td>Но не каждый хочет что то исправлять:( http://...</td>\n",
       "      <td>negative</td>\n",
       "    </tr>\n",
       "    <tr>\n",
       "      <td>111919</td>\n",
       "      <td>скучаю так :-( только @taaannyaaa вправляет мо...</td>\n",
       "      <td>negative</td>\n",
       "    </tr>\n",
       "    <tr>\n",
       "      <td>111920</td>\n",
       "      <td>Вот и в школу, в говно это идти уже надо(</td>\n",
       "      <td>negative</td>\n",
       "    </tr>\n",
       "    <tr>\n",
       "      <td>111921</td>\n",
       "      <td>RT @_Them__: @LisaBeroud Тауриэль, не грусти :...</td>\n",
       "      <td>negative</td>\n",
       "    </tr>\n",
       "    <tr>\n",
       "      <td>111922</td>\n",
       "      <td>Такси везет меня на работу. Раздумываю приплат...</td>\n",
       "      <td>negative</td>\n",
       "    </tr>\n",
       "  </tbody>\n",
       "</table>\n",
       "<p>226834 rows × 2 columns</p>\n",
       "</div>"
      ],
      "text/plain": [
       "                                                     text     label\n",
       "0       @first_timee хоть я и школота, но поверь, у на...  positive\n",
       "1       Да, все-таки он немного похож на него. Но мой ...  positive\n",
       "2       RT @KatiaCheh: Ну ты идиотка) я испугалась за ...  positive\n",
       "3       RT @digger2912: \"Кто то в углу сидит и погибае...  positive\n",
       "4       @irina_dyshkant Вот что значит страшилка :D\\nН...  positive\n",
       "...                                                   ...       ...\n",
       "111918  Но не каждый хочет что то исправлять:( http://...  negative\n",
       "111919  скучаю так :-( только @taaannyaaa вправляет мо...  negative\n",
       "111920          Вот и в школу, в говно это идти уже надо(  negative\n",
       "111921  RT @_Them__: @LisaBeroud Тауриэль, не грусти :...  negative\n",
       "111922  Такси везет меня на работу. Раздумываю приплат...  negative\n",
       "\n",
       "[226834 rows x 2 columns]"
      ]
     },
     "execution_count": 57,
     "metadata": {},
     "output_type": "execute_result"
    }
   ],
   "source": [
    "df"
   ]
  },
  {
   "cell_type": "code",
   "execution_count": 49,
   "metadata": {},
   "outputs": [],
   "source": [
    "X_train, X_test, y_train, y_test = train_test_split(df.text, df.label)"
   ]
  },
  {
   "cell_type": "markdown",
   "metadata": {},
   "source": [
    "Самый простой способ извлечь фичи из текстовых данных -- векторизаторы: `CountVectorizer` и `TfidfVectorizer`\n",
    "\n",
    "Объект `CountVectorizer` делает простую вещь:\n",
    "* строит для каждого документа (каждой пришедшей ему строки) вектор размерности `n`, где `n` -- количество слов или n-грам во всём корпусе\n",
    "* заполняет каждый i-тый элемент количеством вхождений слова в данный документ"
   ]
  },
  {
   "cell_type": "code",
   "execution_count": 47,
   "metadata": {},
   "outputs": [],
   "source": [
    "vec = CountVectorizer(ngram_range=(1, 1))\n",
    "bow = vec.fit_transform(x_train) # bow -- bag of words (мешок слов)"
   ]
  },
  {
   "cell_type": "markdown",
   "metadata": {},
   "source": [
    "ngram_range отвечает за то, какие n-граммы мы используем в качестве фичей:<br/>\n",
    "ngram_range=(1, 1) -- униграммы<br/>\n",
    "ngram_range=(3, 3) -- триграммы<br/>\n",
    "ngram_range=(1, 3) -- униграммы, биграммы и триграммы.\n",
    "\n",
    "В vec.vocabulary_ лежит словарь: мэппинг слов к их индексам:"
   ]
  },
  {
   "cell_type": "code",
   "execution_count": 51,
   "metadata": {},
   "outputs": [
    {
     "data": {
      "text/plain": [
       "[('ну', 169326),\n",
       " ('вот', 114857),\n",
       " ('зашла', 137303),\n",
       " ('что', 237571),\n",
       " ('то', 222025),\n",
       " ('написать', 163523),\n",
       " ('lumoooon', 53749),\n",
       " ('сбил', 206692),\n",
       " ('мои', 159467),\n",
       " ('мысли', 161215)]"
      ]
     },
     "execution_count": 51,
     "metadata": {},
     "output_type": "execute_result"
    }
   ],
   "source": [
    "list(vec.vocabulary_.items())[:10]"
   ]
  },
  {
   "cell_type": "code",
   "execution_count": 52,
   "metadata": {},
   "outputs": [
    {
     "name": "stderr",
     "output_type": "stream",
     "text": [
      "/Users/danyache/opt/anaconda3/lib/python3.7/site-packages/sklearn/linear_model/logistic.py:432: FutureWarning: Default solver will be changed to 'lbfgs' in 0.22. Specify a solver to silence this warning.\n",
      "  FutureWarning)\n"
     ]
    },
    {
     "data": {
      "text/plain": [
       "LogisticRegression(C=1.0, class_weight=None, dual=False, fit_intercept=True,\n",
       "                   intercept_scaling=1, l1_ratio=None, max_iter=100,\n",
       "                   multi_class='warn', n_jobs=None, penalty='l2',\n",
       "                   random_state=42, solver='warn', tol=0.0001, verbose=0,\n",
       "                   warm_start=False)"
      ]
     },
     "execution_count": 52,
     "metadata": {},
     "output_type": "execute_result"
    }
   ],
   "source": [
    "clf = LogisticRegression(random_state=42)\n",
    "clf.fit(bow, y_train)"
   ]
  },
  {
   "cell_type": "code",
   "execution_count": 53,
   "metadata": {
    "scrolled": true
   },
   "outputs": [
    {
     "name": "stdout",
     "output_type": "stream",
     "text": [
      "              precision    recall  f1-score   support\n",
      "\n",
      "    negative       0.76      0.76      0.76     28229\n",
      "    positive       0.76      0.77      0.76     28480\n",
      "\n",
      "    accuracy                           0.76     56709\n",
      "   macro avg       0.76      0.76      0.76     56709\n",
      "weighted avg       0.76      0.76      0.76     56709\n",
      "\n"
     ]
    }
   ],
   "source": [
    "pred = clf.predict(vec.transform(x_test))\n",
    "print(classification_report(pred, y_test))"
   ]
  },
  {
   "cell_type": "markdown",
   "metadata": {},
   "source": [
    "Попробуем сделать то же самое для триграмм:"
   ]
  },
  {
   "cell_type": "code",
   "execution_count": 54,
   "metadata": {
    "scrolled": true
   },
   "outputs": [
    {
     "name": "stderr",
     "output_type": "stream",
     "text": [
      "/Users/danyache/opt/anaconda3/lib/python3.7/site-packages/sklearn/linear_model/logistic.py:432: FutureWarning: Default solver will be changed to 'lbfgs' in 0.22. Specify a solver to silence this warning.\n",
      "  FutureWarning)\n"
     ]
    },
    {
     "name": "stdout",
     "output_type": "stream",
     "text": [
      "              precision    recall  f1-score   support\n",
      "\n",
      "    negative       0.47      0.72      0.57     18328\n",
      "    positive       0.82      0.61      0.70     38381\n",
      "\n",
      "    accuracy                           0.65     56709\n",
      "   macro avg       0.65      0.67      0.64     56709\n",
      "weighted avg       0.71      0.65      0.66     56709\n",
      "\n"
     ]
    }
   ],
   "source": [
    "vec = CountVectorizer(ngram_range=(3, 3))\n",
    "bow = vec.fit_transform(x_train)\n",
    "clf = LogisticRegression(random_state=42)\n",
    "clf.fit(bow, y_train)\n",
    "pred = clf.predict(vec.transform(x_test))\n",
    "print(classification_report(pred, y_test))"
   ]
  },
  {
   "cell_type": "markdown",
   "metadata": {},
   "source": [
    "А теперь для TF-IDF"
   ]
  },
  {
   "cell_type": "code",
   "execution_count": 55,
   "metadata": {},
   "outputs": [
    {
     "name": "stderr",
     "output_type": "stream",
     "text": [
      "/Users/danyache/opt/anaconda3/lib/python3.7/site-packages/sklearn/linear_model/logistic.py:432: FutureWarning: Default solver will be changed to 'lbfgs' in 0.22. Specify a solver to silence this warning.\n",
      "  FutureWarning)\n"
     ]
    },
    {
     "name": "stdout",
     "output_type": "stream",
     "text": [
      "              precision    recall  f1-score   support\n",
      "\n",
      "    negative       0.73      0.77      0.75     26665\n",
      "    positive       0.78      0.75      0.77     30044\n",
      "\n",
      "    accuracy                           0.76     56709\n",
      "   macro avg       0.76      0.76      0.76     56709\n",
      "weighted avg       0.76      0.76      0.76     56709\n",
      "\n"
     ]
    }
   ],
   "source": [
    "vec = TfidfVectorizer(ngram_range=(1, 1))\n",
    "bow = vec.fit_transform(x_train)\n",
    "clf = LogisticRegression(random_state=42)\n",
    "clf.fit(bow, y_train)\n",
    "pred = clf.predict(vec.transform(x_test))\n",
    "print(classification_report(pred, y_test))"
   ]
  },
  {
   "cell_type": "code",
   "execution_count": null,
   "metadata": {},
   "outputs": [
    {
     "name": "stderr",
     "output_type": "stream",
     "text": [
      "/Users/danyache/opt/anaconda3/lib/python3.7/site-packages/sklearn/feature_extraction/text.py:300: UserWarning: Your stop_words may be inconsistent with your preprocessing. Tokenizing the stop words generated tokens ['``'] not in stop_words.\n",
      "  'stop_words.' % sorted(inconsistent))\n"
     ]
    }
   ],
   "source": [
    "vec = CountVectorizer(ngram_range=(1, 1), tokenizer=word_tokenize, stop_words=noise)\n",
    "bow = vec.fit_transform(x_train)\n",
    "clf = LogisticRegression(random_state=42)\n",
    "clf.fit(bow, y_train)\n",
    "pred = clf.predict(vec.transform(x_test))\n",
    "print(classification_report(pred, y_test))"
   ]
  },
  {
   "cell_type": "markdown",
   "metadata": {},
   "source": [
    "## О важности эксплоративного анализа\n",
    "\n",
    "Но иногда пунктуация бывает и не шумом -- главное отталкиваться от задачи. Что будет если вообще не убирать пунктуацию?"
   ]
  },
  {
   "cell_type": "code",
   "execution_count": null,
   "metadata": {},
   "outputs": [],
   "source": [
    "vec = TfidfVectorizer(ngram_range=(1, 1), tokenizer=word_tokenize)\n",
    "bow = vec.fit_transform(x_train)\n",
    "clf = LogisticRegression(random_state=42)\n",
    "clf.fit(bow, y_train)\n",
    "pred = clf.predict(vec.transform(x_test))\n",
    "print(classification_report(pred, y_test))"
   ]
  },
  {
   "cell_type": "markdown",
   "metadata": {},
   "source": [
    "Шок! Стоило оставить пунктуацию -- и все метрики равны 1. Как это получилось? Среди неё были очень значимые токены (как вы думаете, какие?). Найдите фичи с самыми большими коэффициэнтами:"
   ]
  },
  {
   "cell_type": "code",
   "execution_count": 134,
   "metadata": {},
   "outputs": [],
   "source": [
    "# your code here"
   ]
  },
  {
   "cell_type": "markdown",
   "metadata": {},
   "source": [
    "Посмотрим, как один из супер-значительных токенов справится с классификацией безо всякого машинного обучения:"
   ]
  },
  {
   "cell_type": "code",
   "execution_count": 148,
   "metadata": {},
   "outputs": [
    {
     "name": "stdout",
     "output_type": "stream",
     "text": [
      "              precision    recall  f1-score   support\n",
      "\n",
      "    negative       1.00      0.85      0.92     32922\n",
      "    positive       0.83      1.00      0.91     23787\n",
      "\n",
      "    accuracy                           0.91     56709\n",
      "   macro avg       0.91      0.92      0.91     56709\n",
      "weighted avg       0.93      0.91      0.91     56709\n",
      "\n"
     ]
    }
   ],
   "source": [
    "cool_token = # your code here\n",
    "pred = ['positive' if cool_token in tweet else 'negative' for tweet in x_test]\n",
    "print(classification_report(pred, y_test))"
   ]
  },
  {
   "cell_type": "markdown",
   "metadata": {},
   "source": [
    "## Символьные n-граммы\n",
    "\n",
    "Теперь в качестве фичей используем, например, униграммы символов:"
   ]
  },
  {
   "cell_type": "code",
   "execution_count": 149,
   "metadata": {},
   "outputs": [
    {
     "name": "stderr",
     "output_type": "stream",
     "text": [
      "/Users/danyache/opt/anaconda3/lib/python3.7/site-packages/sklearn/linear_model/logistic.py:432: FutureWarning: Default solver will be changed to 'lbfgs' in 0.22. Specify a solver to silence this warning.\n",
      "  FutureWarning)\n"
     ]
    },
    {
     "name": "stdout",
     "output_type": "stream",
     "text": [
      "              precision    recall  f1-score   support\n",
      "\n",
      "    negative       0.99      1.00      0.99     27858\n",
      "    positive       1.00      0.99      1.00     28851\n",
      "\n",
      "    accuracy                           0.99     56709\n",
      "   macro avg       0.99      0.99      0.99     56709\n",
      "weighted avg       0.99      0.99      0.99     56709\n",
      "\n"
     ]
    }
   ],
   "source": [
    "vec = CountVectorizer(analyzer='char', ngram_range=(1, 1))\n",
    "bow = vec.fit_transform(x_train)\n",
    "clf = LogisticRegression(random_state=42)\n",
    "clf.fit(bow, y_train)\n",
    "pred = clf.predict(vec.transform(x_test))\n",
    "print(classification_report(pred, y_test))"
   ]
  },
  {
   "cell_type": "markdown",
   "metadata": {},
   "source": [
    "В общем-то, теперь уже понятно, почему на этих данных здесь 1. Так или инчае, на символах классифицировать тоже можно: для некторых задач (например, для определения языка) фичи-символьные n-граммы решительно рулят.\n",
    "\n",
    "Ещё одна замечательная особенность фичей-символов: токенизация и лемматизация не нужна, можно использовать такой подход для языков, у которых нет готвых анализаторов."
   ]
  },
  {
   "cell_type": "markdown",
   "metadata": {},
   "source": [
    "## Регулярки\n",
    "\n",
    "https://habr.com/ru/post/115825/\n",
    "\n",
    "Вообще, часто бывает так, что для конкретного случая нужен особый способ токенизации, и надо самостоятельно написать регулярку. Или, например, перед работой с текстом, надо почистить его от своеобразного мусора: упоминаний пользователей, url и так далее.\n",
    "\n",
    "Навык полезный, давайте в нём тоже потренируемся."
   ]
  },
  {
   "cell_type": "code",
   "execution_count": 150,
   "metadata": {},
   "outputs": [],
   "source": [
    "import re"
   ]
  },
  {
   "cell_type": "markdown",
   "metadata": {},
   "source": [
    "### findall\n",
    "возвращает список всех найденных совпадений"
   ]
  },
  {
   "cell_type": "code",
   "execution_count": 160,
   "metadata": {},
   "outputs": [
    {
     "name": "stdout",
     "output_type": "stream",
     "text": [
      "['abcd', 'abca']\n"
     ]
    }
   ],
   "source": [
    "result = re.findall('ab+c.', 'abcdefghijkabcabcxabc') \n",
    "print(result)"
   ]
  },
  {
   "cell_type": "code",
   "execution_count": 168,
   "metadata": {},
   "outputs": [
    {
     "data": {
      "text/plain": [
       "['abbbca']"
      ]
     },
     "execution_count": 168,
     "metadata": {},
     "output_type": "execute_result"
    }
   ],
   "source": [
    "re.findall('ab+c.', 'abbbca')"
   ]
  },
  {
   "cell_type": "markdown",
   "metadata": {},
   "source": [
    "Вопрос на внимательность: почему нет abcx?"
   ]
  },
  {
   "cell_type": "markdown",
   "metadata": {},
   "source": [
    "### split\n",
    "разделяет строку по заданному шаблону\n"
   ]
  },
  {
   "cell_type": "code",
   "execution_count": 169,
   "metadata": {},
   "outputs": [
    {
     "name": "stdout",
     "output_type": "stream",
     "text": [
      "['itsy', ' bitsy', ' teenie', ' weenie']\n"
     ]
    }
   ],
   "source": [
    "result = re.split(',', 'itsy, bitsy, teenie, weenie') \n",
    "print(result)"
   ]
  },
  {
   "cell_type": "markdown",
   "metadata": {},
   "source": [
    "можно указать максимальное количество разбиений"
   ]
  },
  {
   "cell_type": "code",
   "execution_count": 170,
   "metadata": {},
   "outputs": [
    {
     "name": "stdout",
     "output_type": "stream",
     "text": [
      "['itsy', ' bitsy', ' teenie, weenie']\n"
     ]
    }
   ],
   "source": [
    "result = re.split(',', 'itsy, bitsy, teenie, weenie', maxsplit = 2) \n",
    "print(result)"
   ]
  },
  {
   "cell_type": "markdown",
   "metadata": {},
   "source": [
    "### sub\n",
    "ищет шаблон в строке и заменяет все совпадения на указанную подстроку\n",
    "\n",
    "параметры: (pattern, repl, string)"
   ]
  },
  {
   "cell_type": "code",
   "execution_count": 171,
   "metadata": {},
   "outputs": [
    {
     "name": "stdout",
     "output_type": "stream",
     "text": [
      "bbcbbc\n"
     ]
    }
   ],
   "source": [
    "result = re.sub('a', 'b', 'abcabc')\n",
    "print (result)"
   ]
  },
  {
   "cell_type": "markdown",
   "metadata": {},
   "source": [
    "### compile\n",
    "компилирует регулярное выражение в отдельный объект"
   ]
  },
  {
   "cell_type": "code",
   "execution_count": 172,
   "metadata": {},
   "outputs": [
    {
     "data": {
      "text/plain": [
       "['Слова', 'Да', 'больше', 'ещё', 'больше', 'слов', 'Что-то', 'ещё']"
      ]
     },
     "execution_count": 172,
     "metadata": {},
     "output_type": "execute_result"
    }
   ],
   "source": [
    "# Пример: построение списка всех слов строки:\n",
    "\n",
    "prog = re.compile('[А-Яа-яё\\-]+')\n",
    "prog.findall(\"Слова? Да, больше, ещё больше слов! Что-то ещё.\")"
   ]
  },
  {
   "cell_type": "markdown",
   "metadata": {},
   "source": [
    "**Задание**: вернуть список доменов (@gmail.com) из списка адресов электронной почты:\n",
    "\n",
    "```\n",
    "abc.test@gmail.com, xyz@test.in, test.first@analyticsvidhya.com, first.test@rest.biz\n",
    "```"
   ]
  },
  {
   "cell_type": "code",
   "execution_count": 173,
   "metadata": {},
   "outputs": [],
   "source": [
    "emails = 'abc.test@gmail.com, xyz@test.in, test.first@analyticsvidhya.com, first.test@rest.biz'"
   ]
  },
  {
   "cell_type": "code",
   "execution_count": 180,
   "metadata": {},
   "outputs": [
    {
     "data": {
      "text/plain": [
       "['@gmail.com', '@test.in', '@analyticsvidhya.com', '@rest.biz']"
      ]
     },
     "execution_count": 180,
     "metadata": {},
     "output_type": "execute_result"
    }
   ],
   "source": [
    "# your code here"
   ]
  },
  {
   "cell_type": "markdown",
   "metadata": {},
   "source": [
    "## Реализуем свой классификатор\n",
    "\n",
    "с фичами и токенами"
   ]
  },
  {
   "cell_type": "code",
   "execution_count": 156,
   "metadata": {},
   "outputs": [],
   "source": [
    "from sklearn.svm import SVC\n",
    "from nltk.corpus import stopwords, twitter_samples\n",
    "from nltk.tokenize import word_tokenize, TweetTokenizer\n",
    "from sklearn.metrics import *\n",
    "from sklearn.neighbors import KNeighborsClassifier\n",
    "from sklearn.model_selection import GridSearchCV"
   ]
  },
  {
   "cell_type": "code",
   "execution_count": 63,
   "metadata": {},
   "outputs": [],
   "source": [
    "stopwords_eng = stopwords.words('english')"
   ]
  },
  {
   "cell_type": "code",
   "execution_count": 77,
   "metadata": {},
   "outputs": [
    {
     "data": {
      "text/plain": [
       "['hopeless for tmr :(',\n",
       " \"Everything in the kids section of IKEA is so cute. Shame I'm nearly 19 in 2 months :(\",\n",
       " '@Hegelbon That heart sliding into the waste basket. :(',\n",
       " '“@ketchBurning: I hate Japanese call him \"bani\" :( :(”\\n\\nMe too',\n",
       " 'Dang starting next week I have \"work\" :(',\n",
       " \"oh god, my babies' faces :( https://t.co/9fcwGvaki0\",\n",
       " '@RileyMcDonough make me smile :((',\n",
       " '@f0ggstar @stuartthull work neighbour on motors. Asked why and he said hates the updates on search :( http://t.co/XvmTUikWln',\n",
       " 'why?:(\"@tahuodyy: sialan:( https://t.co/Hv1i0xcrL2\"',\n",
       " 'Athabasca glacier was there in #1948 :-( #athabasca #glacier #jasper #jaspernationalpark #alberta #explorealberta #… http://t.co/dZZdqmf7Cz',\n",
       " \"I have a really good m&amp;g idea but I'm never going to meet them :(((\",\n",
       " '@Rampageinthebox mare ivan :(',\n",
       " '@SophiaMascardo happy trip, keep safe. see you soon :* :(',\n",
       " \"I'm so tired hahahah :(\",\n",
       " '@GrumpyCockney With knee replacements they get you up &amp; about the same day. :-(   Ouch.',\n",
       " 'relate to the \"sweet n\\' sour\" kind of \"bi-polar\" people in your life... cuz my life... is FULL of them... :(',\n",
       " '@aysegul_k pleasse :(',\n",
       " '@SexyKalamo im not sure tho :(',\n",
       " \"I feel stupid\\nI just can't seem to grasp the basics of digital painting and nothing I've been researching is helping any :(\",\n",
       " 'Good Lord. :( https://t.co/nC9LkYUUvO',\n",
       " 'I feel lonely someone talk to me guys and girls :(\\n\\n@TheOnlyRazzYT @imarieuda @EiroZPegasus @AMYSQUEE @UdotV',\n",
       " 'No Assignment, but we have Project. :( really? 😩',\n",
       " 'just want to play video games/watch movies with someone :(',\n",
       " 'choreographing is hard : (',\n",
       " \"@xo_raaaaayyy_xo what the email link? Still says that it's no longer available :( http://t.co/iuiaIOynnx\",\n",
       " 'cries bc i miss mingming so much :-(',\n",
       " 'Sorry :( https://t.co/Q5TAYjrQ8K',\n",
       " '@Giannivnni mom so far away :(',\n",
       " \"We're truly sorry @chrisbrown :( have a safe flight.\",\n",
       " 'and my friends :(',\n",
       " '@bbygjrlmgc oh :( i hate when that happens i get so sad over it too',\n",
       " 'Oh. Dog has pee’d in my @Kneewax bag.  :-(   So I can’t take it to #NewWine15',\n",
       " '@YM_Dish98 doushite :( ?',\n",
       " '@Charliescoco @reeceftcharliie @SimonCowell too late :(',\n",
       " 'It sucks so much been sick i was plan to start work on my first gundam to night but nope. :(',\n",
       " 'MY $$$$2 DOLLAR :( 😭😭😭😭😭😭 http://t.co/oI0pYGUsDi',\n",
       " \"@martylog Listening back to old @DaveGorman shows (I know, I'm weird). Just got to u leaving: might give up. It was pale imitation after :-(\",\n",
       " \"i went in the sea and now have a massive fucking rash all over my body and it's the most painful thing ever i want to go home :((\",\n",
       " '@dethronedlwt hi. Why are you absent? :(',\n",
       " \"My Gran tho !!! She knew but didn't care to tell me :((\",\n",
       " \"@rowysoIjp SAME IT'S SO CUTE I LOVE IT SO MUCH I WISH THERE WOULD BE A SEQUEL :(\",\n",
       " '@imallyssagail busy sa school :( next time love yah! xx',\n",
       " 'Ouucchhh one of my wisdom teeth are coming through :(',\n",
       " '@StevenLDN frightening case. It really gets to you :(',\n",
       " 'pret :(( wkwkw\"@WLK_Jhope: Verfied @WLK_Hyemi91 be active, don\\'t forget to follow all member. Thanks for join. Goodbye\"',\n",
       " 'You´ve got me in chains for your love :´( — a sentir-se incompleta',\n",
       " \"it's okay.. but.. :((\",\n",
       " \"@njhftbiebs why didn't you go on Wednesday :(\",\n",
       " '@radicalj  Marvellous - not. How very thwarting :-(',\n",
       " \"@ceeels95 Awh what's the chances 😩 when u off to Zante? We need to do something :-( x\",\n",
       " \"@s0ulfl0wr When's your birthday ? :(\",\n",
       " '@brittleyouth @Tom_J_Allen @AndrewFairbairn @batemanesque @Hegelbon @jameswheeler that was the worst part and I still feel bad about it :(',\n",
       " 'audraesar: All these sushi pics on my tl are driving me craaaazzyy :(',\n",
       " 'Really want this :( http://t.co/36tSy81iMi',\n",
       " 'Popped like a helium balloon..  :-(',\n",
       " \"#ClimateChange #CC California's powerful and influential air pollution watchdog.: Califor... http://t.co/OVU4p2qWfH #UniteBlue #Tcot :-(\",\n",
       " '@itsNotMirna I was so sad because Elhaida was robbed by the juries :( she came 10th in the televoting',\n",
       " '#ClimateChange #CC Idaho will not restrict fishing despite regional drought-linked die-of... http://t.co/jJboDo6LYZ #UniteBlue #Tcot :-(',\n",
       " '#ClimateChange #CC Abrupt climate change may have doomed mammoths and other megafauna, sc... http://t.co/taVMCz37E7 #UniteBlue #Tcot :-(',\n",
       " \"#ClimateChange #CC Australia's 'dirtiest' power station considers 'clean energy' biomass ... http://t.co/YeQABq6tsL #UniteBlue #Tcot :-(\",\n",
       " \"#ClimateChange #CC It ain't easy being green if you're a golf course in California.: Ulti... http://t.co/La82RXzTs2 #UniteBlue #Tcot :-(\",\n",
       " '@Mess0019 Well I am sure your work day is over before mine :(',\n",
       " '@keikopotato IM GONNA MISS U SEXY PREXY :(((((((((',\n",
       " 'i miss my kindergarten kids :(',\n",
       " 'HUNGRY :-(',\n",
       " 'cant find the only book that keeps me sane :((',\n",
       " \"Literally there are three lounge events why :-( So much turn up I'm sad\",\n",
       " '@carliot23 Miss you Boss :(',\n",
       " 'I love hozier :-(',\n",
       " \"@IzzyTailford that's true, I just want it soooooooner :(\",\n",
       " 'Ahh Fam @MeekMill :( #RespectLost http://t.co/NT25MYnGYd',\n",
       " \"@shokako1104 I'm sorry :( ! What is hypercholesteloremia ? Are you ok ?\",\n",
       " 'Baby still looks tired :(',\n",
       " 'Can someone gift me calibraska :(',\n",
       " \"@Rico_Shabbir the massive shame about it is we would actually be genuine contenders but it won't happen :(\",\n",
       " 'My head always hurts if I stay up late lmao :(',\n",
       " '@ErnestLozoya how are u older than me :(',\n",
       " 'Backed out :(',\n",
       " 'u sound upset :( https://t.co/JZBFBKld8Q',\n",
       " 'So much misses :-( https://t.co/pn2HvGdnFT',\n",
       " 'I MISS INFINITE :-(',\n",
       " \"@DiscoQing AoS doesn't do it for me but I don't want to stick with 8th either. :(\",\n",
       " '@madrigalandreaa its too much  serious yun eh :(',\n",
       " 'My room is way too hot :-(',\n",
       " 'I still havent found my Handsome Jack drawing :((((',\n",
       " '@twcxmina shit :(',\n",
       " 'But cut encore :(((( #bad4thwin',\n",
       " 'I wish I had my own Baymax :(',\n",
       " 'Sick :(',\n",
       " '@LittleMix French mixers miss you so much :( 💜',\n",
       " \"Wft.. can't watch the awesome replay!! :-( https://t.co/ChzrqtelPh\",\n",
       " '@Viiiiiiiiev what happened?? :(((',\n",
       " 'Party promotions are over :(',\n",
       " 'Music bank encore always so short :(',\n",
       " 'BABY BOY :((((',\n",
       " \"@flipkartsupport my order has been received at the hub nearest but doesn't look like it will be delivered today :( (1/2)\",\n",
       " 'Why is my mum playing music out loud :(',\n",
       " 'The finale of Parasyte fucked my feelings alllllll the way up :(',\n",
       " 'i wish :( #ZaynIsComingBackOnJuly26',\n",
       " 'Good bye Party era :(',\n",
       " '@amedefu Me  too。。。_:(´ω`」 ∠):_',\n",
       " '@Concept_Nathan nathann💕 I never got a chance to take a pic with you :( got a hug tho! Pic next time I see you?😊',\n",
       " 'some girl came up to me and was like \"you are so beautiful :-(\" I want to dieididieieiei she\\'s so cute',\n",
       " 'Party goodbye stage :( but this means Hello to Lion Heart and You Think',\n",
       " \"@MsDanneh @Obey_Ervin15 Tell her to screw herself. I'm gonna have a netflix and chill on my own. Y u do dis ervin :(\",\n",
       " '@subharrie ohh no :(( and yeah i hope she comes back soon too',\n",
       " \"@MadniTahir I am. I've accepted the offer..but im desperate to take the year out.   :(\",\n",
       " 'Come back :(',\n",
       " 'Snapchat me - AmargoLonnard #snapchat #snapchat #kikhorny #snapme #tagsforlikes #batalladelosgallos #webcamsex :( http://t.co/3S9LHaFrsU',\n",
       " 'UGH I CANT STREAM TMR I HAVE DUTY :(',\n",
       " \"@madrigalandreaa u've gone too far :(\",\n",
       " '@uhhAileeny What about her alien thing :(((',\n",
       " \"@Ni_All_Is_Bae aww I don't really wanna get my hopes up but I wish that he would :((\",\n",
       " '@malikm0ney sorka no :((',\n",
       " '@fxnno_ i knew u would be sad :( were having a funeral i was gonna text u but i have no phone',\n",
       " 'Sunny :( i feel so bad.... http://t.co/17tca0uhKp',\n",
       " 'So nonexistent wowza :(',\n",
       " \"@izgzb @aishahyussofff back off fah she's mine :-(\",\n",
       " '@DIMPLEDJAI taylor why did you crop yourself out :(((((((((((((((',\n",
       " '@nickjdrake Boo on both counts :-(',\n",
       " 'new guitar :(',\n",
       " '@PinkCloud_RP so when will i get my jonghyun hyung? :( please predict it :(',\n",
       " 'I hope SJ will be nominated soon but no SJ vs INFINITE pls :(((((',\n",
       " 'Yeah dudes, keep calm and brace yourselves :-( https://t.co/ZnOjT3v9Gq',\n",
       " '@Mr_FRML sir plus 4 please :((',\n",
       " 'THEY LOOKED SO SHOCK OMGGGG :((( YALL DESERVE IT :((((',\n",
       " 'Whenever I would spend the night we would smoke and watch a movie but he would always end up falling asleep on me :(',\n",
       " 'We were 1 point close to grand finals! :( whyyy',\n",
       " \"@muhammadskates :( that's a long time\",\n",
       " '@evanquick Oh, that must be so annoying Evan :( Do the texts give the option to opt out?',\n",
       " \"Who's doing giveaways for muster goods? :( or any merchs\",\n",
       " '@wendyykid ah too bad :(',\n",
       " \"People are looking at me funny because I'm drinking savanna with a straw :(\",\n",
       " 'Good bye stage :((((',\n",
       " '@ameliahartin AND WHY DID YOU IGNORE ME YESTER AFTERNOON :(',\n",
       " \"I can't sleep :( someone talk to me\",\n",
       " 'yeah :(',\n",
       " '@_Birexus yes sadly :(.',\n",
       " '@ClaireClaire05 Very :(',\n",
       " '@The_Strypes whens the album coming? :(',\n",
       " 'The last of my chocolate has been consumed. :(',\n",
       " 'ugh i have werk in the morning too :-(',\n",
       " '@Deedee_50Fly foreals :( a wesen uwesiti mj 😂😩',\n",
       " \"@crazynovely I will if I catch him online long enough - haha!  He's being very annoying!!  :(\",\n",
       " 'Bosen :(',\n",
       " 'Dying for some egg benny :(',\n",
       " '@Michael5SOS Sometimes I hate you :((',\n",
       " '@Mark23Baracael baby followback huhu :(',\n",
       " '@fkluca but no ones as cute as u so :(',\n",
       " \"@Tinkkza You're gonna watch this shit and understand how badly you scared me! &gt;:( https://t.co/YcGudITQgx\",\n",
       " 'I miss Al, Katie, Zaz and Amy a lot :((',\n",
       " 'I liked a @YouTube video http://t.co/2JcBiswDW9 More subs plz :(',\n",
       " \"@LittleMix @SonyMusicNL Can u make a diary while you're all there please :((\",\n",
       " '@neikmat Sorry :(',\n",
       " \"@twyodor @gkjohn :-( I don't read most of these rehash websites that have mushroomed. A good piece may be by exception &amp; reaches one anyway.\",\n",
       " '@daddyksoo and yes its been a while vicky omg :-(((((',\n",
       " '@megsyfoxie WTF LIKE YOUR LIPS STILL A VIRGIN OMG MOM GET A LIFE YOURE 45 \\n\\nHahah : (',\n",
       " '@pastelwolfxx @CHA_NNNNN niNASTY tsktsk oppa wont like u call his dick kawaii he is manly &gt;:( http://t.co/83cUgt7qQ3',\n",
       " 'So Lonely :( http://t.co/VM4N0n8Bkw',\n",
       " \"can't go back to sleep :((\",\n",
       " 'i wanna go on xbox for netflix but am already too comfy in bed :(',\n",
       " '@baileymac02 miss youu :(',\n",
       " 'sigh i feel bad for our girls :(',\n",
       " '@oH_So_EhmTee lol! I love sweet potato fries :(',\n",
       " \"@_Birexus guess y'all ugly asf HUH :(\",\n",
       " '@Dsitando eish ive been quit i know...i lost my twitter mojo shame...n i dont know how to get it back :( mara im sure you can help me neh',\n",
       " \"aww i've got a fever :( but #bad4thwin &lt;3\",\n",
       " 'Poor bb :(',\n",
       " \"@UrsulaWJ @OwenWinterMYP I'm not able to go! :( It's the Association of Green Councillors conference this weekend...\",\n",
       " \"My skype account is out of order. I think it's been hacked. So if you were in my contacts I'm sorry :( I'm creating a new one soon.\",\n",
       " '@selenagomez i miss your tweet spree oh :(',\n",
       " 'Yes na! As sholong reject my proposal :( \"@elzzika: Gee U don fly go gidi? \"@Gatlinho: The way i\\'m being pampered in this lagos ehn....\"\"',\n",
       " '@isxbe i guess im arresting my girlfriend :((',\n",
       " '@prophdog_ @attepate hes such a nice person idk why anybody would say that to him :(',\n",
       " \"You know when a song just disappears from your phone and iTunes? I've lost Dazed and Confused :(\",\n",
       " 'FEVER. :-(',\n",
       " '\"Do you think they survived???\"\\n\"Well, they did find all the missing bodies in fragments, so no. But it would\\'ve been nice if they did.\" :(',\n",
       " '@DareToAttar im being forced to go :-(',\n",
       " 'Horrible weather to be going to work in :(',\n",
       " '@okayshesaid wish that both of us could change this :(',\n",
       " 'walao kbs never show encore :(',\n",
       " 'Sending. Finally!!!!!!!!!!!!!! :(',\n",
       " 'Being ill is the worst :(((',\n",
       " 'its not the same. :(((((',\n",
       " 'Hope #DJDerek is found safe &amp; well had many fun times at his gigs, absolute legend :(',\n",
       " \"@qtbatooty_ yeah and it's like why do you need to wait till saturday to give us homework pa :((((((( WHAT IF U MADE PLANS 4 DA WEEKEND????\",\n",
       " 'Greek Tragedy is such a cute song :((((',\n",
       " '@bammyxoxo @stffnkthx @breeyanuh16 same :(',\n",
       " 'Raining on me today :( \\n\\nGym it is then 💪🏻🐒',\n",
       " '@cutelilawley whats wrong? :(',\n",
       " \"Oh god!!! I'm strucked by the pain... Cant take it anymore!!! :(\",\n",
       " '@LittleMix come to Belgium :(',\n",
       " 'Fabian Delph has fallen :(\\n@BLUEARMY_IND @MCFC',\n",
       " '@rosicky1987 WHERE U BEEN HIDING BABY :((',\n",
       " \"I'm draking silently so they can't hear it :(\",\n",
       " 'Rest in peace mo :(',\n",
       " '@MHSScho not much chance of game tonight :( #t20blast',\n",
       " \"@OL_EYY ahhh u see? U wouldn't wake up :(\",\n",
       " 'Mumma! Im on 7% :( @LMCDark_Angel',\n",
       " '@sarahhardman8 I hope so :(',\n",
       " \"I'm gonna be dead tomorrow :(:\",\n",
       " \"@_Dedox :( I'll do high you do low\",\n",
       " '@hanbined sad pray for me :(((',\n",
       " '@BritishSignBSL how very appropriate! :(',\n",
       " '@RedsOrDead poor him. . . :(',\n",
       " \"I'm still awake :(\",\n",
       " 'woke upp now i cant sleep :(',\n",
       " 'No one is up to help me :(',\n",
       " \"@curlsharryxoxo i don't know :(( just be happy for him :(\",\n",
       " '@blvsamx hi, can you do me some dms with luke please ?:(',\n",
       " '@KanchuDarling @VidyutJammwal hey babe i just came across this pic..what is this about? I cant read hindi :(',\n",
       " 'their reactions :(((((',\n",
       " \"@junghoseoks 5s :( i think it's bc im running out of space tbh\",\n",
       " '@rustyrockets I wish I could come and see you but on Disability pension with PTSD makes it impossible both physically and financially :(',\n",
       " 'Why does it have to rain :(',\n",
       " '@Foooer_Hungary @FoooerSG nooo why they broke up!!! They were soo amazing togheter!! :(',\n",
       " '@MystikGunn suck for me which mean I have to watch you play it around 1 p.m. my time :(',\n",
       " \"Don't be like that :(  https://t.co/gaWf0bsr6A\",\n",
       " '@derekklahn You cant hold another week? September 21st. :-((',\n",
       " 'why they cut the encore i wanna see snsd infinite interaction :(',\n",
       " 'i miss watching anna akana videos :(',\n",
       " \"@tokyato askip t'existes pas :(\",\n",
       " '@9_Moore Sadly not :( - the channel owner decides which regions it broadcasts to. Thanks, Kei. Please rate our se... https://t.co/EzfeHMTT5S',\n",
       " 'i dont think @camerondallas  or @JackAndJackReal  will ever notice me :( I STILL EXIST',\n",
       " 'The traffic is terrible :(',\n",
       " \"@joaannelopez I've been eyeing on a small kate spade bag too! Pero walang maganda :(\",\n",
       " \"@mermaid_bl00d haha aw, I miss you too! Haven't seen you for agessss :(((\",\n",
       " '@energybiebers Sigh... :(',\n",
       " 'Add me on Snapchat - CorineHurleigh #snapchat #snapchatme #instagram #addmeonsnapchat #sfs #quote #kiksexting :( http://t.co/8bk7ptaqaR',\n",
       " 'I have no bum in Zara trousers :(',\n",
       " 'All these sushi pics on my tl are driving me craaaazzyy :(',\n",
       " 'My after effects not spanish :(',\n",
       " \"Aww the poor thing :( Hope it'okay and in good health. luckely it has been freed from those Rocks #orcalove https://t.co/tOSZMOafv6\",\n",
       " '@Techverse_in first i tried this http://t.co/XTSzpi9fQW but no result :(',\n",
       " 'I want my braces back! :(',\n",
       " \"I need a big cuddle from Lew and kisses on my face :(((( I don't want to go through this again\",\n",
       " '@xcrazy90skidx @kowtsnatinito @_patnicolexx ems haha :(',\n",
       " 'Craving for Banana Crumble McFlurry and Fries :(',\n",
       " \"We're not going on the cable cars now because my brother got scared and doesn't want to :(((\",\n",
       " \"i miss hello venus's old concepts tbh i rly like do you want some tea :(\",\n",
       " 'tagal :(',\n",
       " \"We've lost in album and broadcast points :( http://t.co/QDSVS5Q9SR\",\n",
       " \"i have this awful appointment tomorrow and i'd like to feel OK going in to it, since I won't be after it &gt;:(\",\n",
       " 'This sucks I want to go home :(',\n",
       " \"There's no milk left for my cereal :(\",\n",
       " '@shahrukh9899 @IamMansoorKhan Huh :( yes',\n",
       " 'we lost at the album and broadcast :((((',\n",
       " 'So sad :( http://t.co/fVV9Y3WX2o via @EvokeToday',\n",
       " 'Everything and all :(',\n",
       " '@RealLiamPaynePH follow me :((',\n",
       " '@sainsburys yeah, I tried to film the date at the start. At the time of filming it had 4 days left.  :(',\n",
       " '@namwngr no, because you will get more than one and i think its not the same from the previous one :(',\n",
       " \"I can't smile :(\",\n",
       " \"I'm following 73 users who aren't following me back.  :(\",\n",
       " 'when will got7 : (',\n",
       " '@craigyboi seems to be everywhere today :(',\n",
       " '@OliviaKaparang @BTS_twt for the fansign and take photo is more expensive :(',\n",
       " \"Zzzzzz.....please don't let the sun come up yet.... :(\",\n",
       " \"When your bff's extremely stressed and you can't do anything but pray... \\n\\n:(\",\n",
       " 'ahh no win for the goodbye stage :(',\n",
       " \"@st3cav @MCFC @sterling31 @YayaToure True, deosn't help that Liverpool were here last week, most have never been to Pool though :(\",\n",
       " '@ArunbuddyAP yes bro..lost many too :(',\n",
       " '@JindalDaily praying for you all. So sorry this happened : (',\n",
       " '@jackshilling Great news, thanks for letting us know :( We hope you have a good weekend!',\n",
       " \"@peachyIauren it's so fucked :(\",\n",
       " '@LocoTaii - My self esteem was on the lowest :(',\n",
       " \"@RyanBitchTits they feel and look better where people can't see tbh\\nThey look so tacky :((\",\n",
       " '@fabssulli taken say :(',\n",
       " '@ASVPxGABE man all I got is lucky charms :((((',\n",
       " '#Haaretz #Israel :-( Syria continues to develop chemical weapons, officials tell WSJ: WSJ rep... http://t.co/3c5PRCHKqw #UniteBlue #Tcot',\n",
       " 'i want all these bts merchs :(((',\n",
       " 'Only one more day :(',\n",
       " 'Should have taken a pic before mrs wong confiscated my art work :(',\n",
       " '#Bad4thWin you guys omg :((((((',\n",
       " \"@mustntgrumble I hadn't thought of an icepack. Big doses of pain killers on board. But it is feeling very very painful already :( *whimpers*\",\n",
       " \"it's okay :(\",\n",
       " '@ABeezyGMT says the Man U fan :(',\n",
       " '@BIBBYUPDATES :(( I wish I could be there to say a final goodbye to them',\n",
       " '@_awkwardraven Will do Senpai &gt;:( -looks up on all of buttsex-',\n",
       " \".@sabal_abla @tanha_messiah But I was joking on the headline. So aren't we friends? :( Pls dn't brk my heart. :'(\",\n",
       " 'When someone hits a head voice and I\\'m like \"I would sound amazing if I could do that too.\" But no... I can only do falsettos :(',\n",
       " '@Patrickcf26 NOTICE ME :(((',\n",
       " '@versacelopez I hate our time zone :(',\n",
       " 'MY snapchat - LeanneRiner19 #snapchat #hornykik #loveofmylife #dmme #pussy #newmusic #sexo :( http://t.co/TyhwG534Ng',\n",
       " '@DominionSyfy when will S2 be aired in Spain?? The delay is killing us... :(',\n",
       " '@TheOnion @ChoKyungHoon82 not a single untruth here :(',\n",
       " \"My last cross country in IJ was amazing!!!!!!!💥✨💫 Can't bear to leave :-( https://t.co/VkVOxIaEQn\",\n",
       " \"@_lizzy_kay I can't drive so :(\",\n",
       " 'when I have my own little apartment can like someone come live with me :-(',\n",
       " 'soshi didnt win :(( buttt congrats infinite!! #bad4thwin',\n",
       " \"@rickygervais I'm working Saturday and Sunday so Friday is a bad day for me :(:(\",\n",
       " 'going home soon :(',\n",
       " \"I shoulda moved away w my boys when I had the chance cause they're the only people I want at times like this :(\",\n",
       " 'Heyyyyy i wanted to see yeols solo danceeeeee :((((((((((((((',\n",
       " \"Inter offer Nemanja Vidic to Roma...but they don't want him either :( http://t.co/Ksdgy0lTpF http://t.co/FplKjpXNQN\",\n",
       " \"My mom's a linguist. My dad's a computer scientist. And I am the dumbest one in the family :-(\",\n",
       " '@GizmodoUK broken for me :( I really wanted my morning ice cream in the pouring rain... http://t.co/y9waxvQKpg',\n",
       " \"@hankgreen would you ever consider creating crash course videos about computer science? There aren't many resources at my school :(\",\n",
       " '@Uber all ice cream vehicles are busy :(',\n",
       " 'ate ayex what do you eat? youre sexy :((( — I swear I eat a lot. No chill lamon haha http://t.co/CfOxw5wljZ',\n",
       " 'This weather has me scrolling through my contacts of people I\\'ve curved on some \"hey you 😉\" sigh* :(',\n",
       " \"so i'll be getting my cement cast tomorrow :(\",\n",
       " 'Shit 10.3k???? :(((((',\n",
       " '*sign out* :(((((( https://t.co/y45q9GAJ5j',\n",
       " '@zaynmalik zayn :((',\n",
       " \"(bot) If you follow me, plz send to me mention. Because I can't notice :(\",\n",
       " 'these JMU camps are such a tease bc I just wanna be here now :(',\n",
       " \"@mizznhee that's one of the sweetest things I've ever said, awuna mbulelo :(\",\n",
       " \"This fucking bad link isn't working and I can't watch the match! :(\",\n",
       " \"Oh no Mr I Pigs not turning on :( although there's a weird crackling noise when I plug him in coming from the plug ,I'm thinking fuse?\",\n",
       " '@TitusOReily dammit I tipped Carlton :( #AFLBluesHawks',\n",
       " '@baileymac02 miss you :(',\n",
       " '@jiministic go to bed :(',\n",
       " \"Am want to go Alex's house :(\",\n",
       " '@MotorsportCntrl @GP2_Official so true! This was part of a motorsport series (all on one disc) :(',\n",
       " \"All I want right now is the A, followed by the D and a cheeky J after that\\n\\nInstead I've got some SEO and some NLs to be getting on with :(\",\n",
       " '@BOYBANDSFTCARA sure!!! Sorry :( x',\n",
       " \"@talkingsimpsons hey bud! Christy is really sick so I can't leave these 2 at home :( xo thanks man\",\n",
       " 'My niece is having a better summer then me :(',\n",
       " 'I just wanted a bloody sandwhich :(',\n",
       " '@Whorgeee :( it is',\n",
       " 'Buset :( https://t.co/hQ4y4FKniZ',\n",
       " '#Discrimination :-( Five things we learned about pregnancy discrimination today | Left Foot F... http://t.co/Ey9MmaSmsd #UniteBlue #Tcot',\n",
       " '#Discrimination :-( Maternity discrimination: When I needed my boss, he kicked me in teeth - ... http://t.co/2WT4YyMNWz #UniteBlue #Tcot',\n",
       " '#DomesticViolence :( Proposed New Law Will Help Domestic Violence Victims - 98FM: Victims ... http://t.co/eoISmrzLpo #UniteBlue #VAW :-(',\n",
       " '@nnoonlight i missed you :( it was okay. lol. I did nothing. 😂',\n",
       " '@hamzaabasiali exactly but unfortunately :(',\n",
       " 'Such a stressful and upsetting day yesterday, the UK government sucks :(',\n",
       " \"Ugh, well I could still say that I'm lucky because I am Sapiosexual. :((((\",\n",
       " 'Aww too bad :(',\n",
       " 'Ive been trying to play the damn beta for like 12 hours now :(',\n",
       " \"I don't want to be in a world where Hulk Hogan has been scrubbed from WWE history :-(\",\n",
       " 'im so tired! :(',\n",
       " \"This weather isn't making me want to go to the gym at all..... :-(\",\n",
       " \"@katjturgoose @artsjobs Link doesn't work! :(\",\n",
       " 'Irene seemed so sad after making that mistake :(',\n",
       " \"@ItssssKelseyyyy Naa unfortunately, I didn't have my phone on me :(\",\n",
       " '@bmthofficial ITS SOLD OUT :((((((((((((((((((((((((((((((((((((((((((((((((((((((((((',\n",
       " 'i hate u &gt;.&lt; &gt;:( #H_My_King',\n",
       " 'we lose again :(',\n",
       " \"Valentine et al found r'ships btwn homo/biphobic comments &amp; certain disciplines - incl. European langs, lit, education :( #fresherstofinals\",\n",
       " \"when will you notice me :( i'm so hopeless 💔 @SeaveyDaniel\",\n",
       " 'my dreams are gettin too realistic for my liking thx !!! cant tell whats real n what isnt :((((',\n",
       " \"@SidebySide either or but would prefer Benzema! We won't get any though :(\",\n",
       " '@dontvexmysoul hahahahahaah i donno korean language :( only few russian ) waaaaa',\n",
       " '@Grofers what about me? :( #EidWithGrofers',\n",
       " \"Someone talk to me I'm boreddd :(\",\n",
       " \"don't you just hate it when you get called a mug \\npisses me off &gt;:(\",\n",
       " '\"@MgaPinoyPatama: I miss you, but I know you don’t care.\" :((',\n",
       " \"@alexmcgraaa no I can't do it, don't have the option on my phone :(\",\n",
       " '@CelestialSinn I love Tiddler, but that was really silly :( but at least we’ll be getting real new cards in like 1 hour..',\n",
       " ':( well this sucks',\n",
       " 'Infinite win :(',\n",
       " \"@SBS_MTV Are you sure that Chorong is the leader? #에이핑크 #더쇼 I can't be sure anymore :(\",\n",
       " '@ClashWithCam when will the clan slots be open :((',\n",
       " 'Pffff doing a private @Bugcrowd #bugbounty and only finding self-XSS and host header poisoning :( Need some code execution #ktksbye',\n",
       " \"When your connect leaves a company and they don't alert you :(\",\n",
       " '.@uberuk you cancelled my ice cream uber order. Everyone else in the office got it but me. :(',\n",
       " '@Nebula2592 ahahah i consider it petite, i have a love hate relationship with my height :(',\n",
       " '@therp_stefan @Therp_BV will cost you 600 k£ to get security alerts on odoo 8 if you are an Odoo partner. Far from community spirit. :-(',\n",
       " 'jgh :( im so effin tired',\n",
       " 'facebook, y u no work ? y u do this facebook ? :(',\n",
       " 'No ones up :((',\n",
       " '@TheNameIsJase No unfortunately :( Sorry!',\n",
       " \"Anyone else's show box not working?!?!?:(:(:(:(:(\",\n",
       " \"AP won't be the same anymore :-(\",\n",
       " \"@llymlrs story of my life...!! Love London and can't imagine living elsewhere but it's gonna have to happen someday :( I have NO space!\",\n",
       " '@benrwms Oh no Ben :-( That is terrible, please provide us with the name of the branch you visited. We would like to address your concern.',\n",
       " 'Poor guy :( http://t.co/aSq9NN4AXR',\n",
       " \"@elninakauser I feel your pain, It's like the Welsh Pod all over again  :(\",\n",
       " \"@buterasfredo i can't wait for the movie to come out :(\",\n",
       " \"@littlejules14 Hi Julie, I'm sorry you feel this way :( Whats happened? ^Laura\",\n",
       " '@maknaekookie i cant :-( im still inside the train station waiting for the person ;_; home is another hour away D;',\n",
       " '@vegemitegrier not anymore :(',\n",
       " '@wendykims @Joix05 @GiladMillo some people need not to talk-kama hawako around :( :( \\nWaa Kimaaaaaani prisssss!',\n",
       " 'Baggage claim. The final goodbye to all your new plane friends :(',\n",
       " 'i miss niamh i havent seen her in forever :(',\n",
       " 'Yeah I screwed up again :-( and this time I thought I did something good good',\n",
       " '@lifeboatsupport I have! :(',\n",
       " \"@CherylWalmsley hmmm, they always have so much sugar in them, I rarely make them. Sorry I couldn't help. :(\",\n",
       " 'I literally have no time to watch paper towns :((',\n",
       " \"@donhutch4 what's the score don I'm stuck at work :(\",\n",
       " 'Agh @UPCIreland keeps cutting out in the middle of #undercoverboss :-(',\n",
       " '@CMPunk @MattJackson13  please please come back to wwe :( تكفى',\n",
       " \"@cosplayamerica I'll be there around 10. My train was delayed. :(\",\n",
       " 'Having a full time job means you only gonna have part time fun :(',\n",
       " 'My cats have forgotten who I am and they hate me :(',\n",
       " \"@vaxwell I know it's long and I played for 15 hours. :(\",\n",
       " '@NewBreed_Next u already have most of them :(',\n",
       " '@Kryaotic117 @TritanArmyv2 @MoreConsole yep again :(',\n",
       " 'WHY MUST THE VIDEO STOP THO :(',\n",
       " 'wisdom teeth giving me so much ache :((',\n",
       " 'Y is no one up :-(',\n",
       " 'my wrists feel so naked bc i forgot my watch &amp; bracelet :((',\n",
       " '@diamaziing Did you ligo na? :(',\n",
       " 'The Day A Dozen Parents And Children Killed A Baby Shark For A Selfie :(  https://t.co/S8cq6c91ni',\n",
       " 'So this is Heartache? :(',\n",
       " \"I don't think so :( #zayniscomingback\",\n",
       " \"little mix are coming to sweden tomorrow and i can't see them :-( im sad\",\n",
       " \"my heart is breathing for this moment in time, i'll find the words to say before you leave me today :(\",\n",
       " \"Elmhurst FC are over  :-( I'll always be  #ETID\",\n",
       " \"Miss chillin'with you :( @PrincessReeev\",\n",
       " \"Forget to my Job. \\nI'm sorry my father. :(\",\n",
       " '@Scruffbucket IsTanya going2supply all d EXTRA infrastructure,teachers,doctors,nurses,paramedics&amp;other countless things2cope with it all?&gt;:(',\n",
       " 'I liked a @YouTube video http://t.co/93Z6WOVOs9 PASHA IS CRYING AFTER TERRIBLE DONATE :(',\n",
       " \"i'm so bored!!! pleas can 1 Arianator talk to me? :(\",\n",
       " '@Hydrojeon lmao hahahaha slr jgh from school :((',\n",
       " 'My live streaming sucks or is it just me :(',\n",
       " \"Kendall and Kylie are killing me on Kylie's snapchat :(((((\",\n",
       " '@MaayanGean absolute world to me I was so close to seeing him but he did not show up in manila :( i cried so fucking hard that time',\n",
       " '@jmcefalas Jeebus. Reabsorbtion of tooth, abscess, threatening to affect my lovely front crown :( and OOOOOOOOUCH!!!',\n",
       " 'oh barney :((',\n",
       " 'Awh why :( were nice  https://t.co/5zAwc5Z37J',\n",
       " \"Sometimes it be's like that, yo. Follow someone and then a few days later realise they're problematic as fuck. Life :(\",\n",
       " 'THEY DIDNT EXPECT THAT OMG THEIR FACES :((((( IM SO PROUD OF YOU INFINITE',\n",
       " 'This day is such a mess! :(',\n",
       " \"I miss you maa :( why didn't you ever tell me its going to be like this without you?\",\n",
       " 'Help me :(',\n",
       " '@TheHinduTheatre @evam_entd Why no Bangalore? :(',\n",
       " '@NotRedbutBlue awww :(\\nat least u never got called luis manzano tho',\n",
       " '@bebeshaaa thanks shaaaa! Miss u super :(',\n",
       " \"WE DIDN'T GET THE 7TH WIN :(\",\n",
       " 'Meeting with the convener at 2:30pm :( not looking forward to it!',\n",
       " \"@tweetseamus how was the party last night? Shame I couldn't go :( would of been lovely to have seen you again x\",\n",
       " '@SynergyFlying No!!! Why did you delete me?:(',\n",
       " '#TURKEY ARE NOW #BOMBING #ISIS IN #SYRIA,AND ALLOW THE #USA TO USE ONE OF IT #AIRFIELDS FOR THEIR #JETS :()',\n",
       " \"I want Jack's follow so bad, but I don't want to be annoying by spamming him :( sooo @jackgilinsky follow me please? ☺💜\",\n",
       " \"mommy's in manila and I've only seen her once :(\",\n",
       " \"The reason why I'm always, always overweight... sigeg habhab :( masud pa kaha kos akong un… http://t.co/RZ52EUtzMD http://t.co/Nvx057PFZp\",\n",
       " \"@samayanyan yes thank u!! Oh damn that hella sucks :-( but at least u had a really good time that's all that matters\",\n",
       " '@mollehgarcia no pala omg hahaha i have driving lessons :(',\n",
       " 'aW i wanna go and see dolphins again :( so cute xxx http://t.co/RJBAFfSMbh',\n",
       " '@brighteyedmgc hoLY FUCK are u okay / text me if u need anythin !!! :-(',\n",
       " '@xband__loverx I miss you :(',\n",
       " '#ZaynIsComingBackOnJuly26\\nI See this trend an in radio the next sing is See you again...:(',\n",
       " 'Beware: agonising thought experiment ahead :( https://t.co/B8Ttz1wbkG',\n",
       " 'Last time I was here, was a funeral and a again funeral. Modimo ho tseba wena fela. :( — feeling emotional at... http://t.co/mQYsswdot7',\n",
       " \"what's wrong with me :(\",\n",
       " '@lh_JM88 and now me too :( hubby will be delighted to return home lol',\n",
       " \"SO SAD FOR THE GIRLS OH WHY DIDN'T THEY WIN :((((\",\n",
       " '@burloutray4 I want something new too, damn you bills!! :(',\n",
       " '@someboysjumper @apriloumay Nowt worse than a sad looking willy :(',\n",
       " '@Tonynamly sad moment when you gon vomit all this out :(',\n",
       " 'or a famous bowl :(',\n",
       " \"She's so cute :( http://t.co/5gRpttMX8k\",\n",
       " 'Devastating to find out last night that Titan AE was never actually any good :-( http://t.co/zzwd8HDcOI',\n",
       " '@Mark23Baracael mark followback :(',\n",
       " \"@Latoyasilmon omg...you're so beautiful... miss you soooooooo much...: (\",\n",
       " '@itstishh miss you so much :( xxxxxx',\n",
       " \"i used to have such nice hair :(( look at it it's all shiny and long and wavy im emo http://t.co/qX7XO8x5Zq\",\n",
       " \"@LittleMix have fun in Germany :( I can't be there 😭\",\n",
       " 'I was about to make tea but load shedding was like Ha.a bheyps not now ! Ayemso Hacked :(((( http://t.co/ZudfTknvCM',\n",
       " 'my left ear is swelling :(',\n",
       " 'read sm quotes on fb which remind me abt sm 1 and am missing him so much now :(',\n",
       " 'everyone is going to womad but me :(',\n",
       " \"wut the hell i can't sleep &gt;:(\",\n",
       " \"@CorCor84 It is a vicious circle isn't it :(  x\",\n",
       " '@eydiespi there is no surprise :(',\n",
       " 'Win tickets to Cody Simpson concert in Singapore on August 10! http://t.co/6t9XKgtwTm #SpinorBinMusicXCodySimpson pls pls :(',\n",
       " '@joyce_gleek Sorry poooo. :(',\n",
       " 'Sorry na bh3s :( @alrakakire',\n",
       " \"Project I want to enter into #PitchWars may not work. :( Only first chap? Mine's a phone call transcript. #ugh\",\n",
       " \"@5SOSTumblrx the APMA's :(\",\n",
       " \"this is bad. my shoulder has started to hurt like a bitch :( and we're just a day away from competition! hope it'll be fine in time\",\n",
       " \"@shuaijerks it's okay I feel you it happens all the timw :(\",\n",
       " \"@HeyyLawley don't make the other accs feel bad :( that's just rude\",\n",
       " '@meowkenzi :(( that sucks. Try vitamin e oil massage everyday for a while and it should make them healthier and easier to stretch',\n",
       " \"What the hell is going wrong :( I don't understand why people choose to hurt each other https://t.co/hIBjz4fC2r\",\n",
       " \"I don't know what I'm doing for #BlockJam at all since my schedule's just whacked right now :(\",\n",
       " '@tymoss wish I could have been there :(',\n",
       " 'GUYS add my KIK - thelock76 #kik #kiksexting #sex #omegle #couple #travel #hotgirls :( http://t.co/Dn6agZcPhd',\n",
       " 'Valentine et al (2009) found relationships between homo/biphobic comments &amp; certain disciplines- incl. European languages, lit, education :(',\n",
       " '3 ghantay say light nai hay :(',\n",
       " \"@hereisjoshhiles I have it still won't work :(\",\n",
       " 'Rejection is the reason why people deny what they really feel.\\n:( @maryjan71973628',\n",
       " 'this weather is ruining everything :(',\n",
       " '@krysseners No, I was in Laguna :((((',\n",
       " 'Feeling sick :(',\n",
       " ':( exit gomen',\n",
       " \"@sustinsantos what the heck that's not fair 😂 I grew half an inch in two years :(\",\n",
       " 'Woke up feeling so sick :(',\n",
       " 'I wish you cut your hair like this again :( http://t.co/Oyt8wMo7w9',\n",
       " \"@NerfThorn problem is 1. I'm from UK so it's £ not $ and 2. I don't have $25 :(\",\n",
       " 'Suuuuuuuper sick :( fever got way worse :(',\n",
       " 'Me right Now :( http://t.co/hoVZi9wQnx',\n",
       " '65% digital sales.. having a bad feeling :(',\n",
       " 'can I use anyones netflix my account is inactive and I wanna watch orphan black :(((',\n",
       " 'havent seen you earlier :(',\n",
       " '@FairyFunFwee whaaat? what is this :((',\n",
       " \"@margauxxemm yes baby kaya i'm so sorry :(((((\",\n",
       " 'NAAAAAN PAS GOODBYE STAGE :(',\n",
       " \"@AppleMusic why does my music keep pausing randomly? It's the only app open :(\",\n",
       " '3:30am walk down Inglewood ummm bad idea :( ugh stupid anxiety',\n",
       " \"And it's not easy to be me :(\",\n",
       " '@LittleMix Belgium :(',\n",
       " '@randomdavemcc1 This one was ready in 3 weeks and is also Charcoal, but the other one wont be ready til mid-end Aug :-(',\n",
       " \"NOOoo @PTTBath  I've just heard the news :(\",\n",
       " '@Rodnerbroo rip rodFanta :-(',\n",
       " 'I wish I was better with words :-(',\n",
       " '@Wapaseeto yes, all wasp stings have been averted. Those bugs are mean  :(',\n",
       " 'Can u feel it? :((:( #exo http://t.co/ghsa262ORm',\n",
       " \"@zoellaftmendes please don't leave :(\",\n",
       " \"I'm feel so seekly...:(\",\n",
       " 'Shocking News!!! :( #RIPTito',\n",
       " \"@Charalanahzard I can't see it! I'm sorry. Call me a manbearpig, but I cannot see it. Sorry :(\",\n",
       " 'Can i grow shorter pls :(',\n",
       " '@NimrodYEle Academics :-(((((',\n",
       " 'I want my free @UberUK ice cream! :-( http://t.co/2BHfR9BU26',\n",
       " '\"Exclusive to Germany\" how unfair is that? :( Esp. regarding the current bleak german charts situation, still no entry even @ top 100. Pfft.',\n",
       " '@kwangqiiii later I feel out of place :((',\n",
       " '@borapls it was white washed dude to the Polaroid effect :-(',\n",
       " 'I feel bad for talking to you... :(',\n",
       " \"#newbethvideo i love you sooo much! But... I live in Greece so I dont think I'm gonna win :( But always hope!!!! &lt;3\",\n",
       " '@courtneypink07 Haha I know right :( He needs a good talking to that Xur does!',\n",
       " '@GorobaoElisha Imy too :(',\n",
       " \"@Emmalaalaaa I don't even know what's going on :( fill me in please? !\\n\\n#soon babe... ♡♥♡♥\\n\\nXoxoxo\",\n",
       " \"@for1rose it's raining here :( but I will make sure I get a picture of him soon\",\n",
       " \"|| I want cereal.\\n\\nToo bad we doN'T HAVE ANY. &gt;:(\",\n",
       " 'just got home. lost one of my stud earrings :(',\n",
       " 'I miss his massages :(',\n",
       " 'KIK me guys : hunde6 #kik #kikhorny #tagsforlikes #skype #kikchat #amazon #kikhorny :( http://t.co/jGB5W5ct7t',\n",
       " 'i lost my 3.4k :(',\n",
       " 'Yach.. telat.. huvvft..., :( https://t.co/nrzfh7Roja',\n",
       " \"@junhuiass IT'S BEEN YEARS SINCE I HAVE BEEN IN A ZOO AND IT'S ONLY ON FIELDTRIPS SO NO TIME TO TOUCH :(((\",\n",
       " '@attepate I wanted to hug him after watching this :(',\n",
       " '@JackAndJackReal I missed the following spree :( next time though x',\n",
       " 'Still hoping :( #ZaynIsComingBackOnJuly26',\n",
       " '@EdeLabayog awww :(( kaya yan! Think positive!',\n",
       " 'i miss my king,future,boss, and RAIN :( http://t.co/RZTM0VKIlM',\n",
       " \"I want to watch a movie, listen to Sizwe, eat and write my assignments at the same time.... But I can't do that :(\",\n",
       " '@strawberrybon i miss you :(',\n",
       " \"this time in 20 days i'll have my results kms :(\",\n",
       " 'I have four shifts left with @taylorchurchman my heart has broken :(',\n",
       " 'AAAAAHHHHHHHH  :(  It Is Only 3 pm And I Feel Like Dying Of Boredom....',\n",
       " '@HouseOfPoitiers @nurseneddy @Peteski40 \\n\\nOn me birthday en all :(',\n",
       " 'Stop playing with my feelings man :( i aint got no time for that. *still hoping* ♡\\n #ZaynIsComingBackOnJuly26 http://t.co/Nu0PMyGKU9',\n",
       " '@zedxgarcia u started it :(',\n",
       " 'Am I the one whos dont see sinse to trend something like thats? :( #ZaynIsComingBackOnJuly26',\n",
       " \"Good thing I got those free earrings, as I've somehow lost one of the tiny screw on ball things from one of my barbells :(\",\n",
       " \"@JonnyMalee owww I'm only about this weekend, I'm on the course next week so won't be able to get into Amsterdam :(\",\n",
       " \"@rainymondays luv u 💖 ps. We haven't talked in a looooong time :-( why??\",\n",
       " '@gclliva home? but my eyes aint apartement : (',\n",
       " '@JackJcnes text: :( why',\n",
       " '@enikotsz @pooj_ @UberUK @walls With this rain though? :(',\n",
       " '@ollgbroxei sc, longe :(',\n",
       " \"@AmeAmeSakura especially when you don't like it :( I can't do the same song over and over again :/\",\n",
       " 'Cat on the lap. I have to go out now! :( http://t.co/wN3169K7Kb',\n",
       " \"@ellierowexo :((( &amp; I'm litro gonna be on my own that weekend\",\n",
       " '@GiannePeqs shit good shepherd is lami :( 3',\n",
       " '@hawkerclaw thank you. Maybe because of late sleep. :(',\n",
       " 'I need relax.:-( ...#lungomare #Pesaro #giachietittiwedding #igersoftheday #summertime #summer… https://t.co/IHFceHoxl3',\n",
       " 'my nose is bruised a lil :( :(',\n",
       " 'Fuck those snake things in Journey. Always went for me, never my partner. Had a beautiful scarf and he ate it :(',\n",
       " \"@jaredlovesjen i'm hoping that if he comes back to aus i can afford to go again but i dont think i'll be able to :(\",\n",
       " 'It just ruins your #FridayFeeling when you know next day you have to wake up early in the morning....:(',\n",
       " \"I'll be so sad if there's nothing tonight :(\",\n",
       " 'I want a bad bitch but I aint got no money :(',\n",
       " \"but i can't fry chicken, woe is me my nigga :(\",\n",
       " '#MOTN though lighting is not doing my make-up any justice :( http://t.co/nkzA8S687N',\n",
       " \"That one person. Is still very important to me...and I don't want her gone any longer...yet I just sit here scared out of my mind. :(...\",\n",
       " 'i rly wanna buy the limited ver as well as the normal edition. huhuhu what to choose? :(',\n",
       " \"@axolotl74 @sp1305 Stack is on M'Lady J8 to J11 M20 :-(\",\n",
       " 'jk im so bored :(( acads scheduled @ 8 what to do nowwww',\n",
       " \"@HAMEZR10 couldn't watch cops :( how was James?\",\n",
       " 'i need to clean my window at some point today bc hugh keeps pawing at them and leaving muddy marks everywhere :(',\n",
       " \"But I don't know what song to sing :(\",\n",
       " '@xcliffordpizza my mom called me up :(((( i got distracted',\n",
       " '@YseIcedTey heyy i miss you :(',\n",
       " \"Please be nice tomorrow weather! Otherwise our picnic is cancelled and I've got 24 cupcakes to eat :-( https://t.co/LGQRwfFTiO\",\n",
       " '@Benzyyyyy with you talaga the best. :-( 😂',\n",
       " 'the only female i wanna get it poppin with is Joc.... but she be playin :(',\n",
       " '@taekookfever SO CUTE :(',\n",
       " '@NinaSarto pm me :(',\n",
       " 'When I saw #ZaynIsComingBackOnJuly26 \"FIX YOU\" by Coldplay plays in my Windows Media Player :( 😭 http://t.co/rGnNYzc31c',\n",
       " '@_ferdelicious I think I just failed one subj :-( sobrang bv 😭 pls pray for me huhu',\n",
       " 'zamn the line up for afropunk fest brooklyn :(',\n",
       " \"@lightmytorch I'm not there anymore!! Would have signed if I saw you! :( thank you for coming\",\n",
       " 'wish id put more than £50 on real madrid #shithouse :(',\n",
       " 'Cutest dance ever :((',\n",
       " '@Kimwoobin89__ oppa............./hug ur arm/ why am I like this :(',\n",
       " '@jasonbarnard86 @stefgingerball I asked my boss for a raise once, he handed me a ladder and told me to climb the ladder to success. :-(',\n",
       " '@jenandmish @wittykrushnic to get by, to get by :(',\n",
       " 'Nerve wracking test. Booset. :(',\n",
       " \"@mythor aw sad :( it's very very long though. Maybe a little longer &amp; you'd love it? I restarted assassins creed II heaps, then fell in love\",\n",
       " \"@cragdoo I don't know why the hell it's playing the next one, I can find no way of turning that off :(\",\n",
       " 'Bored :(',\n",
       " \"i'm such a terrible daughter :-(\",\n",
       " 'Finally got some time to catch up on games..Wish i could say \"Let the games begin\"...sigh*..PS3 isn\\'t working :( http://t.co/nwriRgSq8v',\n",
       " 'my ankle :(',\n",
       " \"I just stepped in a puddle :-( &amp; I'm wearing slippers!!\",\n",
       " 'Good eve. :(',\n",
       " 'wake up bby, imy :(',\n",
       " 'I will cry :(',\n",
       " 'Video: sararocs: I am so angry at the world :( http://t.co/eGuM20hTok',\n",
       " 'pretty hairs :(',\n",
       " 'fnaf 4 coming after my holiday now :(',\n",
       " '@1q4h_ cheer up!! :-( 😘💖',\n",
       " '@ThisIsTheBrooks maybe a tweet? :(',\n",
       " \"@AnnieAppelle and @nutriculum is this today but you're not here :(  #anywayhedidanicejob\",\n",
       " '@bethisbest01 @styleswavy same same 😞 :(',\n",
       " 'this match history :(',\n",
       " \"It's 3am and I can't sleep :(\",\n",
       " '@JagexAlfred the green one is ugly :( the others are awesome tho',\n",
       " 'Local legend :( https://t.co/VVLTlmOsQ0',\n",
       " \"@CruiseLineUK @AzamaraVoyages can't tell you how sad I am we booked on another cruise line and could have done this. Double wail. :-(\",\n",
       " 'When things go wrong they go wrong I have broken my manual wheelchair checked if I can get one that fits from NHS and its 26weeks wait :(',\n",
       " \"Poor SBENU :&lt; SaSin wasn't happy at all... As the best player on his team.. :(\\nBut Anarchy~~~ :3 &lt;3\",\n",
       " '@jenxmish rude af, im gonna put my candle away :(',\n",
       " '@wydbaylee im sure anyone would kiss ur forehead &amp; give u medicine if u asked :( but ur welcome :(',\n",
       " '@Marsaliath Oops :(',\n",
       " 'Hoya mah always good looking :(\\nNo comment aing :(',\n",
       " '@JKottak without you just miss you :(',\n",
       " 'Nobody said it was easy :(',\n",
       " \"I'm so sorry I didn't give you enough hugs awhile ago b I was just so tired :( But it was so nice seeing you again luv @nicoooootine\",\n",
       " '@Jaxonoys aw I miss you :(',\n",
       " '@GoodieNuff now hush gurly and bring your purty mouth closer\\n\\nThat made me shiver :(',\n",
       " \"@MojangSupport the website doesn't have the solution, is there anything I can do, I paid for this and I can't even play it properly :(\",\n",
       " 'Dont know why I try anymore. Getting tired of this. :(',\n",
       " '@RyanSugandi gol pea :(',\n",
       " '@SPObabbby I hate myself for not knowing English :(',\n",
       " 'Physically, emotionally, mentally, #TIERD :(',\n",
       " \"My third eye's getting active again :(\",\n",
       " '@EggNiGreg thnkyouuuuuuuuu :(',\n",
       " \"@simonshieldcars Hi Caroline no we didn't :( Neither did @MotorMistress or @GlynHopkinShop I think - we figured out it was in US lol\",\n",
       " '@hotsootaff my mirror is more beautiful than me :(',\n",
       " \"@nuttyxander didn't make it to the highlights then :-(  They seem to have stopped talking about 'climbing on pure courage' - bit too fishy\",\n",
       " \"I didn't even do anything to it idek :(\",\n",
       " 'did I missed apink performance? :(',\n",
       " 'Bulet gendut :(',\n",
       " '#PARTY goodbye stage :(',\n",
       " '@subharrie noo :( do you know why?',\n",
       " '@lollypng :( *hugs* I hope you can rest soon.',\n",
       " '@ovo4fev Looks awesome! I miss the days of racing hotwheels cars around my house. :( ^MS',\n",
       " 'Patch :(',\n",
       " '@andytude typically we had a power cut last night and I missed it!:( was it good?',\n",
       " \"@ellegowers ahaha I'm laying on my bed like WHYYYYYY. The pretty wine glasses sucked me in :(\",\n",
       " \"@Akon @Tyrese where's your album akon :(\",\n",
       " '@sulliyahh sorry i didnt update you i went somewhere :(',\n",
       " 'The never ending nightmare is still never ending :(',\n",
       " '@hugeboysmh YA! YA SONG MINO! WHERE ARE YOU? :(',\n",
       " 'crazyyyy thooo zz from airport straight away to soundcheck and concert :(',\n",
       " '@obscurro hmm is this tweet antagonistic? I literally do sing the obs song :(',\n",
       " 'PHANTASY STAR ONLINE 2 IP Issue\\ni was so happy i could finally play the game then this... so sad :(\\nhttp://t.co/du7Z6cjYVm @Asiasoft_Live',\n",
       " \"Bruce just won't smile :( http://t.co/UwldCQkcoq\",\n",
       " \"Its 2:30 in the morning\\n#SleepDeprived\\n#TiredAsHell\\n#Looking4ASpot\\nEven #Kinara's Closed.. :(\\nWe then Chill at #Awami http://t.co/T47BRjzsz5\",\n",
       " 'Of course :( :( .. I don\\'t understand &gt;&gt;&gt;\"@khalila_: Y\\'all gonna ignore @Calvin_Muca questions huh? Niqqa is desperate need of answers lol\"',\n",
       " '@Sibulela_M why must you be so tiny :(',\n",
       " 'so after 2 weeks only mockingjay was left well that was slow :(',\n",
       " '@jenxmish @wittykrushnic you are the only thing that i need :(',\n",
       " '@DrishyamTheFilm @Team_AjayDevgn @ajaydevgn Not fair with us from Pb.contestants our dreams not comes true this time :(',\n",
       " '@CraziestMocha I wish :(',\n",
       " '@laurenecurrann snakes on you??:(',\n",
       " 'My cycle is coming soon :(. Woe is me.',\n",
       " '@Shrimp_89 @KianEganWL Aarww...I wish I could be there too :( xx',\n",
       " 'Lol the person i want to hug i cant :( lmbo dangit i miss people to much , cant help it though',\n",
       " \"I can't sleep now what the heck :(\",\n",
       " '@_eMCeeeee ohmygod worst case scenario na tooooooo :((((',\n",
       " 'Nice weather if ur a fucking duck :(',\n",
       " '@pieterebersohn where are you watching the game? :(',\n",
       " \"Awwww Baechyyy it's okayyyy :( Lol it's cute actually haha http://t.co/dN83gHOw3y\",\n",
       " 'did noone live for my drag drawing ok :(',\n",
       " 'This started with a picture :(( seriously  #ZaynIsComingBackOnJuly26',\n",
       " '@YHMFans @TheKaranPatel #Misundersranding days chal raha hai #YHM me :(',\n",
       " 'Edsa y u do dis 2 me\\n\\nSo tired. Just wanna go home :(',\n",
       " 'My SNAPCHAT - JasminGarrick #snapchat #kikmeguys #snapchat #webcam #milf #nakamaforever #kiksex :( http://t.co/j0GGCcW3Dg',\n",
       " \"@leesasana @Francesca092391 tried tweeting UNICEF's accounts but no answer from them :(\",\n",
       " '@kristinexvilla @larssycutiee fu all :(((((',\n",
       " 'Home alone :(',\n",
       " \"@Uber has anyone managed to get ice cream? I've been on my app from 1 Stephen Street for last 35 mins and no free vehicles have appeared :-(\",\n",
       " 'So Much New Music that I cant record yet coz my voice is gone :( #Frustration',\n",
       " '@NathanSykes I think you could do with a hug right now more than me. :(  Poor thing!  Sent you DM if interested. Hope you get better soon!',\n",
       " \"@Tsholo_Mapz I don't like you :(\",\n",
       " 'Woza @Pale_Entle2 Please take me with you :-( https://t.co/YJ6NgRL5AD …',\n",
       " '@kaisoography very good read promise :(',\n",
       " 'MY kik : senight468 #kik #kikmeboys #gay #teens #amateur #travel #hotscratch :( http://t.co/1KmYuz66RN',\n",
       " \"Should I still sell socks? It's too expensive :-( 150-160 pesos is so expensive + you gotta pay for the sf :-( http://t.co/JYLqWawIog\",\n",
       " \"I don't think I can watch degrassi for about 4-6 nights :((\",\n",
       " '@khushirkd @dpcrazen1001 no bcz kat rejected! i like their chem onscreen tho...ofscreen,he kinda ignores her:(:(',\n",
       " 'Pak saturday classes, pak monthly test :(',\n",
       " '\"Please don\\'t put your life in the hands of a rock n roll band who throw it all away\" oh the irony :(',\n",
       " 'GUYS add my KIK : rhisfor500 #kik #hornykik #bestoftheday #chat #snapme #summer #camsex :( http://t.co/ldbydFruxA',\n",
       " '@ApparentlyShane Why did you unfollow me :(',\n",
       " '@GothicFrog Sad to see you go\\xa0:( Was there a particular issue? The support team can help: http://t.co/MCvOjHPVLv #fxhelp',\n",
       " 'Really missing my family, friends, bae and Poopie :(((',\n",
       " '@GazetteBoro @often_partisan ? Have we been pipped to the post do you think?  :-(',\n",
       " 'Life never felt so good :(',\n",
       " \"Uff, don't feeling too well today tbh :(\",\n",
       " '@nba2kmobile @MyNBA2KRT @mynba2k15credit I would but have only 1.300 credits :(',\n",
       " \"@KumonePina_bot Just for that, you won't get a cupcake!! &gt;:(\",\n",
       " '@davygus Glue factory for Kuchar :-(',\n",
       " '@jenandmish @wittykrushnic please stay, with me :(',\n",
       " '@nathan3205 OMG THAT CAME FAST! You graduate at the end of the year?! I know :( catch ups are a definite (what we did best at uni anyways)',\n",
       " \"@Silverio_Lanzzz @ObeeyRainbow same..i don't know why :((\",\n",
       " 'thinking about @StereoKicks again :(',\n",
       " \"my EE account still isn't working :(\",\n",
       " \"@crosseyesmiley I didn't see you :(\",\n",
       " 'Tommy and Georgia are so cute they actually hurt my heart :( :( :(',\n",
       " '@21oclock :((( bout to instant transmission',\n",
       " '@daiIysolos zayn malik please :((',\n",
       " '@angelhairhes i dont know what to dm you :((',\n",
       " '@FatinYzd sigh orang suma no time for me :-(',\n",
       " \"It's not the off shouldeeerr outfit sad :(\",\n",
       " \"@OloapZurc damn. Hopefully! We deserve one since it's been ages since our last repack (i wont mention how boy groups gets repacks always) :(\",\n",
       " '@charleybilton little charles all grown up :( remember when we dyed your hair and it went rihanna red hahahaha that aint no ginge xxx',\n",
       " 'without you :(',\n",
       " 'it scared me :(',\n",
       " '@BootsAndSneaks no boots like that as such! The closest thing I have to boots are my high top nikes and Adidas haha :(',\n",
       " '@lilaclarents Oh no sorry to hear this :( please can you email the information to pro@illamasqua.com instead and they can manually set up? x',\n",
       " '@xojustineeox same! :(',\n",
       " '@benedicksawal ifeelyou :(',\n",
       " \"Training felt harder today..that's what happens going to bed too late n waking up earlier than usual :( #RatBagLater\",\n",
       " \"@Vanessauhhh he doesn't win any :(\",\n",
       " 'who wants to watch paper towns with me tomorrow :(',\n",
       " 'Did badly in the second semester :-(',\n",
       " 'never drinking gin again :(',\n",
       " '@KittyKatPK I hope so :(💜',\n",
       " 'Gutted for Reynold. The kind of desserts he has done this season :(',\n",
       " \"@LeeEvansBirding @pennystocksusa That's a village thing everywhere in the world. It's different in big cities, unfortunately :(\",\n",
       " '@Craig_J_Hastie @MassDeception1 uniting oppressed masses can take forever :( look wat happened n afghanistn,war tore it &amp; it ended n s**t.',\n",
       " \"did sunggyu injure his hand yesterday there's a plaster on his hand?? :(\",\n",
       " \"Sad bc I had a dream that all the boys rtd me, Louis &amp; harry followed me but then I woke up &amp; it wasn't true. :(\",\n",
       " '5sos hated our crowd :-(',\n",
       " 'Please take me with you :-( https://t.co/0foUNK2onJ',\n",
       " '@lorenzosilves omg hi!! I miss you guys so much :(',\n",
       " \"I should be working on that stadium, I'm a boss welder :(\",\n",
       " 'omg I wanna hear ghost stories :(',\n",
       " '@WordOfTheFree ago hogo vishaya all adu. BJP madatte anta vishwas ne illa. :(',\n",
       " 'summer weather wua :-(((',\n",
       " 'I tried to sleep but I noticed my picky finger started to swell up and :( ugh omg',\n",
       " 'one of my favourite mutuals just unfollowed me :((',\n",
       " \"I said gn along time ago my ass can't fall asleep :(\",\n",
       " \"I can't sleep :( http://t.co/7IiyoPYtXl\",\n",
       " 'kik - thenting423 #kik #kiksex #omegle #skype #amateur #sabadodeganarseguidores #sexual :( http://t.co/VcRhaDOqPt',\n",
       " \"@ApplePieQueen_ I haven't even watched any it just syncs from plug.dj :(\",\n",
       " 'My nose and forehead are peeling :(',\n",
       " '@NaakiiChan my mum :(',\n",
       " 'Car &amp; suspemsion cant cope with all these offroading adventures now theres harvest machinery left in inapropriate places to weave around :((',\n",
       " '@WinterJeff hahahaha were going nowhere fast. Not without some decent investment. Scottish football is dire at the moment :( #nomoney',\n",
       " '@touchdamendes are you ok :( Im here if you want to talk',\n",
       " '@_yungthot ur not in the nawf :(',\n",
       " '@larriii7 do sum :( .',\n",
       " '@xcorben_ Bechos. :(',\n",
       " 'danny :( @TheScript_Danny',\n",
       " '@nekrotizan sorry :(',\n",
       " \"♥ [ENG] ♥ - Let's talk, since can't stream games :(: http://t.co/Br36TjVYNd\",\n",
       " '@Tsholo_Mapz OVERLY please do  my lab for me :(',\n",
       " '@zappygolucky OMG LOVE IT TY ZAP :((((((',\n",
       " '@lawandsexuality that makes really distressing reading :-(',\n",
       " \"Don't wanna live in the world where people get shot when going to cinema #LouisianaShooting :((\",\n",
       " '@nws1886 Yeah ... I got this shit in a bag. \"Laughing in the face of anxiety\" har har har. I think ! :( how\\'s it go, chum? Out this weekend?',\n",
       " 'just ended ncc and now heading to training. gonna be late :-(',\n",
       " '@1DInfectionMNL I miss them :( I hope they will come back here in PH :(( balik naman kayo oh @onedirection',\n",
       " 'Itong shirt oh! :( I want thaaaat!!! :(( (ctto) http://t.co/YILATtPk6W',\n",
       " 'Expired and I used BIS money now I\\'m broke ):(\"@TheActualKing: @portiatearsbee you got BB where is your BIS?\"',\n",
       " '@ObeeyRainbow this makes me feel bad :(',\n",
       " \"@thomsk93 @KnucklePuckIL @CantSeeColour will listen tonight, it's tough having a full time job :-(\",\n",
       " 'Leave me alone :(',\n",
       " 'started reading at 11 and now its 3:33 :( jfc time flies by',\n",
       " \"Goodbye stage :( you'll be miss\",\n",
       " 'New bio. Bodo amat :-(',\n",
       " '@KadiDiallo4 thats it! Watch it go by quick though.. :(',\n",
       " 'All of my friends are asleep :(:(:(',\n",
       " '@triassy yelaaaaaaa :(',\n",
       " 'Sooooooooooo tired :(',\n",
       " '@espresso_based is that you? what happened? :(',\n",
       " 'want to sleep but not tired :((',\n",
       " 'Home time today for me and @ASTownley :( #dublin http://t.co/EZRfqqlzXc',\n",
       " 'Someone have a harry potter marathon with me :((',\n",
       " 'tbh i miss you :(',\n",
       " \"I don't know how to find a balance :((((\",\n",
       " '@THESCORCHCRANKS WHY DO YOU HAVE TO UNFOLLOW ME?:(',\n",
       " \"Want a big hug.\\nWant a sweet smile.\\nWant a warm eyes.\\nSince this moment I can't have it.\\n:(\",\n",
       " \"@ForbiddenPlanet @ValiantComics @MyZombies Would so love to win! Can't afford to buy comics at the moment and I'm pining for them! :(\",\n",
       " \"@teamkins Oh this isn't good to hear :( What have you been asked to provide exactly?\",\n",
       " \"@lancepriebe Is there any chance you could add a keybind feature to Wild Warfare? Because I can't change my controlls so I can't play.. :(\",\n",
       " \"Been diagnosed wiv Scheuermann's disease.......back bone rlyhurts howdo u do it georgesampson cant stand da pain can't do P.E :( x\",\n",
       " '@ManasRM @AnjariaSameer @Airtel_Presence where is #voice signal? Not able to make calls :-( http://t.co/iF9jbN3cgm',\n",
       " 'What do we reckon are the chances of me seeing any #T20 action in #Taunton tonight??? *hopeful but realistic face* :-(',\n",
       " '@z1mb0bw4y and 2 weeks of vacation, which I dont have... :(',\n",
       " 'i love you :(  http://t.co/1q9EZyGWXI',\n",
       " 'ugh im so excited for made :(((((((((((((((((',\n",
       " \"@kohquette you're good and you should feel good!!! :(\",\n",
       " '#JusticeForSandraBland #SandraBland this is disturbing just shows the poor women was already dead in the mug shot :( https://t.co/K17rqTUbeH',\n",
       " 'sick of this feeling. :( i just wanna be happpy',\n",
       " \"justinbieber can u pls follow me on &gt;daianerufato&lt; i've been trying for too long :( ilysm bae! xx (July 24, 2015 at 07:34AM)\",\n",
       " '@ManLikeSergio Delphy Injured :(',\n",
       " 'weak at dom :( DOM TECHNIQUES?! https://t.co/5WyrdvjzSf',\n",
       " '@jaimelesgyozas ah mince :(',\n",
       " \"@BAP_Bangyongguk I don't feel good :(\",\n",
       " '@LuciHolland I completely forgot about Final Symphony :(\\nNeed to meet up again sometime soon with Joe and co.',\n",
       " 'Tbh me too but they now busy wth their concert schedule :( aisyhhh https://t.co/16pOubmvlX',\n",
       " \"@clunis_96 I haven't been eyed up since I started going bald at the age of 14 :(\",\n",
       " 'Only SeungChan cant get :( Aigooo My Riri',\n",
       " '@iainbruce not good :(',\n",
       " 'My original ticket was £19 :(',\n",
       " \"@Jakers787 depends on when I have a vet visit for sick cat :( I'll let you know?\",\n",
       " \"@jenxmish @wittykrushnic don't leave :(\",\n",
       " \"i don't wanna get up :(((\",\n",
       " \"@elyusia i can find most major people EXCEPT his VA\\n\\ni'm not sure if they just kept it same as luminous but they didn't do that in kms &gt;:(\",\n",
       " '@countrychoiceID min follback :(',\n",
       " '@martinamegia_ its been treating me horribly ugh :( im v happy for u !',\n",
       " \"@kristikay13 Good morning! Hope it's a productive one for you. Time for me to get ready for work. :(\",\n",
       " '\"zayn\" starts with a small letter Z. Why? :( @Real_Liam_Payne',\n",
       " \"@lifelesscurves they're really unique and refreshing :( the popularity was great too. Just why...just why &gt;_&gt;\",\n",
       " 'Once you start loving someone, it’s hard to stop.\\n*Bebeeeee :(',\n",
       " 'CHEM LT WAS NOT NICE :(((',\n",
       " '.@sabal_abla @tanha_messiah Because people who point out inaccuracies in jokes might be inaccurate jokes. I got worried :(',\n",
       " '@DarkSkinnedToni burning rn like this is so tragic :(((',\n",
       " 'I woke up really hungry :(',\n",
       " 'I love Joy :(',\n",
       " 'INFINITE GOT TO WIN &gt;:(',\n",
       " '@PlanetRockRadio Sam I have seen rush 19 times. Would have been 20 in Toronto until my flight was cancelled on day of the show :( stuart',\n",
       " \"Party's goodbye stage :((\",\n",
       " \"Iyalaya to anybody that would laugh at me today. I'd just have to wear my shades round the clock.:(\",\n",
       " 'What is this ??? #ZaynIsComingBackOnJuly26 :( ;(',\n",
       " '@godstalia aw fuck that sucks :((',\n",
       " \"@sianyw As if he wouldn't be happier here running around my house wearing a H&amp;M shirt. :(\",\n",
       " '@Mars_Sum41 noooo :( goodbye fun driving',\n",
       " \"I'm bored :( this one ubusy le fifa -_-\",\n",
       " '@lorrainepalileo @cailaaah i wanna go gymnastics with you guys :(( haha',\n",
       " \"I'm so sick aahhhh i hate this feeling :-(\",\n",
       " 'Ok, back to work :( http://t.co/QFtLZ2Cl0w',\n",
       " 'My poor noggin! Bumped it a few days ago and it still hurts a little. :( #feelslikeanidiot',\n",
       " \"I'm forever eating like  Pregnant woman these Days :-(\",\n",
       " 'Ugh :( My head hurts.',\n",
       " 'i dearly miss and love my sunshine @zaynmalik :-(',\n",
       " '@PatelPatelxx @Starbucks can suk ma buttttttt. except their pumpkin scones.... but they havent made those in years :(((',\n",
       " 'love outnumbered so much, wish there were more to watch :(',\n",
       " 'vidcon :(((',\n",
       " '@ErisLovesMovies :( Feel better soon, Eris. #support',\n",
       " 'Hello ;3 geez.. i badly miss my 12 precious stars :( EXO&lt;3',\n",
       " '@Beyfan1981 @HateTheseFools Yes Hive always sucks at voting... that is shit :((',\n",
       " \"They said #GOT7 will back to #VIETNAM this december !!!!! I DUNT THINK SO AWWWWWWWW :(( DON'T KID ME !!!!\",\n",
       " '@marmaisxcz IKR :( lol',\n",
       " 'can you hear my sobbing :((( http://t.co/Daoz0uAQGC',\n",
       " 'so cute :( http://t.co/hhhWQQ1Nh3',\n",
       " \"@sociopathslut @onikashabibi but why don't I have buff legs yet :(\",\n",
       " 'noo toni deactivated too?? :(',\n",
       " \"Bra Shady's kisses though!  :-( #Isibaya\",\n",
       " 'this place will forever hold a very special place in my heart :-( ❤️ gonna miss you Germany 😓 http://t.co/fwDwYoVEPV',\n",
       " \"Haven't really slept all night :( I'm in a different place where it's a little colder. Hopefully that will help. Took some meds\",\n",
       " \"Leaving for the airport soon :( don't wanna go home.\",\n",
       " '@clemencycox i want a sausage roll :-(',\n",
       " 'Rain rain go away :(',\n",
       " 'work adios friends :(',\n",
       " 'I have a cold sore :( ew h8 this. Help',\n",
       " \"What's wrong with my fb messenger :((((\",\n",
       " 'I wish my band were shittier so we could get booked on Leno :(',\n",
       " 'Identity crisis :(',\n",
       " '3:33 am and all of my roommates are officially knocked out :( so much for an all nighter',\n",
       " \"A bird just flew into the window and now it's dead :-(\",\n",
       " '@damnkathleen come thru b I miss you :(',\n",
       " '@XxJenniferAmyxX Derek likes to tour &amp; visits Wetherspoons Pubs across the UK. Get Police to contact their H/O. Hope he OK. :(',\n",
       " '@LittleMix PLEASE FOLLOW ME :(',\n",
       " 'Even had a dream that Frank Ocean released his new album ffs pls :((((',\n",
       " 'Snapchat me : LisaHerring19 #snapchat #kikme #kikmeboys #woman #ebony #weloveyounamjoon #sexi :( http://t.co/zVTYSy29uk',\n",
       " \"Don't know why I gave my white dress with small polka dots away :( 😭😭 *sigh* ndi hacked.\",\n",
       " 'I miss my baby :-(',\n",
       " \"@HerFaithness it is &amp; I'm already having a bad day :-(\",\n",
       " '@erinaree It was SO yum but I had to feed 6 so no leftovers :(',\n",
       " \"@dullandwicked @_GrahamPatrick @JohnBoyStyle Has nobody told you about this side of twitter? It's in the T&amp;Cs. He owns you now. Sorry. :(\",\n",
       " 'The last dick pic I got was awful. It ruined walnut whips for me for life :-( \\n\\nI also named him and it turned out his wife followed me.',\n",
       " '@Vicionius Boah! :(',\n",
       " \"Things are hard right now, &amp; I can't even be home with Mady to help me through it. :(\",\n",
       " 'i am so :((((((',\n",
       " '@EpicRaver I know :(',\n",
       " \"@NatalieH__xx aww no but it's my last semester ever!! :( we def have to catch up sometime soon. We always leave it too long\",\n",
       " 'This manga is just too cute and yet made me cry.. :( http://t.co/KB6GswBxMT',\n",
       " '@LouiseMensch Just like that here at the moment....not. :-(',\n",
       " \"I ate all the leftovers of the giant #AmINormalYet cookie for breakfast and now I'm clutching my poorly tummy in my PJs and groaning :(\",\n",
       " '@ghinesaddi miss you :(',\n",
       " '@_stroya nou youre not :-( here have a picture of Adam http://t.co/WEvVpVoAmx',\n",
       " '@sinSALEM this is a very sad moment :(',\n",
       " \"@lukelegs69\\rthat wouldn't be right :((\",\n",
       " 'Ken Saras. Waiting for my sister. She was in accident. So poor :( https://t.co/44TvKaVDCJ',\n",
       " '@Rorington95 did they manage to sort your ticket issue mate? Nobody picked up when i rang the box office :(',\n",
       " 'Fk!!!!! I have no freaking words to describe this.... Eric Prydz How? like how? :( This is out of the world!! http://t.co/W5uDTzdhAi',\n",
       " \"Not 12 hours after my sister-in-law installed that new @DionoUSA seat we bought her she was rear-ended! everyone's fine but seat is trash :(\",\n",
       " \"For the first time in my life I've had to hold my boobs whilst running down stairs, is my no bra life over :(\",\n",
       " '@ljenkins314 @fringenerd @Noin007 I like paper books :(',\n",
       " '@SensodyneIndia we friends love to eat ice cream during childhood. Missing those days :( #Toothsensitivity',\n",
       " '@father me too :-(',\n",
       " '@Belinda_Factor stressful :( you not even my dress size ke shem..',\n",
       " 'Trust me to be no well :( Awell not be long and I will be to drunk to care #weekendofmadness 🍹🍸🍹',\n",
       " 'i really like this cb but not the outfit this time too bad :(',\n",
       " '@lucyreesxo She threatened me :(',\n",
       " 'i wanna be a dancer \\nno\\ni wanna be a choregrapher\\nbut \\nI CANT :(\\nwhyyyyyyyyyyyy is life so unfair',\n",
       " '@KittyKatPK happening anymore :(',\n",
       " \"@curiouskittten didn't even know you still existed on here haha text me :( 626-430-8715\",\n",
       " \"@subharrie @roguefond i've messaged her but she hasn't replied and i dont even think she's active on facebook :(\",\n",
       " \"@MlREU but i'm at work you hoe xD i can't even look at bby in peace :(((\",\n",
       " '@suziepanol WHY DO THAT TO US :(',\n",
       " 'Well it seems like just a dream :(',\n",
       " \"Dream team recording today :((( im sad xiu couldn't make it :(\",\n",
       " 'Nk gi uss on birthday :(',\n",
       " \"@HollieB awwwwww, I'm so sorry to hear that :(\",\n",
       " '@ElisseJoson miss you so much ate elisse :(( do u still remember me? 😭',\n",
       " 'i miss them so much :(',\n",
       " 'ksoo makes me so emo :((((((((((((((((((((((((((((((((',\n",
       " 'Wat a small session tat was :(..but still im little happy bcoz for the first time i heard my name from @rithvik_RD..but still too short..',\n",
       " \"@Doomcrew_Glen awwwww i'm so sorry. :( i bet she's looking down on you&lt;33\",\n",
       " \"no matter how many times i try to sleep... i can't :(\",\n",
       " '“@shakyra_cledera: \"paper town\" :--((((” sm :(((',\n",
       " \"@wittykrushnic don't go :(\",\n",
       " \"I'm going to miss you baby! :(( @ Rancho Imperial de Silang Subdivision https://t.co/b5JvTqpm4N\",\n",
       " 'traffic :-(',\n",
       " 'Twitter Help Center | Why can&amp;#39;t I follow people? https://t.co/LeL2yOp3Iq via @support i really really sorry about following evry one :(',\n",
       " '@franksredhotuk Its not hot in Cornwall! its veritably cold :( great prize xx',\n",
       " '@hancoverdalexo aww :( thanks anyway!!',\n",
       " 'Regular gym workouts are so boring when you could be spinning :(',\n",
       " \"I can't do it anymore. I can't have stress on my body yet my life is based upon stress I just can't do it :(\",\n",
       " \"@ManOfZinc And I don't see a penny of it... :-( DM me your email address; I'll send you the ebook.\",\n",
       " 'Фотосет: addicted-to-analsex: sweetbj: #sweetbj #blowjob Mhhh, want to make a man happy now :( http://t.co/v9ryND7pcs',\n",
       " 'im sed.. :-( the person im meeting is late and im at the other end of sg and i havent taken my dinner yet bless me',\n",
       " '@willing_h I feel left out :(',\n",
       " '@mblaq_seungh0 THEN WHY MENTION MEE OMG /envious/ please oppa eonni stop lovey dovey in front of your poor single dongsaeng :(',\n",
       " \"@ShannonEastwood I'm workin :( got a day off Tuesday tho haha x\",\n",
       " '@ulaaaaa1909 Schade :(',\n",
       " '@CuddlesAri I am gutted! they NEVER do m&amp;g for Belfast :(',\n",
       " '@klentmagsino im so jealous.. :( because you followed each other with Jacob @JacobWhitesides .. follow me too. Jacob :(',\n",
       " 'isco :(',\n",
       " '@ImRefleex my penis is too small :(',\n",
       " 'omg me every fucking month... :( https://t.co/FX0CGVPDMX',\n",
       " 'I wish my dog liked to cuddle :(',\n",
       " 'Come on Carlton :(',\n",
       " '@MOONEMOJAI babe :( can u still read thru the conversation on ur hushed?',\n",
       " \"Sometimes I wonder what went wrong :( guess I'll never know\",\n",
       " 'And more violence... :(  ...we are a Soul Sick nation...praying for Louisiana.\\n#Lafayette #matteroftheheart #peace',\n",
       " 'waduh..pantes :( https://t.co/AWS63BItZA',\n",
       " '@keelzy81 you know, I actually got suspended for smoking, can you believe it? Teenage me was such a fucking cliche :(',\n",
       " 'Already miss @mikeyyfontt so much :(',\n",
       " '@BocasSweets I miss youuuu :((((',\n",
       " 'Today #RMA jersey :(',\n",
       " '@ButDinero your so fake I texted you :(',\n",
       " '@Earl_Wolf24 not you :(',\n",
       " \"♥ [ENG] ♥ - Let's talk, since can't stream games :(: http://t.co/bkNxSZfjm6\",\n",
       " '@RuneMagique chance :(',\n",
       " 'Snapchat me - JaclinTiler #snapchat #snapchat #teens #models #likeforlike #mpoints #hotfmnoaidilforariana :( http://t.co/xxuygooKcq',\n",
       " '@superslothjai hi, can you do me some dms with luke please??:(',\n",
       " '@AmandaT_Photo @OandtheFoxes really wanted to but ran out of time :(',\n",
       " 'i hate waking up in the middle of my sleep :(',\n",
       " 'he he he :(',\n",
       " \"@rupexo @LordOfTheMics fuckkk it's a Wednesday :(\",\n",
       " '@PetiteMistress DO IT! I want to start one for making small games, but I feel like I need to get a jump start before asking for support :(',\n",
       " 'Justin where are you ? :( @justinbieber',\n",
       " \":( :( I'm gonna cry\",\n",
       " \"@IanHallard @ArtsTheatreLDN I'm really excited but also really sad because once again I won't be able to see it :(\",\n",
       " \"I can't finish my Sanum today! :(\\n#LLAOLLAO #Dessert but too full\",\n",
       " '@jxstkatie @TheSvante i want foood :((',\n",
       " 'Last day :(',\n",
       " '#UberIceCream was super! But we didnt get the glares :( @Uber_Pune',\n",
       " \"@ffyeahh i don't know how to do vines :(\",\n",
       " \"@selenagomez you was Tweetin earlier this morning &amp; i wasn't here :( sad mood all the day :(\",\n",
       " 'sunggyu has a plaster on his elbow.... is it from the fall? :-(',\n",
       " '@ughimnotsam i am in the middle of figuring out how to choreo :(( next time girl!!',\n",
       " '@Afooo93 😭 this is me thinking she was well offensive, how can you laughing :(',\n",
       " \"@NEEDTOBREATHE love you..sad I wasn't up front :(\",\n",
       " 'YEYY finally but my HD brows kit is broken slightly :(( @cohorted http://t.co/5CNhhfJpnJ',\n",
       " '@alexandraloisee Monday until wednesday, g na girl!!!! :(',\n",
       " 'Babe :(',\n",
       " 'I miss everyone omg :( school sux :(',\n",
       " '@gelcababa enjoy :(',\n",
       " 'Add my KIK : nothaveld765 #kik #hornykik #edm #sexy #likeforfollow #hannibal #camsex :( http://t.co/EHtsuDdRuA',\n",
       " 'new mosquitoe bites :(',\n",
       " '@CRMDKS are you into kinky shit--- we hsould justget married already : (',\n",
       " 'really dont wanna go home today :(',\n",
       " '@Idamelatim you la :(((',\n",
       " 'when nothing like us comes up on shuffle :((',\n",
       " '@notch hmm. I have been thinking about getting one for a while. Might get one inte future. I really miss buckling springs :(',\n",
       " 'Ah Millz askies :( \"@_Millzxy3D: so you come back and awusasho ? :\\'( @Nessa_Mbeki\"',\n",
       " '@sainsburys guys a really unlucky one. The driver and I briefly checked eggs but my other half spotted this : ( http://t.co/WpCqJHhBVk',\n",
       " 'Tired :(',\n",
       " 'im greatful that i can still see u despite of 144p :(',\n",
       " \"@pikaiba I LOVE BROOKE I'm just concerned cause his face is all cracked :(\",\n",
       " '＠maverickgamer_\\u3000July 24, 2015 at 07:32PM \\u3000:(',\n",
       " '＠maverickgamer_\\u3000July 24, 2015 at 07:25PM \\u3000:(',\n",
       " 'Bored to the max rn :(',\n",
       " '@tudipa Sorry that manage files on external SD card via AirDroid is not supported now (Android 4.4+) :( Google has restricted that.',\n",
       " '@fkluca u are so cute thank u :(',\n",
       " \"@MICHAELC24H it's alright... cramps are killing me. :-(\",\n",
       " \"MAYBE IT'S WRONG TO SAY PLEASE LOVE ME TOO &lt;/3 :(\",\n",
       " '@blockedmefat dont unstan tay :( never please',\n",
       " \"@Sibulela_M only white things I have ngeze turn up :( for all white parties I've been to. Have nothing cocktaily and classy 😭😭😭 so stressed.\",\n",
       " '@wbuharryy i love you :(',\n",
       " '＠maverickgamer_\\u3000July 24, 2015 at 07:24PM \\u3000:(',\n",
       " \"I don't want to be stuck inside all day :((\",\n",
       " '@cmonlukey all of them :(',\n",
       " '@BeardOfTsu @LucasWeatherby @ChrisJLatimer @Alex_AMS96 it came crashing down and it hurts inside :(',\n",
       " \"✈️2 days and I'm back in rainy UK :-(☔️\",\n",
       " \"@peterpalmer52 Hi Peter, We've not had pens for 2 years now. We just can't get them. There's not even spares in the office anymore either :(\",\n",
       " '@Biblioticaa I got delayed by guests. Sigh :(',\n",
       " \"@riseagainst why you don't come to Barcelona this year? :( won't be able to see you in Madrid or Bilbao...\",\n",
       " 'I hate Japanese call him \"bani\" :( :(',\n",
       " 'wish I had a nice booty :-((((',\n",
       " \"Who was next?? Oh yeah Sharyl! Currently don't got no #Shane ta call my own :( http://t.co/mOZlqwvvq0\",\n",
       " 'all of my favourite people deactivate :(',\n",
       " 'I want to dance rn :(',\n",
       " 'im still giddy over d1 :-(',\n",
       " 'his smile is so beautiful :( https://t.co/OiAHorQJOb',\n",
       " '@heidsbland @asos95 yes, after 11 days. With a broken zipper.  Broken beyond repair. :(',\n",
       " ...]"
      ]
     },
     "execution_count": 77,
     "metadata": {},
     "output_type": "execute_result"
    }
   ],
   "source": [
    "twitter_samples.strings('negative_tweets.json')"
   ]
  },
  {
   "cell_type": "code",
   "execution_count": 103,
   "metadata": {},
   "outputs": [
    {
     "data": {
      "text/html": [
       "<div>\n",
       "<style scoped>\n",
       "    .dataframe tbody tr th:only-of-type {\n",
       "        vertical-align: middle;\n",
       "    }\n",
       "\n",
       "    .dataframe tbody tr th {\n",
       "        vertical-align: top;\n",
       "    }\n",
       "\n",
       "    .dataframe thead th {\n",
       "        text-align: right;\n",
       "    }\n",
       "</style>\n",
       "<table border=\"1\" class=\"dataframe\">\n",
       "  <thead>\n",
       "    <tr style=\"text-align: right;\">\n",
       "      <th></th>\n",
       "      <th>text</th>\n",
       "      <th>label</th>\n",
       "    </tr>\n",
       "  </thead>\n",
       "  <tbody>\n",
       "    <tr>\n",
       "      <td>0</td>\n",
       "      <td>#FollowFriday @France_Inte @PKuchly57 @Milipol...</td>\n",
       "      <td>positive</td>\n",
       "    </tr>\n",
       "    <tr>\n",
       "      <td>1</td>\n",
       "      <td>@Lamb2ja Hey James! How odd :/ Please call our...</td>\n",
       "      <td>positive</td>\n",
       "    </tr>\n",
       "    <tr>\n",
       "      <td>2</td>\n",
       "      <td>@DespiteOfficial we had a listen last night :)...</td>\n",
       "      <td>positive</td>\n",
       "    </tr>\n",
       "    <tr>\n",
       "      <td>3</td>\n",
       "      <td>@97sides CONGRATS :)</td>\n",
       "      <td>positive</td>\n",
       "    </tr>\n",
       "    <tr>\n",
       "      <td>4</td>\n",
       "      <td>yeaaaah yippppy!!!  my accnt verified rqst has...</td>\n",
       "      <td>positive</td>\n",
       "    </tr>\n",
       "    <tr>\n",
       "      <td>...</td>\n",
       "      <td>...</td>\n",
       "      <td>...</td>\n",
       "    </tr>\n",
       "    <tr>\n",
       "      <td>4995</td>\n",
       "      <td>I wanna change my avi but uSanele :(</td>\n",
       "      <td>negative</td>\n",
       "    </tr>\n",
       "    <tr>\n",
       "      <td>4996</td>\n",
       "      <td>MY PUPPY BROKE HER FOOT :(</td>\n",
       "      <td>negative</td>\n",
       "    </tr>\n",
       "    <tr>\n",
       "      <td>4997</td>\n",
       "      <td>where's all the jaebum baby pictures :((</td>\n",
       "      <td>negative</td>\n",
       "    </tr>\n",
       "    <tr>\n",
       "      <td>4998</td>\n",
       "      <td>But but Mr Ahmad Maslan cooks too :( https://t...</td>\n",
       "      <td>negative</td>\n",
       "    </tr>\n",
       "    <tr>\n",
       "      <td>4999</td>\n",
       "      <td>@eawoman As a Hull supporter I am expecting a ...</td>\n",
       "      <td>negative</td>\n",
       "    </tr>\n",
       "  </tbody>\n",
       "</table>\n",
       "<p>10000 rows × 2 columns</p>\n",
       "</div>"
      ],
      "text/plain": [
       "                                                   text     label\n",
       "0     #FollowFriday @France_Inte @PKuchly57 @Milipol...  positive\n",
       "1     @Lamb2ja Hey James! How odd :/ Please call our...  positive\n",
       "2     @DespiteOfficial we had a listen last night :)...  positive\n",
       "3                                  @97sides CONGRATS :)  positive\n",
       "4     yeaaaah yippppy!!!  my accnt verified rqst has...  positive\n",
       "...                                                 ...       ...\n",
       "4995               I wanna change my avi but uSanele :(  negative\n",
       "4996                         MY PUPPY BROKE HER FOOT :(  negative\n",
       "4997           where's all the jaebum baby pictures :((  negative\n",
       "4998  But but Mr Ahmad Maslan cooks too :( https://t...  negative\n",
       "4999  @eawoman As a Hull supporter I am expecting a ...  negative\n",
       "\n",
       "[10000 rows x 2 columns]"
      ]
     },
     "execution_count": 103,
     "metadata": {},
     "output_type": "execute_result"
    }
   ],
   "source": [
    "positive = pd.DataFrame(twitter_samples.strings('positive_tweets.json'), columns=['text'])\n",
    "positive['label'] = ['positive'] * len(positive)\n",
    "negative = pd.DataFrame(twitter_samples.strings('negative_tweets.json'), columns=['text'])\n",
    "negative['label'] = ['negative'] * len(negative)\n",
    "tweets_df = positive.append(negative)\n",
    "tweets_df"
   ]
  },
  {
   "cell_type": "code",
   "execution_count": 108,
   "metadata": {},
   "outputs": [],
   "source": [
    "X_train, X_test, y_train, y_test = train_test_split(tweets_df.text, tweets_df.label)"
   ]
  },
  {
   "cell_type": "code",
   "execution_count": 158,
   "metadata": {},
   "outputs": [],
   "source": [
    "pp = Pipeline([('vectorizer', TfidfVectorizer(ngram_range=(1, 2), tokenizer=TweetTokenizer().tokenize, stop_words=stopwords_eng)), \n",
    "               ('classifier', \n",
    "                GridSearchCV(\n",
    "                    KNeighborsClassifier(),\n",
    "                    param_grid={\n",
    "                        'n_neighbors': range(1, 40, 2),\n",
    "                        'weights': ['uniform', 'distance'],\n",
    "                        'p': [1, 2, 3]\n",
    "                    },\n",
    "                    cv=5)\n",
    "               )\n",
    "              ])"
   ]
  },
  {
   "cell_type": "code",
   "execution_count": null,
   "metadata": {},
   "outputs": [],
   "source": [
    "%%time\n",
    "\n",
    "pp.fit(X_train, y_train)"
   ]
  },
  {
   "cell_type": "code",
   "execution_count": null,
   "metadata": {},
   "outputs": [],
   "source": [
    "print(classification_report(pp.predict(X_test), y_test))"
   ]
  },
  {
   "cell_type": "code",
   "execution_count": 140,
   "metadata": {},
   "outputs": [
    {
     "data": {
      "text/plain": [
       "'negative'"
      ]
     },
     "execution_count": 140,
     "metadata": {},
     "output_type": "execute_result"
    }
   ],
   "source": [
    "pp.predict([':('])[0]"
   ]
  }
 ],
 "metadata": {
  "kernelspec": {
   "display_name": "Python 3",
   "language": "python",
   "name": "python3"
  },
  "language_info": {
   "codemirror_mode": {
    "name": "ipython",
    "version": 3
   },
   "file_extension": ".py",
   "mimetype": "text/x-python",
   "name": "python",
   "nbconvert_exporter": "python",
   "pygments_lexer": "ipython3",
   "version": "3.7.3"
  }
 },
 "nbformat": 4,
 "nbformat_minor": 2
}
